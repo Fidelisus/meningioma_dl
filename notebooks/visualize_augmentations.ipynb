{
 "cells": [
  {
   "cell_type": "code",
   "execution_count": 1,
   "metadata": {},
   "outputs": [],
   "source": [
    "import importlib\n",
    "from pathlib import Path\n",
    "from typing import Optional\n",
    "from typing import Tuple, Dict\n",
    "\n",
    "import numpy as np\n",
    "import pandas as pd\n",
    "from matplotlib import pyplot as plt\n",
    "from torch.utils.data import DataLoader\n",
    "\n",
    "from meningioma_dl.config import Config\n",
    "from meningioma_dl.data_loading import data_loader\n",
    "from meningioma_dl.data_loading.data_loader import (\n",
    "    TransformationsMode,\n",
    ")\n",
    "\n",
    "import math\n",
    "from monai import transforms\n",
    "from typing import List\n",
    "\n",
    "from meningioma_dl.visualizations.images_visualization import visualize_images"
   ]
  },
  {
   "cell_type": "markdown",
   "source": [
    "## Load config"
   ],
   "metadata": {
    "collapsed": false
   }
  },
  {
   "cell_type": "code",
   "execution_count": 7,
   "outputs": [],
   "source": [
    "# Config.load_env_variables(\"../envs/ci_run.env\", \"jupyter\")"
   ],
   "metadata": {
    "collapsed": false
   }
  },
  {
   "cell_type": "markdown",
   "metadata": {},
   "source": [
    "## Create Data Loader"
   ]
  },
  {
   "cell_type": "code",
   "execution_count": 2,
   "metadata": {},
   "outputs": [],
   "source": [
    "from meningioma_dl.experiments_specs.preprocessing_specs import PreprocessingSpecs\n",
    "\n",
    "\n",
    "def get_data_loader(\n",
    "    transformations_mode: TransformationsMode,\n",
    "    preprocessing_specs: PreprocessingSpecs,\n",
    "    validation_set: bool,\n",
    ") -> DataLoader:\n",
    "    importlib.reload(data_loader)\n",
    "\n",
    "    augmentation_settings: List[transforms.Transform] = []\n",
    "    if transformations_mode.value == TransformationsMode.AUGMENT.value:\n",
    "        probability = 0.2\n",
    "        affined_translate = 8\n",
    "        augmentation_settings = [\n",
    "            transforms.RandStdShiftIntensityd(\n",
    "                keys=[\"img\"], factors=0.1, prob=probability + 0.1\n",
    "            ),\n",
    "            transforms.RandGaussianNoised(keys=[\"img\"], prob=probability, std=0.2),\n",
    "            # We need to mask after gaussian to avoid adding noise to the empty parts\n",
    "            transforms.MaskIntensityd(keys=[\"img\"], mask_key=\"mask\"),\n",
    "            transforms.RandRotated(\n",
    "                keys=[\"img\", \"mask\"],\n",
    "                prob=probability + 0.05,\n",
    "                range_x=math.pi / 4,\n",
    "                range_y=math.pi / 4,\n",
    "                range_z=math.pi / 4,\n",
    "                padding_mode=\"zeros\",\n",
    "                keep_size=False,\n",
    "            ),\n",
    "            transforms.RandZoomd(\n",
    "                keys=[\"img\", \"mask\"],\n",
    "                min_zoom=0.8,\n",
    "                max_zoom=1.2,\n",
    "                prob=probability,\n",
    "                keep_size=False,\n",
    "            ),\n",
    "            transforms.RandFlipd(\n",
    "                keys=[\"img\", \"mask\"], spatial_axis=0, prob=probability\n",
    "            ),\n",
    "            transforms.RandFlipd(\n",
    "                keys=[\"img\", \"mask\"], spatial_axis=1, prob=probability + 0.05\n",
    "            ),\n",
    "            transforms.RandFlipd(\n",
    "                keys=[\"img\", \"mask\"], spatial_axis=2, prob=probability\n",
    "            ),\n",
    "            # transforms.Rand3DElasticd(\n",
    "            #     keys=[\"img\", \"mask\"],\n",
    "            #     sigma_range=(0, 1),\n",
    "            #     magnitude_range=(3, 6),\n",
    "            #     prob=1.0,\n",
    "            #     rotate_range=(np.pi / 4),\n",
    "            #     padding_mode=\"zeros\",\n",
    "            # ),\n",
    "            transforms.RandAffined(\n",
    "                keys=[\"img\", \"mask\"],\n",
    "                translate_range=[\n",
    "                    (-affined_translate, affined_translate),\n",
    "                    (-affined_translate, affined_translate),\n",
    "                    (-affined_translate, affined_translate),\n",
    "                ],\n",
    "                prob=probability + 0.05,\n",
    "                padding_mode=\"zeros\",\n",
    "            ),\n",
    "        ]\n",
    "\n",
    "    labels_file = (\n",
    "        Config.validation_labels_file_path\n",
    "        if validation_set\n",
    "        else Config.train_labels_file_path\n",
    "    )\n",
    "    training_data_loader, _ = data_loader.get_data_loader(\n",
    "        labels_file,\n",
    "        Config.data_directory,\n",
    "        transformations_mode=transformations_mode,\n",
    "        batch_size=1,\n",
    "        augmentations=augmentation_settings,\n",
    "        preprocessing_specs=preprocessing_specs,\n",
    "    )\n",
    "    return training_data_loader\n",
    "\n",
    "\n",
    "# training_data_loader = get_data_loader(TransformationsMode.ONLY_PREPROCESSING)\n",
    "# data_loader_iter = iter(training_data_loader)\n",
    "# number_of_samples = len(training_data_loader)\n",
    "# first_sample = next(data_loader_iter)"
   ]
  },
  {
   "cell_type": "markdown",
   "metadata": {},
   "source": [
    "## Basic visualization"
   ]
  },
  {
   "cell_type": "code",
   "execution_count": 3,
   "outputs": [],
   "source": [
    "def visualize_transformations(\n",
    "    training_data_loader, transformations_name: str, show_mask: bool = True\n",
    "):\n",
    "    dir = Path(\".\", \"data\", transformations_name)\n",
    "    dir.mkdir(parents=True, exist_ok=False)\n",
    "    max_bounding_box = 0\n",
    "\n",
    "    try:\n",
    "        for i, d in enumerate(training_data_loader):\n",
    "            print(f\"Image {i}\")\n",
    "            filename = Path(d[\"img_meta_dict\"][\"filename_or_obj\"][0]).stem.split(\".\")[0]\n",
    "            visualize_images(\n",
    "                d[\"img\"], dir, [f\"{filename}_label_{d['label'][0].data+1}_img\"]\n",
    "            )\n",
    "            print(f\"Image shape: {d['img'].shape}\")\n",
    "            bounding_box = max(d[\"img\"].shape)\n",
    "            if bounding_box > max_bounding_box:\n",
    "                max_bounding_box = bounding_box\n",
    "            if show_mask:\n",
    "                visualize_images(\n",
    "                    d[\"mask\"], dir, [f\"{filename}_label_{d['label'][0].data+1}_mask\"]\n",
    "                )\n",
    "    except:\n",
    "        dir.rmdir()\n",
    "        raise\n",
    "    finally:\n",
    "        print(f\"max dimension: {max_bounding_box}\")\n",
    "\n",
    "\n",
    "# visualize_transformations(get_data_loader(TransformationsMode.AUGMENT), \"test2\")"
   ],
   "metadata": {
    "collapsed": false
   }
  },
  {
   "cell_type": "code",
   "execution_count": 6,
   "outputs": [
    {
     "name": "stdout",
     "output_type": "stream",
     "text": [
      "Image 0\n",
      "Image shape: torch.Size([1, 1, 24, 22, 20])\n",
      "Image 1\n",
      "Image shape: torch.Size([1, 1, 51, 55, 46])\n",
      "max dimension: 55\n"
     ]
    },
    {
     "ename": "OSError",
     "evalue": "[WinError 145] The directory is not empty: 'data\\\\train_only_load_2'",
     "output_type": "error",
     "traceback": [
      "\u001B[1;31m---------------------------------------------------------------------------\u001B[0m",
      "\u001B[1;31mKeyboardInterrupt\u001B[0m                         Traceback (most recent call last)",
      "\u001B[1;32m~\\AppData\\Local\\Temp\\ipykernel_2360\\1895684168.py\u001B[0m in \u001B[0;36mvisualize_transformations\u001B[1;34m(training_data_loader, transformations_name, show_mask)\u001B[0m\n\u001B[0;32m      8\u001B[0m     \u001B[1;32mtry\u001B[0m\u001B[1;33m:\u001B[0m\u001B[1;33m\u001B[0m\u001B[1;33m\u001B[0m\u001B[0m\n\u001B[1;32m----> 9\u001B[1;33m         \u001B[1;32mfor\u001B[0m \u001B[0mi\u001B[0m\u001B[1;33m,\u001B[0m \u001B[0md\u001B[0m \u001B[1;32min\u001B[0m \u001B[0menumerate\u001B[0m\u001B[1;33m(\u001B[0m\u001B[0mtraining_data_loader\u001B[0m\u001B[1;33m)\u001B[0m\u001B[1;33m:\u001B[0m\u001B[1;33m\u001B[0m\u001B[1;33m\u001B[0m\u001B[0m\n\u001B[0m\u001B[0;32m     10\u001B[0m             \u001B[0mprint\u001B[0m\u001B[1;33m(\u001B[0m\u001B[1;34mf\"Image {i}\"\u001B[0m\u001B[1;33m)\u001B[0m\u001B[1;33m\u001B[0m\u001B[1;33m\u001B[0m\u001B[0m\n",
      "\u001B[1;32m~\\Desktop\\meningioma_project\\meningioma_dl\\venv37\\lib\\site-packages\\torch\\utils\\data\\dataloader.py\u001B[0m in \u001B[0;36m__next__\u001B[1;34m(self)\u001B[0m\n\u001B[0;32m    434\u001B[0m             \u001B[0mself\u001B[0m\u001B[1;33m.\u001B[0m\u001B[0m_reset\u001B[0m\u001B[1;33m(\u001B[0m\u001B[1;33m)\u001B[0m\u001B[1;33m\u001B[0m\u001B[1;33m\u001B[0m\u001B[0m\n\u001B[1;32m--> 435\u001B[1;33m         \u001B[0mdata\u001B[0m \u001B[1;33m=\u001B[0m \u001B[0mself\u001B[0m\u001B[1;33m.\u001B[0m\u001B[0m_next_data\u001B[0m\u001B[1;33m(\u001B[0m\u001B[1;33m)\u001B[0m\u001B[1;33m\u001B[0m\u001B[1;33m\u001B[0m\u001B[0m\n\u001B[0m\u001B[0;32m    436\u001B[0m         \u001B[0mself\u001B[0m\u001B[1;33m.\u001B[0m\u001B[0m_num_yielded\u001B[0m \u001B[1;33m+=\u001B[0m \u001B[1;36m1\u001B[0m\u001B[1;33m\u001B[0m\u001B[1;33m\u001B[0m\u001B[0m\n",
      "\u001B[1;32m~\\Desktop\\meningioma_project\\meningioma_dl\\venv37\\lib\\site-packages\\torch\\utils\\data\\dataloader.py\u001B[0m in \u001B[0;36m_next_data\u001B[1;34m(self)\u001B[0m\n\u001B[0;32m    474\u001B[0m         \u001B[0mindex\u001B[0m \u001B[1;33m=\u001B[0m \u001B[0mself\u001B[0m\u001B[1;33m.\u001B[0m\u001B[0m_next_index\u001B[0m\u001B[1;33m(\u001B[0m\u001B[1;33m)\u001B[0m  \u001B[1;31m# may raise StopIteration\u001B[0m\u001B[1;33m\u001B[0m\u001B[1;33m\u001B[0m\u001B[0m\n\u001B[1;32m--> 475\u001B[1;33m         \u001B[0mdata\u001B[0m \u001B[1;33m=\u001B[0m \u001B[0mself\u001B[0m\u001B[1;33m.\u001B[0m\u001B[0m_dataset_fetcher\u001B[0m\u001B[1;33m.\u001B[0m\u001B[0mfetch\u001B[0m\u001B[1;33m(\u001B[0m\u001B[0mindex\u001B[0m\u001B[1;33m)\u001B[0m  \u001B[1;31m# may raise StopIteration\u001B[0m\u001B[1;33m\u001B[0m\u001B[1;33m\u001B[0m\u001B[0m\n\u001B[0m\u001B[0;32m    476\u001B[0m         \u001B[1;32mif\u001B[0m \u001B[0mself\u001B[0m\u001B[1;33m.\u001B[0m\u001B[0m_pin_memory\u001B[0m\u001B[1;33m:\u001B[0m\u001B[1;33m\u001B[0m\u001B[1;33m\u001B[0m\u001B[0m\n",
      "\u001B[1;32m~\\Desktop\\meningioma_project\\meningioma_dl\\venv37\\lib\\site-packages\\torch\\utils\\data\\_utils\\fetch.py\u001B[0m in \u001B[0;36mfetch\u001B[1;34m(self, possibly_batched_index)\u001B[0m\n\u001B[0;32m     43\u001B[0m         \u001B[1;32mif\u001B[0m \u001B[0mself\u001B[0m\u001B[1;33m.\u001B[0m\u001B[0mauto_collation\u001B[0m\u001B[1;33m:\u001B[0m\u001B[1;33m\u001B[0m\u001B[1;33m\u001B[0m\u001B[0m\n\u001B[1;32m---> 44\u001B[1;33m             \u001B[0mdata\u001B[0m \u001B[1;33m=\u001B[0m \u001B[1;33m[\u001B[0m\u001B[0mself\u001B[0m\u001B[1;33m.\u001B[0m\u001B[0mdataset\u001B[0m\u001B[1;33m[\u001B[0m\u001B[0midx\u001B[0m\u001B[1;33m]\u001B[0m \u001B[1;32mfor\u001B[0m \u001B[0midx\u001B[0m \u001B[1;32min\u001B[0m \u001B[0mpossibly_batched_index\u001B[0m\u001B[1;33m]\u001B[0m\u001B[1;33m\u001B[0m\u001B[1;33m\u001B[0m\u001B[0m\n\u001B[0m\u001B[0;32m     45\u001B[0m         \u001B[1;32melse\u001B[0m\u001B[1;33m:\u001B[0m\u001B[1;33m\u001B[0m\u001B[1;33m\u001B[0m\u001B[0m\n",
      "\u001B[1;32m~\\Desktop\\meningioma_project\\meningioma_dl\\venv37\\lib\\site-packages\\torch\\utils\\data\\_utils\\fetch.py\u001B[0m in \u001B[0;36m<listcomp>\u001B[1;34m(.0)\u001B[0m\n\u001B[0;32m     43\u001B[0m         \u001B[1;32mif\u001B[0m \u001B[0mself\u001B[0m\u001B[1;33m.\u001B[0m\u001B[0mauto_collation\u001B[0m\u001B[1;33m:\u001B[0m\u001B[1;33m\u001B[0m\u001B[1;33m\u001B[0m\u001B[0m\n\u001B[1;32m---> 44\u001B[1;33m             \u001B[0mdata\u001B[0m \u001B[1;33m=\u001B[0m \u001B[1;33m[\u001B[0m\u001B[0mself\u001B[0m\u001B[1;33m.\u001B[0m\u001B[0mdataset\u001B[0m\u001B[1;33m[\u001B[0m\u001B[0midx\u001B[0m\u001B[1;33m]\u001B[0m \u001B[1;32mfor\u001B[0m \u001B[0midx\u001B[0m \u001B[1;32min\u001B[0m \u001B[0mpossibly_batched_index\u001B[0m\u001B[1;33m]\u001B[0m\u001B[1;33m\u001B[0m\u001B[1;33m\u001B[0m\u001B[0m\n\u001B[0m\u001B[0;32m     45\u001B[0m         \u001B[1;32melse\u001B[0m\u001B[1;33m:\u001B[0m\u001B[1;33m\u001B[0m\u001B[1;33m\u001B[0m\u001B[0m\n",
      "\u001B[1;32m~\\Desktop\\meningioma_project\\meningioma_dl\\venv37\\lib\\site-packages\\monai\\data\\dataset.py\u001B[0m in \u001B[0;36m__getitem__\u001B[1;34m(self, index)\u001B[0m\n\u001B[0;32m     96\u001B[0m             \u001B[1;32mreturn\u001B[0m \u001B[0mSubset\u001B[0m\u001B[1;33m(\u001B[0m\u001B[0mdataset\u001B[0m\u001B[1;33m=\u001B[0m\u001B[0mself\u001B[0m\u001B[1;33m,\u001B[0m \u001B[0mindices\u001B[0m\u001B[1;33m=\u001B[0m\u001B[0mindex\u001B[0m\u001B[1;33m)\u001B[0m\u001B[1;33m\u001B[0m\u001B[1;33m\u001B[0m\u001B[0m\n\u001B[1;32m---> 97\u001B[1;33m         \u001B[1;32mreturn\u001B[0m \u001B[0mself\u001B[0m\u001B[1;33m.\u001B[0m\u001B[0m_transform\u001B[0m\u001B[1;33m(\u001B[0m\u001B[0mindex\u001B[0m\u001B[1;33m)\u001B[0m\u001B[1;33m\u001B[0m\u001B[1;33m\u001B[0m\u001B[0m\n\u001B[0m\u001B[0;32m     98\u001B[0m \u001B[1;33m\u001B[0m\u001B[0m\n",
      "\u001B[1;32m~\\Desktop\\meningioma_project\\meningioma_dl\\venv37\\lib\\site-packages\\monai\\data\\dataset.py\u001B[0m in \u001B[0;36m_transform\u001B[1;34m(self, index)\u001B[0m\n\u001B[0;32m     82\u001B[0m         \u001B[0mdata_i\u001B[0m \u001B[1;33m=\u001B[0m \u001B[0mself\u001B[0m\u001B[1;33m.\u001B[0m\u001B[0mdata\u001B[0m\u001B[1;33m[\u001B[0m\u001B[0mindex\u001B[0m\u001B[1;33m]\u001B[0m\u001B[1;33m\u001B[0m\u001B[1;33m\u001B[0m\u001B[0m\n\u001B[1;32m---> 83\u001B[1;33m         \u001B[1;32mreturn\u001B[0m \u001B[0mapply_transform\u001B[0m\u001B[1;33m(\u001B[0m\u001B[0mself\u001B[0m\u001B[1;33m.\u001B[0m\u001B[0mtransform\u001B[0m\u001B[1;33m,\u001B[0m \u001B[0mdata_i\u001B[0m\u001B[1;33m)\u001B[0m \u001B[1;32mif\u001B[0m \u001B[0mself\u001B[0m\u001B[1;33m.\u001B[0m\u001B[0mtransform\u001B[0m \u001B[1;32mis\u001B[0m \u001B[1;32mnot\u001B[0m \u001B[1;32mNone\u001B[0m \u001B[1;32melse\u001B[0m \u001B[0mdata_i\u001B[0m\u001B[1;33m\u001B[0m\u001B[1;33m\u001B[0m\u001B[0m\n\u001B[0m\u001B[0;32m     84\u001B[0m \u001B[1;33m\u001B[0m\u001B[0m\n",
      "\u001B[1;32m~\\Desktop\\meningioma_project\\meningioma_dl\\venv37\\lib\\site-packages\\monai\\transforms\\transform.py\u001B[0m in \u001B[0;36mapply_transform\u001B[1;34m(transform, data, map_items, unpack_items, log_stats)\u001B[0m\n\u001B[0;32m     88\u001B[0m             \u001B[1;32mreturn\u001B[0m \u001B[1;33m[\u001B[0m\u001B[0m_apply_transform\u001B[0m\u001B[1;33m(\u001B[0m\u001B[0mtransform\u001B[0m\u001B[1;33m,\u001B[0m \u001B[0mitem\u001B[0m\u001B[1;33m,\u001B[0m \u001B[0munpack_items\u001B[0m\u001B[1;33m)\u001B[0m \u001B[1;32mfor\u001B[0m \u001B[0mitem\u001B[0m \u001B[1;32min\u001B[0m \u001B[0mdata\u001B[0m\u001B[1;33m]\u001B[0m\u001B[1;33m\u001B[0m\u001B[1;33m\u001B[0m\u001B[0m\n\u001B[1;32m---> 89\u001B[1;33m         \u001B[1;32mreturn\u001B[0m \u001B[0m_apply_transform\u001B[0m\u001B[1;33m(\u001B[0m\u001B[0mtransform\u001B[0m\u001B[1;33m,\u001B[0m \u001B[0mdata\u001B[0m\u001B[1;33m,\u001B[0m \u001B[0munpack_items\u001B[0m\u001B[1;33m)\u001B[0m\u001B[1;33m\u001B[0m\u001B[1;33m\u001B[0m\u001B[0m\n\u001B[0m\u001B[0;32m     90\u001B[0m     \u001B[1;32mexcept\u001B[0m \u001B[0mException\u001B[0m \u001B[1;32mas\u001B[0m \u001B[0me\u001B[0m\u001B[1;33m:\u001B[0m\u001B[1;33m\u001B[0m\u001B[1;33m\u001B[0m\u001B[0m\n",
      "\u001B[1;32m~\\Desktop\\meningioma_project\\meningioma_dl\\venv37\\lib\\site-packages\\monai\\transforms\\transform.py\u001B[0m in \u001B[0;36m_apply_transform\u001B[1;34m(transform, parameters, unpack_parameters)\u001B[0m\n\u001B[0;32m     52\u001B[0m \u001B[1;33m\u001B[0m\u001B[0m\n\u001B[1;32m---> 53\u001B[1;33m     \u001B[1;32mreturn\u001B[0m \u001B[0mtransform\u001B[0m\u001B[1;33m(\u001B[0m\u001B[0mparameters\u001B[0m\u001B[1;33m)\u001B[0m\u001B[1;33m\u001B[0m\u001B[1;33m\u001B[0m\u001B[0m\n\u001B[0m\u001B[0;32m     54\u001B[0m \u001B[1;33m\u001B[0m\u001B[0m\n",
      "\u001B[1;32m~\\Desktop\\meningioma_project\\meningioma_dl\\venv37\\lib\\site-packages\\monai\\transforms\\compose.py\u001B[0m in \u001B[0;36m__call__\u001B[1;34m(self, input_)\u001B[0m\n\u001B[0;32m    172\u001B[0m         \u001B[1;32mfor\u001B[0m \u001B[0m_transform\u001B[0m \u001B[1;32min\u001B[0m \u001B[0mself\u001B[0m\u001B[1;33m.\u001B[0m\u001B[0mtransforms\u001B[0m\u001B[1;33m:\u001B[0m\u001B[1;33m\u001B[0m\u001B[1;33m\u001B[0m\u001B[0m\n\u001B[1;32m--> 173\u001B[1;33m             \u001B[0minput_\u001B[0m \u001B[1;33m=\u001B[0m \u001B[0mapply_transform\u001B[0m\u001B[1;33m(\u001B[0m\u001B[0m_transform\u001B[0m\u001B[1;33m,\u001B[0m \u001B[0minput_\u001B[0m\u001B[1;33m,\u001B[0m \u001B[0mself\u001B[0m\u001B[1;33m.\u001B[0m\u001B[0mmap_items\u001B[0m\u001B[1;33m,\u001B[0m \u001B[0mself\u001B[0m\u001B[1;33m.\u001B[0m\u001B[0munpack_items\u001B[0m\u001B[1;33m,\u001B[0m \u001B[0mself\u001B[0m\u001B[1;33m.\u001B[0m\u001B[0mlog_stats\u001B[0m\u001B[1;33m)\u001B[0m\u001B[1;33m\u001B[0m\u001B[1;33m\u001B[0m\u001B[0m\n\u001B[0m\u001B[0;32m    174\u001B[0m         \u001B[1;32mreturn\u001B[0m \u001B[0minput_\u001B[0m\u001B[1;33m\u001B[0m\u001B[1;33m\u001B[0m\u001B[0m\n",
      "\u001B[1;32m~\\Desktop\\meningioma_project\\meningioma_dl\\venv37\\lib\\site-packages\\monai\\transforms\\transform.py\u001B[0m in \u001B[0;36mapply_transform\u001B[1;34m(transform, data, map_items, unpack_items, log_stats)\u001B[0m\n\u001B[0;32m     88\u001B[0m             \u001B[1;32mreturn\u001B[0m \u001B[1;33m[\u001B[0m\u001B[0m_apply_transform\u001B[0m\u001B[1;33m(\u001B[0m\u001B[0mtransform\u001B[0m\u001B[1;33m,\u001B[0m \u001B[0mitem\u001B[0m\u001B[1;33m,\u001B[0m \u001B[0munpack_items\u001B[0m\u001B[1;33m)\u001B[0m \u001B[1;32mfor\u001B[0m \u001B[0mitem\u001B[0m \u001B[1;32min\u001B[0m \u001B[0mdata\u001B[0m\u001B[1;33m]\u001B[0m\u001B[1;33m\u001B[0m\u001B[1;33m\u001B[0m\u001B[0m\n\u001B[1;32m---> 89\u001B[1;33m         \u001B[1;32mreturn\u001B[0m \u001B[0m_apply_transform\u001B[0m\u001B[1;33m(\u001B[0m\u001B[0mtransform\u001B[0m\u001B[1;33m,\u001B[0m \u001B[0mdata\u001B[0m\u001B[1;33m,\u001B[0m \u001B[0munpack_items\u001B[0m\u001B[1;33m)\u001B[0m\u001B[1;33m\u001B[0m\u001B[1;33m\u001B[0m\u001B[0m\n\u001B[0m\u001B[0;32m     90\u001B[0m     \u001B[1;32mexcept\u001B[0m \u001B[0mException\u001B[0m \u001B[1;32mas\u001B[0m \u001B[0me\u001B[0m\u001B[1;33m:\u001B[0m\u001B[1;33m\u001B[0m\u001B[1;33m\u001B[0m\u001B[0m\n",
      "\u001B[1;32m~\\Desktop\\meningioma_project\\meningioma_dl\\venv37\\lib\\site-packages\\monai\\transforms\\transform.py\u001B[0m in \u001B[0;36m_apply_transform\u001B[1;34m(transform, parameters, unpack_parameters)\u001B[0m\n\u001B[0;32m     52\u001B[0m \u001B[1;33m\u001B[0m\u001B[0m\n\u001B[1;32m---> 53\u001B[1;33m     \u001B[1;32mreturn\u001B[0m \u001B[0mtransform\u001B[0m\u001B[1;33m(\u001B[0m\u001B[0mparameters\u001B[0m\u001B[1;33m)\u001B[0m\u001B[1;33m\u001B[0m\u001B[1;33m\u001B[0m\u001B[0m\n\u001B[0m\u001B[0;32m     54\u001B[0m \u001B[1;33m\u001B[0m\u001B[0m\n",
      "\u001B[1;32m~\\Desktop\\meningioma_project\\meningioma_dl\\venv37\\lib\\site-packages\\monai\\transforms\\io\\dictionary.py\u001B[0m in \u001B[0;36m__call__\u001B[1;34m(self, data, reader)\u001B[0m\n\u001B[0;32m    120\u001B[0m         \u001B[1;32mfor\u001B[0m \u001B[0mkey\u001B[0m\u001B[1;33m,\u001B[0m \u001B[0mmeta_key\u001B[0m\u001B[1;33m,\u001B[0m \u001B[0mmeta_key_postfix\u001B[0m \u001B[1;32min\u001B[0m \u001B[0mself\u001B[0m\u001B[1;33m.\u001B[0m\u001B[0mkey_iterator\u001B[0m\u001B[1;33m(\u001B[0m\u001B[0md\u001B[0m\u001B[1;33m,\u001B[0m \u001B[0mself\u001B[0m\u001B[1;33m.\u001B[0m\u001B[0mmeta_keys\u001B[0m\u001B[1;33m,\u001B[0m \u001B[0mself\u001B[0m\u001B[1;33m.\u001B[0m\u001B[0mmeta_key_postfix\u001B[0m\u001B[1;33m)\u001B[0m\u001B[1;33m:\u001B[0m\u001B[1;33m\u001B[0m\u001B[1;33m\u001B[0m\u001B[0m\n\u001B[1;32m--> 121\u001B[1;33m             \u001B[0mdata\u001B[0m \u001B[1;33m=\u001B[0m \u001B[0mself\u001B[0m\u001B[1;33m.\u001B[0m\u001B[0m_loader\u001B[0m\u001B[1;33m(\u001B[0m\u001B[0md\u001B[0m\u001B[1;33m[\u001B[0m\u001B[0mkey\u001B[0m\u001B[1;33m]\u001B[0m\u001B[1;33m,\u001B[0m \u001B[0mreader\u001B[0m\u001B[1;33m)\u001B[0m\u001B[1;33m\u001B[0m\u001B[1;33m\u001B[0m\u001B[0m\n\u001B[0m\u001B[0;32m    122\u001B[0m             \u001B[1;32mif\u001B[0m \u001B[0mself\u001B[0m\u001B[1;33m.\u001B[0m\u001B[0m_loader\u001B[0m\u001B[1;33m.\u001B[0m\u001B[0mimage_only\u001B[0m\u001B[1;33m:\u001B[0m\u001B[1;33m\u001B[0m\u001B[1;33m\u001B[0m\u001B[0m\n",
      "\u001B[1;32m~\\Desktop\\meningioma_project\\meningioma_dl\\venv37\\lib\\site-packages\\monai\\transforms\\io\\array.py\u001B[0m in \u001B[0;36m__call__\u001B[1;34m(self, filename, reader)\u001B[0m\n\u001B[0;32m    215\u001B[0m \u001B[1;33m\u001B[0m\u001B[0m\n\u001B[1;32m--> 216\u001B[1;33m         \u001B[0mimg_array\u001B[0m\u001B[1;33m,\u001B[0m \u001B[0mmeta_data\u001B[0m \u001B[1;33m=\u001B[0m \u001B[0mreader\u001B[0m\u001B[1;33m.\u001B[0m\u001B[0mget_data\u001B[0m\u001B[1;33m(\u001B[0m\u001B[0mimg\u001B[0m\u001B[1;33m)\u001B[0m\u001B[1;33m\u001B[0m\u001B[1;33m\u001B[0m\u001B[0m\n\u001B[0m\u001B[0;32m    217\u001B[0m         \u001B[0mimg_array\u001B[0m \u001B[1;33m=\u001B[0m \u001B[0mimg_array\u001B[0m\u001B[1;33m.\u001B[0m\u001B[0mastype\u001B[0m\u001B[1;33m(\u001B[0m\u001B[0mself\u001B[0m\u001B[1;33m.\u001B[0m\u001B[0mdtype\u001B[0m\u001B[1;33m,\u001B[0m \u001B[0mcopy\u001B[0m\u001B[1;33m=\u001B[0m\u001B[1;32mFalse\u001B[0m\u001B[1;33m)\u001B[0m\u001B[1;33m\u001B[0m\u001B[1;33m\u001B[0m\u001B[0m\n",
      "\u001B[1;32m~\\Desktop\\meningioma_project\\meningioma_dl\\venv37\\lib\\site-packages\\monai\\data\\image_reader.py\u001B[0m in \u001B[0;36mget_data\u001B[1;34m(self, img)\u001B[0m\n\u001B[0;32m    443\u001B[0m             \u001B[0mheader\u001B[0m\u001B[1;33m[\u001B[0m\u001B[1;34m\"spatial_shape\"\u001B[0m\u001B[1;33m]\u001B[0m \u001B[1;33m=\u001B[0m \u001B[0mself\u001B[0m\u001B[1;33m.\u001B[0m\u001B[0m_get_spatial_shape\u001B[0m\u001B[1;33m(\u001B[0m\u001B[0mi\u001B[0m\u001B[1;33m)\u001B[0m\u001B[1;33m\u001B[0m\u001B[1;33m\u001B[0m\u001B[0m\n\u001B[1;32m--> 444\u001B[1;33m             \u001B[0mdata\u001B[0m \u001B[1;33m=\u001B[0m \u001B[0mself\u001B[0m\u001B[1;33m.\u001B[0m\u001B[0m_get_array_data\u001B[0m\u001B[1;33m(\u001B[0m\u001B[0mi\u001B[0m\u001B[1;33m)\u001B[0m\u001B[1;33m\u001B[0m\u001B[1;33m\u001B[0m\u001B[0m\n\u001B[0m\u001B[0;32m    445\u001B[0m             \u001B[1;32mif\u001B[0m \u001B[0mself\u001B[0m\u001B[1;33m.\u001B[0m\u001B[0msqueeze_non_spatial_dims\u001B[0m\u001B[1;33m:\u001B[0m\u001B[1;33m\u001B[0m\u001B[1;33m\u001B[0m\u001B[0m\n",
      "\u001B[1;32m~\\Desktop\\meningioma_project\\meningioma_dl\\venv37\\lib\\site-packages\\monai\\data\\image_reader.py\u001B[0m in \u001B[0;36m_get_array_data\u001B[1;34m(self, img)\u001B[0m\n\u001B[0;32m    515\u001B[0m         \"\"\"\n\u001B[1;32m--> 516\u001B[1;33m         \u001B[0m_array\u001B[0m \u001B[1;33m=\u001B[0m \u001B[0mnp\u001B[0m\u001B[1;33m.\u001B[0m\u001B[0marray\u001B[0m\u001B[1;33m(\u001B[0m\u001B[0mimg\u001B[0m\u001B[1;33m.\u001B[0m\u001B[0mget_fdata\u001B[0m\u001B[1;33m(\u001B[0m\u001B[0mdtype\u001B[0m\u001B[1;33m=\u001B[0m\u001B[0mself\u001B[0m\u001B[1;33m.\u001B[0m\u001B[0mdtype\u001B[0m\u001B[1;33m)\u001B[0m\u001B[1;33m)\u001B[0m\u001B[1;33m\u001B[0m\u001B[1;33m\u001B[0m\u001B[0m\n\u001B[0m\u001B[0;32m    517\u001B[0m         \u001B[0mimg\u001B[0m\u001B[1;33m.\u001B[0m\u001B[0muncache\u001B[0m\u001B[1;33m(\u001B[0m\u001B[1;33m)\u001B[0m\u001B[1;33m\u001B[0m\u001B[1;33m\u001B[0m\u001B[0m\n",
      "\u001B[1;32m~\\Desktop\\meningioma_project\\meningioma_dl\\venv37\\lib\\site-packages\\nibabel\\dataobj_images.py\u001B[0m in \u001B[0;36mget_fdata\u001B[1;34m(self, caching, dtype)\u001B[0m\n\u001B[0;32m    354\u001B[0m         \u001B[1;31m# during scaling\u001B[0m\u001B[1;33m\u001B[0m\u001B[1;33m\u001B[0m\u001B[1;33m\u001B[0m\u001B[0m\n\u001B[1;32m--> 355\u001B[1;33m         \u001B[0mdata\u001B[0m \u001B[1;33m=\u001B[0m \u001B[0mnp\u001B[0m\u001B[1;33m.\u001B[0m\u001B[0masanyarray\u001B[0m\u001B[1;33m(\u001B[0m\u001B[0mself\u001B[0m\u001B[1;33m.\u001B[0m\u001B[0m_dataobj\u001B[0m\u001B[1;33m,\u001B[0m \u001B[0mdtype\u001B[0m\u001B[1;33m=\u001B[0m\u001B[0mdtype\u001B[0m\u001B[1;33m)\u001B[0m\u001B[1;33m\u001B[0m\u001B[1;33m\u001B[0m\u001B[0m\n\u001B[0m\u001B[0;32m    356\u001B[0m         \u001B[1;32mif\u001B[0m \u001B[0mcaching\u001B[0m \u001B[1;33m==\u001B[0m \u001B[1;34m'fill'\u001B[0m\u001B[1;33m:\u001B[0m\u001B[1;33m\u001B[0m\u001B[1;33m\u001B[0m\u001B[0m\n",
      "\u001B[1;32m~\\Desktop\\meningioma_project\\meningioma_dl\\venv37\\lib\\site-packages\\nibabel\\arrayproxy.py\u001B[0m in \u001B[0;36m__array__\u001B[1;34m(self, dtype)\u001B[0m\n\u001B[0;32m    369\u001B[0m         \"\"\"\n\u001B[1;32m--> 370\u001B[1;33m         \u001B[0marr\u001B[0m \u001B[1;33m=\u001B[0m \u001B[0mself\u001B[0m\u001B[1;33m.\u001B[0m\u001B[0m_get_scaled\u001B[0m\u001B[1;33m(\u001B[0m\u001B[0mdtype\u001B[0m\u001B[1;33m=\u001B[0m\u001B[0mdtype\u001B[0m\u001B[1;33m,\u001B[0m \u001B[0mslicer\u001B[0m\u001B[1;33m=\u001B[0m\u001B[1;33m(\u001B[0m\u001B[1;33m)\u001B[0m\u001B[1;33m)\u001B[0m\u001B[1;33m\u001B[0m\u001B[1;33m\u001B[0m\u001B[0m\n\u001B[0m\u001B[0;32m    371\u001B[0m         \u001B[1;32mif\u001B[0m \u001B[0mdtype\u001B[0m \u001B[1;32mis\u001B[0m \u001B[1;32mnot\u001B[0m \u001B[1;32mNone\u001B[0m\u001B[1;33m:\u001B[0m\u001B[1;33m\u001B[0m\u001B[1;33m\u001B[0m\u001B[0m\n",
      "\u001B[1;32m~\\Desktop\\meningioma_project\\meningioma_dl\\venv37\\lib\\site-packages\\nibabel\\arrayproxy.py\u001B[0m in \u001B[0;36m_get_scaled\u001B[1;34m(self, dtype, slicer)\u001B[0m\n\u001B[0;32m    338\u001B[0m         \u001B[1;32mif\u001B[0m \u001B[0mdtype\u001B[0m \u001B[1;32mis\u001B[0m \u001B[1;32mnot\u001B[0m \u001B[1;32mNone\u001B[0m\u001B[1;33m:\u001B[0m\u001B[1;33m\u001B[0m\u001B[1;33m\u001B[0m\u001B[0m\n\u001B[1;32m--> 339\u001B[1;33m             \u001B[0mscaled\u001B[0m \u001B[1;33m=\u001B[0m \u001B[0mscaled\u001B[0m\u001B[1;33m.\u001B[0m\u001B[0mastype\u001B[0m\u001B[1;33m(\u001B[0m\u001B[0mnp\u001B[0m\u001B[1;33m.\u001B[0m\u001B[0mpromote_types\u001B[0m\u001B[1;33m(\u001B[0m\u001B[0mscaled\u001B[0m\u001B[1;33m.\u001B[0m\u001B[0mdtype\u001B[0m\u001B[1;33m,\u001B[0m \u001B[0mdtype\u001B[0m\u001B[1;33m)\u001B[0m\u001B[1;33m,\u001B[0m \u001B[0mcopy\u001B[0m\u001B[1;33m=\u001B[0m\u001B[1;32mFalse\u001B[0m\u001B[1;33m)\u001B[0m\u001B[1;33m\u001B[0m\u001B[1;33m\u001B[0m\u001B[0m\n\u001B[0m\u001B[0;32m    340\u001B[0m         \u001B[1;32mreturn\u001B[0m \u001B[0mscaled\u001B[0m\u001B[1;33m\u001B[0m\u001B[1;33m\u001B[0m\u001B[0m\n",
      "\u001B[1;31mKeyboardInterrupt\u001B[0m: ",
      "\nDuring handling of the above exception, another exception occurred:\n",
      "\u001B[1;31mOSError\u001B[0m                                   Traceback (most recent call last)",
      "\u001B[1;32m~\\AppData\\Local\\Temp\\ipykernel_2360\\2172311551.py\u001B[0m in \u001B[0;36m<module>\u001B[1;34m\u001B[0m\n\u001B[0;32m     14\u001B[0m     ),\n\u001B[0;32m     15\u001B[0m     \u001B[0mtransformations_name\u001B[0m\u001B[1;33m,\u001B[0m\u001B[1;33m\u001B[0m\u001B[1;33m\u001B[0m\u001B[0m\n\u001B[1;32m---> 16\u001B[1;33m     \u001B[0mshow_mask\u001B[0m\u001B[1;33m=\u001B[0m\u001B[1;32mFalse\u001B[0m\u001B[1;33m,\u001B[0m\u001B[1;33m\u001B[0m\u001B[1;33m\u001B[0m\u001B[0m\n\u001B[0m\u001B[0;32m     17\u001B[0m )\n",
      "\u001B[1;32m~\\AppData\\Local\\Temp\\ipykernel_2360\\1895684168.py\u001B[0m in \u001B[0;36mvisualize_transformations\u001B[1;34m(training_data_loader, transformations_name, show_mask)\u001B[0m\n\u001B[0;32m     22\u001B[0m                 )\n\u001B[0;32m     23\u001B[0m     \u001B[1;32mexcept\u001B[0m\u001B[1;33m:\u001B[0m\u001B[1;33m\u001B[0m\u001B[1;33m\u001B[0m\u001B[0m\n\u001B[1;32m---> 24\u001B[1;33m         \u001B[0mdir\u001B[0m\u001B[1;33m.\u001B[0m\u001B[0mrmdir\u001B[0m\u001B[1;33m(\u001B[0m\u001B[1;33m)\u001B[0m\u001B[1;33m\u001B[0m\u001B[1;33m\u001B[0m\u001B[0m\n\u001B[0m\u001B[0;32m     25\u001B[0m         \u001B[1;32mraise\u001B[0m\u001B[1;33m\u001B[0m\u001B[1;33m\u001B[0m\u001B[0m\n\u001B[0;32m     26\u001B[0m     \u001B[1;32mfinally\u001B[0m\u001B[1;33m:\u001B[0m\u001B[1;33m\u001B[0m\u001B[1;33m\u001B[0m\u001B[0m\n",
      "\u001B[1;32m~\\AppData\\Local\\Programs\\Python\\Python37\\lib\\pathlib.py\u001B[0m in \u001B[0;36mrmdir\u001B[1;34m(self)\u001B[0m\n\u001B[0;32m   1293\u001B[0m         \u001B[1;32mif\u001B[0m \u001B[0mself\u001B[0m\u001B[1;33m.\u001B[0m\u001B[0m_closed\u001B[0m\u001B[1;33m:\u001B[0m\u001B[1;33m\u001B[0m\u001B[1;33m\u001B[0m\u001B[0m\n\u001B[0;32m   1294\u001B[0m             \u001B[0mself\u001B[0m\u001B[1;33m.\u001B[0m\u001B[0m_raise_closed\u001B[0m\u001B[1;33m(\u001B[0m\u001B[1;33m)\u001B[0m\u001B[1;33m\u001B[0m\u001B[1;33m\u001B[0m\u001B[0m\n\u001B[1;32m-> 1295\u001B[1;33m         \u001B[0mself\u001B[0m\u001B[1;33m.\u001B[0m\u001B[0m_accessor\u001B[0m\u001B[1;33m.\u001B[0m\u001B[0mrmdir\u001B[0m\u001B[1;33m(\u001B[0m\u001B[0mself\u001B[0m\u001B[1;33m)\u001B[0m\u001B[1;33m\u001B[0m\u001B[1;33m\u001B[0m\u001B[0m\n\u001B[0m\u001B[0;32m   1296\u001B[0m \u001B[1;33m\u001B[0m\u001B[0m\n\u001B[0;32m   1297\u001B[0m     \u001B[1;32mdef\u001B[0m \u001B[0mlstat\u001B[0m\u001B[1;33m(\u001B[0m\u001B[0mself\u001B[0m\u001B[1;33m)\u001B[0m\u001B[1;33m:\u001B[0m\u001B[1;33m\u001B[0m\u001B[1;33m\u001B[0m\u001B[0m\n",
      "\u001B[1;31mOSError\u001B[0m: [WinError 145] The directory is not empty: 'data\\\\train_only_load_2'"
     ]
    },
    {
     "data": {
      "text/plain": "<Figure size 1500x500 with 3 Axes>",
      "image/png": "[encoded data removed]"
     },
     "metadata": {},
     "output_type": "display_data"
    },
    {
     "data": {
      "text/plain": "<Figure size 1500x500 with 3 Axes>",
      "image/png": "[encoded data removed]"
     },
     "metadata": {},
     "output_type": "display_data"
    }
   ],
   "source": [
    "from meningioma_dl.experiments_specs import experiments\n",
    "\n",
    "importlib.reload(experiments)\n",
    "\n",
    "Config.load_env_variables(\"../envs/local_run_cluster_data.env\", \"jupyter\")\n",
    "plt.ioff()\n",
    "transformations_name = \"train_only_load_2\"\n",
    "visualize_transformations(\n",
    "    get_data_loader(\n",
    "        TransformationsMode.ONLY_LOAD,\n",
    "        # PreprocessingSettings(final_crop_and_pad_spatial_size=None, final_resize_mode=None),\n",
    "        experiments.PreprocessingSpecs.get_from_name(\"no_resize\"),\n",
    "        validation_set=False,\n",
    "    ),\n",
    "    transformations_name,\n",
    "    show_mask=False,\n",
    ")"
   ],
   "metadata": {
    "collapsed": false
   }
  },
  {
   "cell_type": "code",
   "execution_count": null,
   "outputs": [],
   "source": [
    "from collections import defaultdict\n",
    "from typing import Sequence\n",
    "from reportlab.platypus import SimpleDocTemplate, Image, Paragraph, PageBreak\n",
    "from PIL import Image as PILImage\n",
    "\n",
    "base_path = Path(\".\", \"data\")\n",
    "pdf_file = base_path.joinpath(f\"{transformations_name}.pdf\")\n",
    "images = list(base_path.joinpath(transformations_name).glob(\"*img.png\"))\n",
    "\n",
    "\n",
    "def create_pdf_from_images(images: Sequence[Path], pdf_file: Path):\n",
    "    images_by_label = defaultdict(list)\n",
    "    for image in images:\n",
    "        label = image.stem.split(\"_\")[-2]\n",
    "        images_by_label[label].append(image)\n",
    "\n",
    "    doc = SimpleDocTemplate(\n",
    "        str(pdf_file), rightMargin=0, leftMargin=0, topMargin=0, bottomMargin=0\n",
    "    )\n",
    "\n",
    "    elements = []\n",
    "    for label, images_with_label in sorted(images_by_label.items()):\n",
    "        elements.append(Paragraph(f\"Label {label}\"))\n",
    "        for file in images_with_label:\n",
    "            image = PILImage.open(file)\n",
    "\n",
    "            # Resize the image to fit the page width\n",
    "            if image.width > doc.width or image.height > doc.height:\n",
    "                image.thumbnail((doc.width, doc.height), PILImage.LANCZOS)\n",
    "            elements.append(Image(str(image.filename), image.width, image.height))\n",
    "        elements.append(PageBreak())\n",
    "\n",
    "    doc.build(elements)\n",
    "\n",
    "\n",
    "create_pdf_from_images(images, pdf_file)"
   ],
   "metadata": {
    "collapsed": false
   }
  },
  {
   "cell_type": "markdown",
   "source": [
    "## Get the biggest bounding box in the dataset\n",
    "\n",
    "First, you need to customize data loader to only make cropping"
   ],
   "metadata": {
    "collapsed": false
   }
  },
  {
   "cell_type": "code",
   "execution_count": 136,
   "outputs": [
    {
     "name": "stdout",
     "output_type": "stream",
     "text": [
      "yes\n",
      "1\n",
      "2\n",
      "3\n",
      "4\n",
      "5\n",
      "6\n",
      "7\n",
      "8\n",
      "9\n",
      "10\n",
      "11\n",
      "12\n",
      "13\n",
      "14\n",
      "15\n",
      "16\n",
      "17\n",
      "18\n",
      "19\n",
      "20\n",
      "21\n",
      "22\n",
      "23\n",
      "24\n",
      "25\n",
      "26\n",
      "27\n",
      "28\n",
      "29\n",
      "30\n",
      "31\n",
      "32\n",
      "33\n",
      "34\n",
      "35\n",
      "36\n",
      "37\n",
      "38\n",
      "39\n",
      "40\n",
      "41\n",
      "42\n",
      "43\n",
      "44\n",
      "45\n",
      "46\n",
      "47\n",
      "48\n",
      "49\n",
      "50\n",
      "51\n",
      "52\n",
      "53\n",
      "54\n",
      "55\n",
      "56\n",
      "57\n",
      "58\n",
      "59\n",
      "60\n",
      "61\n",
      "62\n",
      "63\n",
      "64\n",
      "65\n",
      "66\n",
      "67\n",
      "68\n",
      "69\n",
      "70\n",
      "71\n",
      "72\n",
      "73\n",
      "74\n",
      "75\n",
      "76\n",
      "77\n",
      "78\n",
      "79\n",
      "80\n",
      "81\n",
      "82\n",
      "83\n",
      "84\n",
      "85\n",
      "86\n",
      "87\n",
      "88\n",
      "89\n",
      "90\n",
      "91\n",
      "92\n",
      "93\n",
      "94\n",
      "95\n",
      "96\n",
      "97\n",
      "98\n",
      "99\n",
      "100\n",
      "101\n",
      "102\n",
      "103\n",
      "104\n",
      "105\n",
      "106\n",
      "107\n",
      "108\n",
      "109\n",
      "110\n",
      "111\n",
      "112\n",
      "113\n",
      "114\n",
      "115\n",
      "116\n",
      "117\n",
      "118\n",
      "119\n",
      "120\n",
      "121\n",
      "122\n",
      "123\n",
      "124\n",
      "125\n",
      "126\n",
      "127\n",
      "128\n",
      "129\n",
      "130\n",
      "131\n",
      "132\n",
      "133\n",
      "134\n",
      "135\n",
      "136\n",
      "137\n",
      "138\n",
      "139\n",
      "140\n",
      "141\n",
      "142\n",
      "143\n",
      "144\n",
      "[(tensor([[126,  96,  38]], dtype=torch.int32), tensor([[181, 147,  92]], dtype=torch.int32)), (tensor([[83, 94, 21]], dtype=torch.int32), tensor([[107, 116,  39]], dtype=torch.int32)), (tensor([[76, 80, 20]], dtype=torch.int32), tensor([[128, 128,  74]], dtype=torch.int32)), (tensor([[63, 83, 31]], dtype=torch.int32), tensor([[113, 125,  77]], dtype=torch.int32)), (tensor([[ 68, 111,  23]], dtype=torch.int32), tensor([[ 87, 130,  37]], dtype=torch.int32)), (tensor([[ 28, 144,  55]], dtype=torch.int32), tensor([[ 69, 193,  96]], dtype=torch.int32)), (tensor([[112,  84,  28]], dtype=torch.int32), tensor([[197, 140, 109]], dtype=torch.int32)), (tensor([[ 85, 138,  36]], dtype=torch.int32), tensor([[193, 200, 112]], dtype=torch.int32)), (tensor([[ 67, 114,   4]], dtype=torch.int32), tensor([[123, 161,  46]], dtype=torch.int32)), (tensor([[ 74, 105,  16]], dtype=torch.int32), tensor([[157, 163,  47]], dtype=torch.int32)), (tensor([[104,  97,  18]], dtype=torch.int32), tensor([[166, 144,  60]], dtype=torch.int32)), (tensor([[ 86, 106,  18]], dtype=torch.int32), tensor([[123, 136,  44]], dtype=torch.int32)), (tensor([[79, 61, 18]], dtype=torch.int32), tensor([[164, 113, 124]], dtype=torch.int32)), (tensor([[80, 98, 22]], dtype=torch.int32), tensor([[ 98, 112,  33]], dtype=torch.int32)), (tensor([[82, 88, 17]], dtype=torch.int32), tensor([[170, 157,  73]], dtype=torch.int32)), (tensor([[135, 123,  27]], dtype=torch.int32), tensor([[165, 156,  49]], dtype=torch.int32)), (tensor([[56, 91, 25]], dtype=torch.int32), tensor([[ 85, 116,  43]], dtype=torch.int32)), (tensor([[79, 94, 13]], dtype=torch.int32), tensor([[134, 145,  45]], dtype=torch.int32)), (tensor([[ 58, 108,  15]], dtype=torch.int32), tensor([[129, 157,  59]], dtype=torch.int32)), (tensor([[136,  92,  22]], dtype=torch.int32), tensor([[168, 141,  44]], dtype=torch.int32)), (tensor([[40, 31, 18]], dtype=torch.int32), tensor([[191, 151, 139]], dtype=torch.int32)), (tensor([[ 90,  89, 123]], dtype=torch.int32), tensor([[114, 112, 148]], dtype=torch.int32)), (tensor([[14, 97, 26]], dtype=torch.int32), tensor([[ 83, 156,  92]], dtype=torch.int32)), (tensor([[ 66, 117,  80]], dtype=torch.int32), tensor([[120, 156, 130]], dtype=torch.int32)), (tensor([[136, 108,  25]], dtype=torch.int32), tensor([[182, 154,  75]], dtype=torch.int32)), (tensor([[ 81, 100,  87]], dtype=torch.int32), tensor([[133, 155, 131]], dtype=torch.int32)), (tensor([[30, 67, 18]], dtype=torch.int32), tensor([[ 96, 128,  65]], dtype=torch.int32)), (tensor([[121,  98,  45]], dtype=torch.int32), tensor([[164, 142,  82]], dtype=torch.int32)), (tensor([[51, 66, 15]], dtype=torch.int32), tensor([[145, 133,  66]], dtype=torch.int32)), (tensor([[ 80, 106,  27]], dtype=torch.int32), tensor([[180, 186,  72]], dtype=torch.int32)), (tensor([[ 99, 129,  16]], dtype=torch.int32), tensor([[159, 189,  66]], dtype=torch.int32)), (tensor([[83, 88, 23]], dtype=torch.int32), tensor([[131, 129,  69]], dtype=torch.int32)), (tensor([[62, 70, 20]], dtype=torch.int32), tensor([[112, 110,  45]], dtype=torch.int32)), (tensor([[124, 103,  87]], dtype=torch.int32), tensor([[175, 147, 139]], dtype=torch.int32)), (tensor([[145,  99,  54]], dtype=torch.int32), tensor([[214, 168, 122]], dtype=torch.int32)), (tensor([[39, 54, 42]], dtype=torch.int32), tensor([[144, 161, 115]], dtype=torch.int32)), (tensor([[102,  99,  21]], dtype=torch.int32), tensor([[149, 169,  66]], dtype=torch.int32)), (tensor([[88, 94, 20]], dtype=torch.int32), tensor([[109, 112,  45]], dtype=torch.int32)), (tensor([[ 81, 100,  18]], dtype=torch.int32), tensor([[119, 125,  57]], dtype=torch.int32)), (tensor([[ 76, 112,  23]], dtype=torch.int32), tensor([[132, 166,  81]], dtype=torch.int32)), (tensor([[91, 73, 40]], dtype=torch.int32), tensor([[142, 127,  85]], dtype=torch.int32)), (tensor([[132, 116,  37]], dtype=torch.int32), tensor([[203, 187, 108]], dtype=torch.int32)), (tensor([[98, 80, 17]], dtype=torch.int32), tensor([[132, 105,  29]], dtype=torch.int32)), (tensor([[ 81, 128,  22]], dtype=torch.int32), tensor([[108, 153,  46]], dtype=torch.int32)), (tensor([[113, 125,  18]], dtype=torch.int32), tensor([[179, 185,  70]], dtype=torch.int32)), (tensor([[112, 103,  44]], dtype=torch.int32), tensor([[122, 111,  54]], dtype=torch.int32)), (tensor([[ 99, 113,  66]], dtype=torch.int32), tensor([[163, 169, 114]], dtype=torch.int32)), (tensor([[87, 92, 22]], dtype=torch.int32), tensor([[153, 146,  76]], dtype=torch.int32)), (tensor([[153,  70,  49]], dtype=torch.int32), tensor([[187, 115, 101]], dtype=torch.int32)), (tensor([[ 72, 132,  33]], dtype=torch.int32), tensor([[107, 164,  61]], dtype=torch.int32)), (tensor([[ 47, 115,  52]], dtype=torch.int32), tensor([[ 66, 134,  77]], dtype=torch.int32)), (tensor([[27, 70, 30]], dtype=torch.int32), tensor([[ 80, 139,  91]], dtype=torch.int32)), (tensor([[110,  53,  40]], dtype=torch.int32), tensor([[180, 180, 129]], dtype=torch.int32)), (tensor([[121,  56,  20]], dtype=torch.int32), tensor([[174, 111,  81]], dtype=torch.int32)), (tensor([[ 94, 100,  19]], dtype=torch.int32), tensor([[156, 151,  66]], dtype=torch.int32)), (tensor([[133,  63,  29]], dtype=torch.int32), tensor([[169,  96,  57]], dtype=torch.int32)), (tensor([[103,  54,  60]], dtype=torch.int32), tensor([[163,  97, 124]], dtype=torch.int32)), (tensor([[ 98, 102,  33]], dtype=torch.int32), tensor([[123, 122,  54]], dtype=torch.int32)), (tensor([[148, 113,  62]], dtype=torch.int32), tensor([[192, 155, 101]], dtype=torch.int32)), (tensor([[44, 54, 50]], dtype=torch.int32), tensor([[127, 103, 118]], dtype=torch.int32)), (tensor([[74, 19, 88]], dtype=torch.int32), tensor([[131,  48, 122]], dtype=torch.int32)), (tensor([[ 71, 126, 104]], dtype=torch.int32), tensor([[114, 168, 140]], dtype=torch.int32)), (tensor([[70, 65, 22]], dtype=torch.int32), tensor([[144, 131,  76]], dtype=torch.int32)), (tensor([[111, 118,  25]], dtype=torch.int32), tensor([[127, 130,  39]], dtype=torch.int32)), (tensor([[87, 86, 67]], dtype=torch.int32), tensor([[131, 140, 137]], dtype=torch.int32)), (tensor([[163,  48,  54]], dtype=torch.int32), tensor([[202,  95, 103]], dtype=torch.int32)), (tensor([[ 65, 117,  15]], dtype=torch.int32), tensor([[102, 148,  47]], dtype=torch.int32)), (tensor([[51, 92, 53]], dtype=torch.int32), tensor([[ 84, 120,  89]], dtype=torch.int32)), (tensor([[127,  53,  23]], dtype=torch.int32), tensor([[192, 110,  91]], dtype=torch.int32)), (tensor([[43, 93, 17]], dtype=torch.int32), tensor([[101, 154,  53]], dtype=torch.int32)), (tensor([[116,  71,  36]], dtype=torch.int32), tensor([[176, 135, 100]], dtype=torch.int32)), (tensor([[129,  63,  28]], dtype=torch.int32), tensor([[167,  96,  59]], dtype=torch.int32)), (tensor([[22, 93, 75]], dtype=torch.int32), tensor([[ 43, 125, 111]], dtype=torch.int32)), (tensor([[145, 111,  23]], dtype=torch.int32), tensor([[181, 141,  63]], dtype=torch.int32)), (tensor([[103,  67,  25]], dtype=torch.int32), tensor([[126,  93,  44]], dtype=torch.int32)), (tensor([[32, 92, 17]], dtype=torch.int32), tensor([[117, 149,  54]], dtype=torch.int32)), (tensor([[138,  38,  83]], dtype=torch.int32), tensor([[194,  98, 141]], dtype=torch.int32)), (tensor([[ 89, 109,  21]], dtype=torch.int32), tensor([[165, 171,  75]], dtype=torch.int32)), (tensor([[96, 50,  4]], dtype=torch.int32), tensor([[185, 122,  62]], dtype=torch.int32)), (tensor([[117,  58,  23]], dtype=torch.int32), tensor([[167, 102,  63]], dtype=torch.int32)), (tensor([[189, 111,  56]], dtype=torch.int32), tensor([[236, 166, 123]], dtype=torch.int32)), (tensor([[34, 89, 22]], dtype=torch.int32), tensor([[ 90, 151,  72]], dtype=torch.int32)), (tensor([[20, 64, 62]], dtype=torch.int32), tensor([[50, 96, 95]], dtype=torch.int32)), (tensor([[68, 95, 10]], dtype=torch.int32), tensor([[112, 127,  46]], dtype=torch.int32)), (tensor([[93, 51, 67]], dtype=torch.int32), tensor([[150, 107, 109]], dtype=torch.int32)), (tensor([[51, 26, 79]], dtype=torch.int32), tensor([[ 92,  58, 117]], dtype=torch.int32)), (tensor([[87, 54, 35]], dtype=torch.int32), tensor([[153,  92, 105]], dtype=torch.int32)), (tensor([[86, 90,  5]], dtype=torch.int32), tensor([[136, 122,  38]], dtype=torch.int32)), (tensor([[ 79, 134,  22]], dtype=torch.int32), tensor([[121, 173,  53]], dtype=torch.int32)), (tensor([[ 28, 125,  39]], dtype=torch.int32), tensor([[ 94, 181, 101]], dtype=torch.int32)), (tensor([[112,  46,  15]], dtype=torch.int32), tensor([[241, 183, 144]], dtype=torch.int32)), (tensor([[ 62, 140,  20]], dtype=torch.int32), tensor([[134, 195,  75]], dtype=torch.int32)), (tensor([[63, 58, 32]], dtype=torch.int32), tensor([[127, 100,  88]], dtype=torch.int32)), (tensor([[51, 97, 56]], dtype=torch.int32), tensor([[108, 145, 108]], dtype=torch.int32)), (tensor([[102, 130,  21]], dtype=torch.int32), tensor([[146, 169,  44]], dtype=torch.int32)), (tensor([[107, 149,  26]], dtype=torch.int32), tensor([[140, 179,  45]], dtype=torch.int32)), (tensor([[144, 118,  79]], dtype=torch.int32), tensor([[191, 161, 116]], dtype=torch.int32)), (tensor([[116,  89, 105]], dtype=torch.int32), tensor([[137, 108, 119]], dtype=torch.int32)), (tensor([[127, 140,  95]], dtype=torch.int32), tensor([[183, 195, 138]], dtype=torch.int32)), (tensor([[54, 73, 11]], dtype=torch.int32), tensor([[168, 178,  97]], dtype=torch.int32)), (tensor([[123,  94,  74]], dtype=torch.int32), tensor([[184, 129, 128]], dtype=torch.int32)), (tensor([[ 80, 130,  37]], dtype=torch.int32), tensor([[154, 194, 112]], dtype=torch.int32)), (tensor([[133,  73,  42]], dtype=torch.int32), tensor([[168, 107,  75]], dtype=torch.int32)), (tensor([[109, 163,  49]], dtype=torch.int32), tensor([[141, 189,  87]], dtype=torch.int32)), (tensor([[139, 107,  39]], dtype=torch.int32), tensor([[169, 126,  74]], dtype=torch.int32)), (tensor([[110,  80,  35]], dtype=torch.int32), tensor([[176, 136,  99]], dtype=torch.int32)), (tensor([[87, 66, 18]], dtype=torch.int32), tensor([[201, 149, 100]], dtype=torch.int32)), (tensor([[ 72, 139, 117]], dtype=torch.int32), tensor([[108, 178, 141]], dtype=torch.int32)), (tensor([[101, 122,  33]], dtype=torch.int32), tensor([[169, 180,  82]], dtype=torch.int32)), (tensor([[ 32, 106,  38]], dtype=torch.int32), tensor([[ 92, 145,  91]], dtype=torch.int32)), (tensor([[74, 51, 21]], dtype=torch.int32), tensor([[141,  96,  61]], dtype=torch.int32)), (tensor([[99, 40,  0]], dtype=torch.int32), tensor([[189, 141,  82]], dtype=torch.int32)), (tensor([[ 86, 121,  19]], dtype=torch.int32), tensor([[148, 153,  56]], dtype=torch.int32)), (tensor([[ 38, 103,  28]], dtype=torch.int32), tensor([[102, 167,  82]], dtype=torch.int32)), (tensor([[112, 116,  40]], dtype=torch.int32), tensor([[151, 151,  82]], dtype=torch.int32)), (tensor([[105, 128,  88]], dtype=torch.int32), tensor([[172, 189, 130]], dtype=torch.int32)), (tensor([[ 87, 112,  95]], dtype=torch.int32), tensor([[212, 212, 119]], dtype=torch.int32)), (tensor([[172,  69,  39]], dtype=torch.int32), tensor([[193,  91,  59]], dtype=torch.int32)), (tensor([[156, 120,  73]], dtype=torch.int32), tensor([[185, 145, 104]], dtype=torch.int32)), (tensor([[44, 80, 42]], dtype=torch.int32), tensor([[ 95, 127,  95]], dtype=torch.int32)), (tensor([[120, 119,  59]], dtype=torch.int32), tensor([[140, 136,  78]], dtype=torch.int32)), (tensor([[93, 49, 81]], dtype=torch.int32), tensor([[162, 104, 138]], dtype=torch.int32)), (tensor([[35, 52,  0]], dtype=torch.int32), tensor([[106, 107,  63]], dtype=torch.int32)), (tensor([[96, 66, 18]], dtype=torch.int32), tensor([[138, 100,  40]], dtype=torch.int32)), (tensor([[ 32, 113,  53]], dtype=torch.int32), tensor([[ 67, 140,  84]], dtype=torch.int32)), (tensor([[ 49, 123,  92]], dtype=torch.int32), tensor([[ 99, 178, 137]], dtype=torch.int32)), (tensor([[ 63, 102,  65]], dtype=torch.int32), tensor([[107, 151, 107]], dtype=torch.int32)), (tensor([[92, 83, 15]], dtype=torch.int32), tensor([[163, 149,  82]], dtype=torch.int32)), (tensor([[120, 119,  59]], dtype=torch.int32), tensor([[139, 137,  80]], dtype=torch.int32)), (tensor([[121, 114,  50]], dtype=torch.int32), tensor([[191, 173, 116]], dtype=torch.int32)), (tensor([[125, 103,  40]], dtype=torch.int32), tensor([[176, 148, 100]], dtype=torch.int32)), (tensor([[ 20, 111,  63]], dtype=torch.int32), tensor([[ 58, 143, 103]], dtype=torch.int32)), (tensor([[83, 83, 27]], dtype=torch.int32), tensor([[137, 115,  67]], dtype=torch.int32)), (tensor([[ 82, 109,  70]], dtype=torch.int32), tensor([[ 97, 130,  98]], dtype=torch.int32)), (tensor([[ 91, 109,  50]], dtype=torch.int32), tensor([[134, 156,  91]], dtype=torch.int32)), (tensor([[ 47, 115,  64]], dtype=torch.int32), tensor([[128, 171, 119]], dtype=torch.int32)), (tensor([[132,  31,  98]], dtype=torch.int32), tensor([[198,  79, 143]], dtype=torch.int32)), (tensor([[68, 78, 15]], dtype=torch.int32), tensor([[107, 121,  50]], dtype=torch.int32)), (tensor([[68, 90, 13]], dtype=torch.int32), tensor([[150, 135,  59]], dtype=torch.int32)), (tensor([[79, 35, 14]], dtype=torch.int32), tensor([[157,  97,  69]], dtype=torch.int32)), (tensor([[77, 95, 16]], dtype=torch.int32), tensor([[162, 168,  56]], dtype=torch.int32)), (tensor([[44, 73, 32]], dtype=torch.int32), tensor([[ 89, 120,  67]], dtype=torch.int32)), (tensor([[118, 109,  30]], dtype=torch.int32), tensor([[191, 176,  95]], dtype=torch.int32)), (tensor([[70, 38, 78]], dtype=torch.int32), tensor([[185, 121, 168]], dtype=torch.int32))]\n"
     ]
    }
   ],
   "source": [
    "def get_max_bounding_box(data_loader: DataLoader) -> Tuple[np.array, ...]:\n",
    "    bounding_boxes = []\n",
    "    i = 0\n",
    "    labels = []\n",
    "    for data in data_loader:\n",
    "        bounding_boxes.append(\n",
    "            (data[\"foreground_start_coord\"], data[\"foreground_end_coord\"])\n",
    "        )\n",
    "        labels.append(data[\"label\"])\n",
    "        i += 1\n",
    "        print(i)\n",
    "\n",
    "    print(bounding_boxes)\n",
    "    centers = []\n",
    "    sizes = []\n",
    "    max_length = 0\n",
    "    for box in bounding_boxes:\n",
    "        box_size = box[1] - box[0]\n",
    "        centers.append(box[0] + box_size / 2.0)\n",
    "        sizes.append(box[1] - box[0])\n",
    "        max_length_box = box_size.max()\n",
    "        if max_length_box > max_length:\n",
    "            max_length = max_length_box\n",
    "    return np.array([max_length] * 3), centers, sizes, labels\n",
    "\n",
    "\n",
    "loader = get_data_loader(TransformationsMode.ONLY_PREPROCESSING, ci_run=False)\n",
    "max_bounding_box, centers, sizes, labels = get_max_bounding_box(loader)"
   ],
   "metadata": {
    "collapsed": false
   }
  },
  {
   "cell_type": "markdown",
   "source": [
    "## Visualization of bounding boxes"
   ],
   "metadata": {
    "collapsed": false
   }
  },
  {
   "cell_type": "code",
   "execution_count": 137,
   "outputs": [],
   "source": [
    "def reshape_list_of_tensors(list_of_tensors):\n",
    "    stacked_array = np.stack(list_of_tensors)\n",
    "    return stacked_array.reshape(len(list_of_tensors), -1)\n",
    "\n",
    "\n",
    "centers_reshaped = reshape_list_of_tensors(centers)\n",
    "labels_reshaped = reshape_list_of_tensors(labels)"
   ],
   "metadata": {
    "collapsed": false
   }
  },
  {
   "cell_type": "code",
   "execution_count": 138,
   "outputs": [
    {
     "data": {
      "application/vnd.plotly.v1+json": {
       "data": [
        {
         "hovertemplate": "x=%{x}<br>y=%{y}<br>z=%{z}<br>labels=%{marker.color}<extra></extra>",
         "legendgroup": "",
         "marker": {
          "color": [
           3,
           1,
           1,
           1,
           1,
           2,
           1,
           3,
           2,
           3,
           3,
           1,
           3,
           3,
           1,
           3,
           1,
           2,
           1,
           3,
           2,
           2,
           2,
           2,
           1,
           2,
           1,
           1,
           2,
           3,
           3,
           1,
           3,
           1,
           2,
           2,
           3,
           1,
           3,
           1,
           1,
           1,
           1,
           2,
           2,
           1,
           2,
           1,
           2,
           2,
           1,
           1,
           2,
           1,
           1,
           3,
           2,
           1,
           3,
           2,
           2,
           2,
           1,
           1,
           2,
           1,
           1,
           1,
           1,
           2,
           3,
           2,
           1,
           3,
           3,
           3,
           3,
           3,
           3,
           1,
           1,
           1,
           1,
           3,
           2,
           2,
           2,
           3,
           2,
           1,
           2,
           2,
           2,
           1,
           2,
           1,
           2,
           2,
           2,
           1,
           2,
           2,
           2,
           2,
           1,
           3,
           2,
           2,
           2,
           3,
           2,
           2,
           1,
           1,
           1,
           2,
           2,
           3,
           3,
           1,
           2,
           3,
           2,
           1,
           1,
           2,
           2,
           2,
           2,
           1,
           1,
           1,
           3,
           2,
           1,
           2,
           2,
           1,
           1,
           2,
           1,
           1,
           3,
           3
          ],
          "coloraxis": "coloraxis",
          "symbol": "circle"
         },
         "mode": "markers",
         "name": "",
         "scene": "scene",
         "showlegend": false,
         "x": [
          153.5,
          95.0,
          102.0,
          88.0,
          77.5,
          48.5,
          154.5,
          139.0,
          95.0,
          115.5,
          135.0,
          104.5,
          121.5,
          89.0,
          126.0,
          150.0,
          70.5,
          106.5,
          93.5,
          152.0,
          115.5,
          102.0,
          48.5,
          93.0,
          159.0,
          107.0,
          63.0,
          142.5,
          98.0,
          130.0,
          129.0,
          107.0,
          87.0,
          149.5,
          179.5,
          91.5,
          125.5,
          98.5,
          100.0,
          104.0,
          116.5,
          167.5,
          115.0,
          94.5,
          146.0,
          117.0,
          131.0,
          120.0,
          170.0,
          89.5,
          56.5,
          53.5,
          145.0,
          147.5,
          125.0,
          151.0,
          133.0,
          110.5,
          170.0,
          85.5,
          102.5,
          92.5,
          107.0,
          119.0,
          109.0,
          182.5,
          83.5,
          67.5,
          159.5,
          72.0,
          146.0,
          148.0,
          32.5,
          163.0,
          114.5,
          74.5,
          166.0,
          127.0,
          140.5,
          142.0,
          212.5,
          62.0,
          35.0,
          90.0,
          121.5,
          71.5,
          120.0,
          111.0,
          100.0,
          61.0,
          176.5,
          98.0,
          95.0,
          79.5,
          124.0,
          123.5,
          167.5,
          126.5,
          155.0,
          111.0,
          153.5,
          117.0,
          150.5,
          125.0,
          154.0,
          143.0,
          144.0,
          90.0,
          135.0,
          62.0,
          107.5,
          144.0,
          117.0,
          70.0,
          131.5,
          138.5,
          149.5,
          182.5,
          170.5,
          69.5,
          130.0,
          127.5,
          70.5,
          117.0,
          49.5,
          74.0,
          85.0,
          127.5,
          129.5,
          156.0,
          150.5,
          39.0,
          110.0,
          89.5,
          112.5,
          87.5,
          165.0,
          87.5,
          109.0,
          118.0,
          119.5,
          66.5,
          154.5,
          127.5
         ],
         "y": [
          121.5,
          105.0,
          104.0,
          104.0,
          120.5,
          168.5,
          112.0,
          169.0,
          137.5,
          134.0,
          120.5,
          121.0,
          87.0,
          105.0,
          122.5,
          139.5,
          103.5,
          119.5,
          132.5,
          116.5,
          91.0,
          100.5,
          126.5,
          136.5,
          131.0,
          127.5,
          97.5,
          120.0,
          99.5,
          146.0,
          159.0,
          108.5,
          90.0,
          125.0,
          133.5,
          107.5,
          134.0,
          103.0,
          112.5,
          139.0,
          100.0,
          151.5,
          92.5,
          140.5,
          155.0,
          107.0,
          141.0,
          119.0,
          92.5,
          148.0,
          124.5,
          104.5,
          116.5,
          83.5,
          125.5,
          79.5,
          75.5,
          112.0,
          134.0,
          78.5,
          33.5,
          147.0,
          98.0,
          124.0,
          113.0,
          71.5,
          132.5,
          106.0,
          81.5,
          123.5,
          103.0,
          79.5,
          109.0,
          126.0,
          80.0,
          120.5,
          68.0,
          140.0,
          86.0,
          80.0,
          138.5,
          120.0,
          80.0,
          111.0,
          79.0,
          42.0,
          73.0,
          106.0,
          153.5,
          153.0,
          114.5,
          167.5,
          79.0,
          121.0,
          149.5,
          164.0,
          139.5,
          98.5,
          167.5,
          125.5,
          111.5,
          162.0,
          90.0,
          176.0,
          116.5,
          108.0,
          107.5,
          158.5,
          151.0,
          125.5,
          73.5,
          90.5,
          137.0,
          135.0,
          133.5,
          158.5,
          162.0,
          80.0,
          132.5,
          103.5,
          127.5,
          76.5,
          79.5,
          83.0,
          126.5,
          150.5,
          126.5,
          116.0,
          128.0,
          143.5,
          125.5,
          127.0,
          99.0,
          119.5,
          132.5,
          143.0,
          55.0,
          99.5,
          112.5,
          66.0,
          131.5,
          96.5,
          142.5,
          79.5
         ],
         "z": [
          65.0,
          30.0,
          47.0,
          54.0,
          30.0,
          75.5,
          68.5,
          74.0,
          25.0,
          31.5,
          39.0,
          31.0,
          71.0,
          27.5,
          45.0,
          38.0,
          34.0,
          29.0,
          37.0,
          33.0,
          78.5,
          135.5,
          59.0,
          105.0,
          50.0,
          109.0,
          41.5,
          63.5,
          40.5,
          49.5,
          41.0,
          46.0,
          32.5,
          113.0,
          88.0,
          78.5,
          43.5,
          32.5,
          37.5,
          52.0,
          62.5,
          72.5,
          23.0,
          34.0,
          44.0,
          49.0,
          90.0,
          49.0,
          75.0,
          47.0,
          64.5,
          60.5,
          84.5,
          50.5,
          42.5,
          43.0,
          92.0,
          43.5,
          81.5,
          84.0,
          105.0,
          122.0,
          49.0,
          32.0,
          102.0,
          78.5,
          31.0,
          71.0,
          57.0,
          35.0,
          68.0,
          43.5,
          93.0,
          43.0,
          34.5,
          35.5,
          112.0,
          48.0,
          33.0,
          43.0,
          89.5,
          47.0,
          78.5,
          28.0,
          88.0,
          98.0,
          70.0,
          21.5,
          37.5,
          70.0,
          79.5,
          47.5,
          60.0,
          82.0,
          32.5,
          35.5,
          97.5,
          112.0,
          116.5,
          54.0,
          101.0,
          74.5,
          58.5,
          68.0,
          56.5,
          67.0,
          59.0,
          129.0,
          57.5,
          64.5,
          41.0,
          41.0,
          37.5,
          55.0,
          61.0,
          109.0,
          107.0,
          49.0,
          88.5,
          68.5,
          68.5,
          109.5,
          31.5,
          29.0,
          68.5,
          114.5,
          86.0,
          48.5,
          69.5,
          83.0,
          70.0,
          83.0,
          47.0,
          84.0,
          70.5,
          91.5,
          120.5,
          32.5,
          36.0,
          41.5,
          36.0,
          49.5,
          62.5,
          123.0
         ],
         "type": "scatter3d"
        }
       ],
       "layout": {
        "template": {
         "data": {
          "histogram2dcontour": [
           {
            "type": "histogram2dcontour",
            "colorbar": {
             "outlinewidth": 0,
             "ticks": ""
            },
            "colorscale": [
             [
              0.0,
              "#0d0887"
             ],
             [
              0.1111111111111111,
              "#46039f"
             ],
             [
              0.2222222222222222,
              "#7201a8"
             ],
             [
              0.3333333333333333,
              "#9c179e"
             ],
             [
              0.4444444444444444,
              "#bd3786"
             ],
             [
              0.5555555555555556,
              "#d8576b"
             ],
             [
              0.6666666666666666,
              "#ed7953"
             ],
             [
              0.7777777777777778,
              "#fb9f3a"
             ],
             [
              0.8888888888888888,
              "#fdca26"
             ],
             [
              1.0,
              "#f0f921"
             ]
            ]
           }
          ],
          "choropleth": [
           {
            "type": "choropleth",
            "colorbar": {
             "outlinewidth": 0,
             "ticks": ""
            }
           }
          ],
          "histogram2d": [
           {
            "type": "histogram2d",
            "colorbar": {
             "outlinewidth": 0,
             "ticks": ""
            },
            "colorscale": [
             [
              0.0,
              "#0d0887"
             ],
             [
              0.1111111111111111,
              "#46039f"
             ],
             [
              0.2222222222222222,
              "#7201a8"
             ],
             [
              0.3333333333333333,
              "#9c179e"
             ],
             [
              0.4444444444444444,
              "#bd3786"
             ],
             [
              0.5555555555555556,
              "#d8576b"
             ],
             [
              0.6666666666666666,
              "#ed7953"
             ],
             [
              0.7777777777777778,
              "#fb9f3a"
             ],
             [
              0.8888888888888888,
              "#fdca26"
             ],
             [
              1.0,
              "#f0f921"
             ]
            ]
           }
          ],
          "heatmap": [
           {
            "type": "heatmap",
            "colorbar": {
             "outlinewidth": 0,
             "ticks": ""
            },
            "colorscale": [
             [
              0.0,
              "#0d0887"
             ],
             [
              0.1111111111111111,
              "#46039f"
             ],
             [
              0.2222222222222222,
              "#7201a8"
             ],
             [
              0.3333333333333333,
              "#9c179e"
             ],
             [
              0.4444444444444444,
              "#bd3786"
             ],
             [
              0.5555555555555556,
              "#d8576b"
             ],
             [
              0.6666666666666666,
              "#ed7953"
             ],
             [
              0.7777777777777778,
              "#fb9f3a"
             ],
             [
              0.8888888888888888,
              "#fdca26"
             ],
             [
              1.0,
              "#f0f921"
             ]
            ]
           }
          ],
          "heatmapgl": [
           {
            "type": "heatmapgl",
            "colorbar": {
             "outlinewidth": 0,
             "ticks": ""
            },
            "colorscale": [
             [
              0.0,
              "#0d0887"
             ],
             [
              0.1111111111111111,
              "#46039f"
             ],
             [
              0.2222222222222222,
              "#7201a8"
             ],
             [
              0.3333333333333333,
              "#9c179e"
             ],
             [
              0.4444444444444444,
              "#bd3786"
             ],
             [
              0.5555555555555556,
              "#d8576b"
             ],
             [
              0.6666666666666666,
              "#ed7953"
             ],
             [
              0.7777777777777778,
              "#fb9f3a"
             ],
             [
              0.8888888888888888,
              "#fdca26"
             ],
             [
              1.0,
              "#f0f921"
             ]
            ]
           }
          ],
          "contourcarpet": [
           {
            "type": "contourcarpet",
            "colorbar": {
             "outlinewidth": 0,
             "ticks": ""
            }
           }
          ],
          "contour": [
           {
            "type": "contour",
            "colorbar": {
             "outlinewidth": 0,
             "ticks": ""
            },
            "colorscale": [
             [
              0.0,
              "#0d0887"
             ],
             [
              0.1111111111111111,
              "#46039f"
             ],
             [
              0.2222222222222222,
              "#7201a8"
             ],
             [
              0.3333333333333333,
              "#9c179e"
             ],
             [
              0.4444444444444444,
              "#bd3786"
             ],
             [
              0.5555555555555556,
              "#d8576b"
             ],
             [
              0.6666666666666666,
              "#ed7953"
             ],
             [
              0.7777777777777778,
              "#fb9f3a"
             ],
             [
              0.8888888888888888,
              "#fdca26"
             ],
             [
              1.0,
              "#f0f921"
             ]
            ]
           }
          ],
          "surface": [
           {
            "type": "surface",
            "colorbar": {
             "outlinewidth": 0,
             "ticks": ""
            },
            "colorscale": [
             [
              0.0,
              "#0d0887"
             ],
             [
              0.1111111111111111,
              "#46039f"
             ],
             [
              0.2222222222222222,
              "#7201a8"
             ],
             [
              0.3333333333333333,
              "#9c179e"
             ],
             [
              0.4444444444444444,
              "#bd3786"
             ],
             [
              0.5555555555555556,
              "#d8576b"
             ],
             [
              0.6666666666666666,
              "#ed7953"
             ],
             [
              0.7777777777777778,
              "#fb9f3a"
             ],
             [
              0.8888888888888888,
              "#fdca26"
             ],
             [
              1.0,
              "#f0f921"
             ]
            ]
           }
          ],
          "mesh3d": [
           {
            "type": "mesh3d",
            "colorbar": {
             "outlinewidth": 0,
             "ticks": ""
            }
           }
          ],
          "scatter": [
           {
            "fillpattern": {
             "fillmode": "overlay",
             "size": 10,
             "solidity": 0.2
            },
            "type": "scatter"
           }
          ],
          "parcoords": [
           {
            "type": "parcoords",
            "line": {
             "colorbar": {
              "outlinewidth": 0,
              "ticks": ""
             }
            }
           }
          ],
          "scatterpolargl": [
           {
            "type": "scatterpolargl",
            "marker": {
             "colorbar": {
              "outlinewidth": 0,
              "ticks": ""
             }
            }
           }
          ],
          "bar": [
           {
            "error_x": {
             "color": "#2a3f5f"
            },
            "error_y": {
             "color": "#2a3f5f"
            },
            "marker": {
             "line": {
              "color": "#E5ECF6",
              "width": 0.5
             },
             "pattern": {
              "fillmode": "overlay",
              "size": 10,
              "solidity": 0.2
             }
            },
            "type": "bar"
           }
          ],
          "scattergeo": [
           {
            "type": "scattergeo",
            "marker": {
             "colorbar": {
              "outlinewidth": 0,
              "ticks": ""
             }
            }
           }
          ],
          "scatterpolar": [
           {
            "type": "scatterpolar",
            "marker": {
             "colorbar": {
              "outlinewidth": 0,
              "ticks": ""
             }
            }
           }
          ],
          "histogram": [
           {
            "marker": {
             "pattern": {
              "fillmode": "overlay",
              "size": 10,
              "solidity": 0.2
             }
            },
            "type": "histogram"
           }
          ],
          "scattergl": [
           {
            "type": "scattergl",
            "marker": {
             "colorbar": {
              "outlinewidth": 0,
              "ticks": ""
             }
            }
           }
          ],
          "scatter3d": [
           {
            "type": "scatter3d",
            "line": {
             "colorbar": {
              "outlinewidth": 0,
              "ticks": ""
             }
            },
            "marker": {
             "colorbar": {
              "outlinewidth": 0,
              "ticks": ""
             }
            }
           }
          ],
          "scattermapbox": [
           {
            "type": "scattermapbox",
            "marker": {
             "colorbar": {
              "outlinewidth": 0,
              "ticks": ""
             }
            }
           }
          ],
          "scatterternary": [
           {
            "type": "scatterternary",
            "marker": {
             "colorbar": {
              "outlinewidth": 0,
              "ticks": ""
             }
            }
           }
          ],
          "scattercarpet": [
           {
            "type": "scattercarpet",
            "marker": {
             "colorbar": {
              "outlinewidth": 0,
              "ticks": ""
             }
            }
           }
          ],
          "carpet": [
           {
            "aaxis": {
             "endlinecolor": "#2a3f5f",
             "gridcolor": "white",
             "linecolor": "white",
             "minorgridcolor": "white",
             "startlinecolor": "#2a3f5f"
            },
            "baxis": {
             "endlinecolor": "#2a3f5f",
             "gridcolor": "white",
             "linecolor": "white",
             "minorgridcolor": "white",
             "startlinecolor": "#2a3f5f"
            },
            "type": "carpet"
           }
          ],
          "table": [
           {
            "cells": {
             "fill": {
              "color": "#EBF0F8"
             },
             "line": {
              "color": "white"
             }
            },
            "header": {
             "fill": {
              "color": "#C8D4E3"
             },
             "line": {
              "color": "white"
             }
            },
            "type": "table"
           }
          ],
          "barpolar": [
           {
            "marker": {
             "line": {
              "color": "#E5ECF6",
              "width": 0.5
             },
             "pattern": {
              "fillmode": "overlay",
              "size": 10,
              "solidity": 0.2
             }
            },
            "type": "barpolar"
           }
          ],
          "pie": [
           {
            "automargin": true,
            "type": "pie"
           }
          ]
         },
         "layout": {
          "autotypenumbers": "strict",
          "colorway": [
           "#636efa",
           "#EF553B",
           "#00cc96",
           "#ab63fa",
           "#FFA15A",
           "#19d3f3",
           "#FF6692",
           "#B6E880",
           "#FF97FF",
           "#FECB52"
          ],
          "font": {
           "color": "#2a3f5f"
          },
          "hovermode": "closest",
          "hoverlabel": {
           "align": "left"
          },
          "paper_bgcolor": "white",
          "plot_bgcolor": "#E5ECF6",
          "polar": {
           "bgcolor": "#E5ECF6",
           "angularaxis": {
            "gridcolor": "white",
            "linecolor": "white",
            "ticks": ""
           },
           "radialaxis": {
            "gridcolor": "white",
            "linecolor": "white",
            "ticks": ""
           }
          },
          "ternary": {
           "bgcolor": "#E5ECF6",
           "aaxis": {
            "gridcolor": "white",
            "linecolor": "white",
            "ticks": ""
           },
           "baxis": {
            "gridcolor": "white",
            "linecolor": "white",
            "ticks": ""
           },
           "caxis": {
            "gridcolor": "white",
            "linecolor": "white",
            "ticks": ""
           }
          },
          "coloraxis": {
           "colorbar": {
            "outlinewidth": 0,
            "ticks": ""
           }
          },
          "colorscale": {
           "sequential": [
            [
             0.0,
             "#0d0887"
            ],
            [
             0.1111111111111111,
             "#46039f"
            ],
            [
             0.2222222222222222,
             "#7201a8"
            ],
            [
             0.3333333333333333,
             "#9c179e"
            ],
            [
             0.4444444444444444,
             "#bd3786"
            ],
            [
             0.5555555555555556,
             "#d8576b"
            ],
            [
             0.6666666666666666,
             "#ed7953"
            ],
            [
             0.7777777777777778,
             "#fb9f3a"
            ],
            [
             0.8888888888888888,
             "#fdca26"
            ],
            [
             1.0,
             "#f0f921"
            ]
           ],
           "sequentialminus": [
            [
             0.0,
             "#0d0887"
            ],
            [
             0.1111111111111111,
             "#46039f"
            ],
            [
             0.2222222222222222,
             "#7201a8"
            ],
            [
             0.3333333333333333,
             "#9c179e"
            ],
            [
             0.4444444444444444,
             "#bd3786"
            ],
            [
             0.5555555555555556,
             "#d8576b"
            ],
            [
             0.6666666666666666,
             "#ed7953"
            ],
            [
             0.7777777777777778,
             "#fb9f3a"
            ],
            [
             0.8888888888888888,
             "#fdca26"
            ],
            [
             1.0,
             "#f0f921"
            ]
           ],
           "diverging": [
            [
             0,
             "#8e0152"
            ],
            [
             0.1,
             "#c51b7d"
            ],
            [
             0.2,
             "#de77ae"
            ],
            [
             0.3,
             "#f1b6da"
            ],
            [
             0.4,
             "#fde0ef"
            ],
            [
             0.5,
             "#f7f7f7"
            ],
            [
             0.6,
             "#e6f5d0"
            ],
            [
             0.7,
             "#b8e186"
            ],
            [
             0.8,
             "#7fbc41"
            ],
            [
             0.9,
             "#4d9221"
            ],
            [
             1,
             "#276419"
            ]
           ]
          },
          "xaxis": {
           "gridcolor": "white",
           "linecolor": "white",
           "ticks": "",
           "title": {
            "standoff": 15
           },
           "zerolinecolor": "white",
           "automargin": true,
           "zerolinewidth": 2
          },
          "yaxis": {
           "gridcolor": "white",
           "linecolor": "white",
           "ticks": "",
           "title": {
            "standoff": 15
           },
           "zerolinecolor": "white",
           "automargin": true,
           "zerolinewidth": 2
          },
          "scene": {
           "xaxis": {
            "backgroundcolor": "#E5ECF6",
            "gridcolor": "white",
            "linecolor": "white",
            "showbackground": true,
            "ticks": "",
            "zerolinecolor": "white",
            "gridwidth": 2
           },
           "yaxis": {
            "backgroundcolor": "#E5ECF6",
            "gridcolor": "white",
            "linecolor": "white",
            "showbackground": true,
            "ticks": "",
            "zerolinecolor": "white",
            "gridwidth": 2
           },
           "zaxis": {
            "backgroundcolor": "#E5ECF6",
            "gridcolor": "white",
            "linecolor": "white",
            "showbackground": true,
            "ticks": "",
            "zerolinecolor": "white",
            "gridwidth": 2
           }
          },
          "shapedefaults": {
           "line": {
            "color": "#2a3f5f"
           }
          },
          "annotationdefaults": {
           "arrowcolor": "#2a3f5f",
           "arrowhead": 0,
           "arrowwidth": 1
          },
          "geo": {
           "bgcolor": "white",
           "landcolor": "#E5ECF6",
           "subunitcolor": "white",
           "showland": true,
           "showlakes": true,
           "lakecolor": "white"
          },
          "title": {
           "x": 0.05
          },
          "mapbox": {
           "style": "light"
          }
         }
        },
        "scene": {
         "domain": {
          "x": [
           0.0,
           1.0
          ],
          "y": [
           0.0,
           1.0
          ]
         },
         "xaxis": {
          "title": {
           "text": "x"
          }
         },
         "yaxis": {
          "title": {
           "text": "y"
          }
         },
         "zaxis": {
          "title": {
           "text": "z"
          }
         }
        },
        "coloraxis": {
         "colorbar": {
          "title": {
           "text": "labels"
          }
         },
         "colorscale": [
          [
           0.0,
           "#0d0887"
          ],
          [
           0.1111111111111111,
           "#46039f"
          ],
          [
           0.2222222222222222,
           "#7201a8"
          ],
          [
           0.3333333333333333,
           "#9c179e"
          ],
          [
           0.4444444444444444,
           "#bd3786"
          ],
          [
           0.5555555555555556,
           "#d8576b"
          ],
          [
           0.6666666666666666,
           "#ed7953"
          ],
          [
           0.7777777777777778,
           "#fb9f3a"
          ],
          [
           0.8888888888888888,
           "#fdca26"
          ],
          [
           1.0,
           "#f0f921"
          ]
         ]
        },
        "legend": {
         "tracegroupgap": 0
        },
        "margin": {
         "t": 60
        }
       },
       "config": {
        "plotlyServerURL": "https://plot.ly"
       }
      },
      "text/html": "<div>                            <div id=\"58e329c1-6437-4490-8c1a-429be11e4879\" class=\"plotly-graph-div\" style=\"height:525px; width:100%;\"></div>            <script type=\"text/javascript\">                require([\"plotly\"], function(Plotly) {                    window.PLOTLYENV=window.PLOTLYENV || {};                                    if (document.getElementById(\"58e329c1-6437-4490-8c1a-429be11e4879\")) {                    Plotly.newPlot(                        \"58e329c1-6437-4490-8c1a-429be11e4879\",                        [{\"hovertemplate\":\"x=%{x}\\u003cbr\\u003ey=%{y}\\u003cbr\\u003ez=%{z}\\u003cbr\\u003elabels=%{marker.color}\\u003cextra\\u003e\\u003c\\u002fextra\\u003e\",\"legendgroup\":\"\",\"marker\":{\"color\":[3,1,1,1,1,2,1,3,2,3,3,1,3,3,1,3,1,2,1,3,2,2,2,2,1,2,1,1,2,3,3,1,3,1,2,2,3,1,3,1,1,1,1,2,2,1,2,1,2,2,1,1,2,1,1,3,2,1,3,2,2,2,1,1,2,1,1,1,1,2,3,2,1,3,3,3,3,3,3,1,1,1,1,3,2,2,2,3,2,1,2,2,2,1,2,1,2,2,2,1,2,2,2,2,1,3,2,2,2,3,2,2,1,1,1,2,2,3,3,1,2,3,2,1,1,2,2,2,2,1,1,1,3,2,1,2,2,1,1,2,1,1,3,3],\"coloraxis\":\"coloraxis\",\"symbol\":\"circle\"},\"mode\":\"markers\",\"name\":\"\",\"scene\":\"scene\",\"showlegend\":false,\"x\":[153.5,95.0,102.0,88.0,77.5,48.5,154.5,139.0,95.0,115.5,135.0,104.5,121.5,89.0,126.0,150.0,70.5,106.5,93.5,152.0,115.5,102.0,48.5,93.0,159.0,107.0,63.0,142.5,98.0,130.0,129.0,107.0,87.0,149.5,179.5,91.5,125.5,98.5,100.0,104.0,116.5,167.5,115.0,94.5,146.0,117.0,131.0,120.0,170.0,89.5,56.5,53.5,145.0,147.5,125.0,151.0,133.0,110.5,170.0,85.5,102.5,92.5,107.0,119.0,109.0,182.5,83.5,67.5,159.5,72.0,146.0,148.0,32.5,163.0,114.5,74.5,166.0,127.0,140.5,142.0,212.5,62.0,35.0,90.0,121.5,71.5,120.0,111.0,100.0,61.0,176.5,98.0,95.0,79.5,124.0,123.5,167.5,126.5,155.0,111.0,153.5,117.0,150.5,125.0,154.0,143.0,144.0,90.0,135.0,62.0,107.5,144.0,117.0,70.0,131.5,138.5,149.5,182.5,170.5,69.5,130.0,127.5,70.5,117.0,49.5,74.0,85.0,127.5,129.5,156.0,150.5,39.0,110.0,89.5,112.5,87.5,165.0,87.5,109.0,118.0,119.5,66.5,154.5,127.5],\"y\":[121.5,105.0,104.0,104.0,120.5,168.5,112.0,169.0,137.5,134.0,120.5,121.0,87.0,105.0,122.5,139.5,103.5,119.5,132.5,116.5,91.0,100.5,126.5,136.5,131.0,127.5,97.5,120.0,99.5,146.0,159.0,108.5,90.0,125.0,133.5,107.5,134.0,103.0,112.5,139.0,100.0,151.5,92.5,140.5,155.0,107.0,141.0,119.0,92.5,148.0,124.5,104.5,116.5,83.5,125.5,79.5,75.5,112.0,134.0,78.5,33.5,147.0,98.0,124.0,113.0,71.5,132.5,106.0,81.5,123.5,103.0,79.5,109.0,126.0,80.0,120.5,68.0,140.0,86.0,80.0,138.5,120.0,80.0,111.0,79.0,42.0,73.0,106.0,153.5,153.0,114.5,167.5,79.0,121.0,149.5,164.0,139.5,98.5,167.5,125.5,111.5,162.0,90.0,176.0,116.5,108.0,107.5,158.5,151.0,125.5,73.5,90.5,137.0,135.0,133.5,158.5,162.0,80.0,132.5,103.5,127.5,76.5,79.5,83.0,126.5,150.5,126.5,116.0,128.0,143.5,125.5,127.0,99.0,119.5,132.5,143.0,55.0,99.5,112.5,66.0,131.5,96.5,142.5,79.5],\"z\":[65.0,30.0,47.0,54.0,30.0,75.5,68.5,74.0,25.0,31.5,39.0,31.0,71.0,27.5,45.0,38.0,34.0,29.0,37.0,33.0,78.5,135.5,59.0,105.0,50.0,109.0,41.5,63.5,40.5,49.5,41.0,46.0,32.5,113.0,88.0,78.5,43.5,32.5,37.5,52.0,62.5,72.5,23.0,34.0,44.0,49.0,90.0,49.0,75.0,47.0,64.5,60.5,84.5,50.5,42.5,43.0,92.0,43.5,81.5,84.0,105.0,122.0,49.0,32.0,102.0,78.5,31.0,71.0,57.0,35.0,68.0,43.5,93.0,43.0,34.5,35.5,112.0,48.0,33.0,43.0,89.5,47.0,78.5,28.0,88.0,98.0,70.0,21.5,37.5,70.0,79.5,47.5,60.0,82.0,32.5,35.5,97.5,112.0,116.5,54.0,101.0,74.5,58.5,68.0,56.5,67.0,59.0,129.0,57.5,64.5,41.0,41.0,37.5,55.0,61.0,109.0,107.0,49.0,88.5,68.5,68.5,109.5,31.5,29.0,68.5,114.5,86.0,48.5,69.5,83.0,70.0,83.0,47.0,84.0,70.5,91.5,120.5,32.5,36.0,41.5,36.0,49.5,62.5,123.0],\"type\":\"scatter3d\"}],                        {\"template\":{\"data\":{\"histogram2dcontour\":[{\"type\":\"histogram2dcontour\",\"colorbar\":{\"outlinewidth\":0,\"ticks\":\"\"},\"colorscale\":[[0.0,\"#0d0887\"],[0.1111111111111111,\"#46039f\"],[0.2222222222222222,\"#7201a8\"],[0.3333333333333333,\"#9c179e\"],[0.4444444444444444,\"#bd3786\"],[0.5555555555555556,\"#d8576b\"],[0.6666666666666666,\"#ed7953\"],[0.7777777777777778,\"#fb9f3a\"],[0.8888888888888888,\"#fdca26\"],[1.0,\"#f0f921\"]]}],\"choropleth\":[{\"type\":\"choropleth\",\"colorbar\":{\"outlinewidth\":0,\"ticks\":\"\"}}],\"histogram2d\":[{\"type\":\"histogram2d\",\"colorbar\":{\"outlinewidth\":0,\"ticks\":\"\"},\"colorscale\":[[0.0,\"#0d0887\"],[0.1111111111111111,\"#46039f\"],[0.2222222222222222,\"#7201a8\"],[0.3333333333333333,\"#9c179e\"],[0.4444444444444444,\"#bd3786\"],[0.5555555555555556,\"#d8576b\"],[0.6666666666666666,\"#ed7953\"],[0.7777777777777778,\"#fb9f3a\"],[0.8888888888888888,\"#fdca26\"],[1.0,\"#f0f921\"]]}],\"heatmap\":[{\"type\":\"heatmap\",\"colorbar\":{\"outlinewidth\":0,\"ticks\":\"\"},\"colorscale\":[[0.0,\"#0d0887\"],[0.1111111111111111,\"#46039f\"],[0.2222222222222222,\"#7201a8\"],[0.3333333333333333,\"#9c179e\"],[0.4444444444444444,\"#bd3786\"],[0.5555555555555556,\"#d8576b\"],[0.6666666666666666,\"#ed7953\"],[0.7777777777777778,\"#fb9f3a\"],[0.8888888888888888,\"#fdca26\"],[1.0,\"#f0f921\"]]}],\"heatmapgl\":[{\"type\":\"heatmapgl\",\"colorbar\":{\"outlinewidth\":0,\"ticks\":\"\"},\"colorscale\":[[0.0,\"#0d0887\"],[0.1111111111111111,\"#46039f\"],[0.2222222222222222,\"#7201a8\"],[0.3333333333333333,\"#9c179e\"],[0.4444444444444444,\"#bd3786\"],[0.5555555555555556,\"#d8576b\"],[0.6666666666666666,\"#ed7953\"],[0.7777777777777778,\"#fb9f3a\"],[0.8888888888888888,\"#fdca26\"],[1.0,\"#f0f921\"]]}],\"contourcarpet\":[{\"type\":\"contourcarpet\",\"colorbar\":{\"outlinewidth\":0,\"ticks\":\"\"}}],\"contour\":[{\"type\":\"contour\",\"colorbar\":{\"outlinewidth\":0,\"ticks\":\"\"},\"colorscale\":[[0.0,\"#0d0887\"],[0.1111111111111111,\"#46039f\"],[0.2222222222222222,\"#7201a8\"],[0.3333333333333333,\"#9c179e\"],[0.4444444444444444,\"#bd3786\"],[0.5555555555555556,\"#d8576b\"],[0.6666666666666666,\"#ed7953\"],[0.7777777777777778,\"#fb9f3a\"],[0.8888888888888888,\"#fdca26\"],[1.0,\"#f0f921\"]]}],\"surface\":[{\"type\":\"surface\",\"colorbar\":{\"outlinewidth\":0,\"ticks\":\"\"},\"colorscale\":[[0.0,\"#0d0887\"],[0.1111111111111111,\"#46039f\"],[0.2222222222222222,\"#7201a8\"],[0.3333333333333333,\"#9c179e\"],[0.4444444444444444,\"#bd3786\"],[0.5555555555555556,\"#d8576b\"],[0.6666666666666666,\"#ed7953\"],[0.7777777777777778,\"#fb9f3a\"],[0.8888888888888888,\"#fdca26\"],[1.0,\"#f0f921\"]]}],\"mesh3d\":[{\"type\":\"mesh3d\",\"colorbar\":{\"outlinewidth\":0,\"ticks\":\"\"}}],\"scatter\":[{\"fillpattern\":{\"fillmode\":\"overlay\",\"size\":10,\"solidity\":0.2},\"type\":\"scatter\"}],\"parcoords\":[{\"type\":\"parcoords\",\"line\":{\"colorbar\":{\"outlinewidth\":0,\"ticks\":\"\"}}}],\"scatterpolargl\":[{\"type\":\"scatterpolargl\",\"marker\":{\"colorbar\":{\"outlinewidth\":0,\"ticks\":\"\"}}}],\"bar\":[{\"error_x\":{\"color\":\"#2a3f5f\"},\"error_y\":{\"color\":\"#2a3f5f\"},\"marker\":{\"line\":{\"color\":\"#E5ECF6\",\"width\":0.5},\"pattern\":{\"fillmode\":\"overlay\",\"size\":10,\"solidity\":0.2}},\"type\":\"bar\"}],\"scattergeo\":[{\"type\":\"scattergeo\",\"marker\":{\"colorbar\":{\"outlinewidth\":0,\"ticks\":\"\"}}}],\"scatterpolar\":[{\"type\":\"scatterpolar\",\"marker\":{\"colorbar\":{\"outlinewidth\":0,\"ticks\":\"\"}}}],\"histogram\":[{\"marker\":{\"pattern\":{\"fillmode\":\"overlay\",\"size\":10,\"solidity\":0.2}},\"type\":\"histogram\"}],\"scattergl\":[{\"type\":\"scattergl\",\"marker\":{\"colorbar\":{\"outlinewidth\":0,\"ticks\":\"\"}}}],\"scatter3d\":[{\"type\":\"scatter3d\",\"line\":{\"colorbar\":{\"outlinewidth\":0,\"ticks\":\"\"}},\"marker\":{\"colorbar\":{\"outlinewidth\":0,\"ticks\":\"\"}}}],\"scattermapbox\":[{\"type\":\"scattermapbox\",\"marker\":{\"colorbar\":{\"outlinewidth\":0,\"ticks\":\"\"}}}],\"scatterternary\":[{\"type\":\"scatterternary\",\"marker\":{\"colorbar\":{\"outlinewidth\":0,\"ticks\":\"\"}}}],\"scattercarpet\":[{\"type\":\"scattercarpet\",\"marker\":{\"colorbar\":{\"outlinewidth\":0,\"ticks\":\"\"}}}],\"carpet\":[{\"aaxis\":{\"endlinecolor\":\"#2a3f5f\",\"gridcolor\":\"white\",\"linecolor\":\"white\",\"minorgridcolor\":\"white\",\"startlinecolor\":\"#2a3f5f\"},\"baxis\":{\"endlinecolor\":\"#2a3f5f\",\"gridcolor\":\"white\",\"linecolor\":\"white\",\"minorgridcolor\":\"white\",\"startlinecolor\":\"#2a3f5f\"},\"type\":\"carpet\"}],\"table\":[{\"cells\":{\"fill\":{\"color\":\"#EBF0F8\"},\"line\":{\"color\":\"white\"}},\"header\":{\"fill\":{\"color\":\"#C8D4E3\"},\"line\":{\"color\":\"white\"}},\"type\":\"table\"}],\"barpolar\":[{\"marker\":{\"line\":{\"color\":\"#E5ECF6\",\"width\":0.5},\"pattern\":{\"fillmode\":\"overlay\",\"size\":10,\"solidity\":0.2}},\"type\":\"barpolar\"}],\"pie\":[{\"automargin\":true,\"type\":\"pie\"}]},\"layout\":{\"autotypenumbers\":\"strict\",\"colorway\":[\"#636efa\",\"#EF553B\",\"#00cc96\",\"#ab63fa\",\"#FFA15A\",\"#19d3f3\",\"#FF6692\",\"#B6E880\",\"#FF97FF\",\"#FECB52\"],\"font\":{\"color\":\"#2a3f5f\"},\"hovermode\":\"closest\",\"hoverlabel\":{\"align\":\"left\"},\"paper_bgcolor\":\"white\",\"plot_bgcolor\":\"#E5ECF6\",\"polar\":{\"bgcolor\":\"#E5ECF6\",\"angularaxis\":{\"gridcolor\":\"white\",\"linecolor\":\"white\",\"ticks\":\"\"},\"radialaxis\":{\"gridcolor\":\"white\",\"linecolor\":\"white\",\"ticks\":\"\"}},\"ternary\":{\"bgcolor\":\"#E5ECF6\",\"aaxis\":{\"gridcolor\":\"white\",\"linecolor\":\"white\",\"ticks\":\"\"},\"baxis\":{\"gridcolor\":\"white\",\"linecolor\":\"white\",\"ticks\":\"\"},\"caxis\":{\"gridcolor\":\"white\",\"linecolor\":\"white\",\"ticks\":\"\"}},\"coloraxis\":{\"colorbar\":{\"outlinewidth\":0,\"ticks\":\"\"}},\"colorscale\":{\"sequential\":[[0.0,\"#0d0887\"],[0.1111111111111111,\"#46039f\"],[0.2222222222222222,\"#7201a8\"],[0.3333333333333333,\"#9c179e\"],[0.4444444444444444,\"#bd3786\"],[0.5555555555555556,\"#d8576b\"],[0.6666666666666666,\"#ed7953\"],[0.7777777777777778,\"#fb9f3a\"],[0.8888888888888888,\"#fdca26\"],[1.0,\"#f0f921\"]],\"sequentialminus\":[[0.0,\"#0d0887\"],[0.1111111111111111,\"#46039f\"],[0.2222222222222222,\"#7201a8\"],[0.3333333333333333,\"#9c179e\"],[0.4444444444444444,\"#bd3786\"],[0.5555555555555556,\"#d8576b\"],[0.6666666666666666,\"#ed7953\"],[0.7777777777777778,\"#fb9f3a\"],[0.8888888888888888,\"#fdca26\"],[1.0,\"#f0f921\"]],\"diverging\":[[0,\"#8e0152\"],[0.1,\"#c51b7d\"],[0.2,\"#de77ae\"],[0.3,\"#f1b6da\"],[0.4,\"#fde0ef\"],[0.5,\"#f7f7f7\"],[0.6,\"#e6f5d0\"],[0.7,\"#b8e186\"],[0.8,\"#7fbc41\"],[0.9,\"#4d9221\"],[1,\"#276419\"]]},\"xaxis\":{\"gridcolor\":\"white\",\"linecolor\":\"white\",\"ticks\":\"\",\"title\":{\"standoff\":15},\"zerolinecolor\":\"white\",\"automargin\":true,\"zerolinewidth\":2},\"yaxis\":{\"gridcolor\":\"white\",\"linecolor\":\"white\",\"ticks\":\"\",\"title\":{\"standoff\":15},\"zerolinecolor\":\"white\",\"automargin\":true,\"zerolinewidth\":2},\"scene\":{\"xaxis\":{\"backgroundcolor\":\"#E5ECF6\",\"gridcolor\":\"white\",\"linecolor\":\"white\",\"showbackground\":true,\"ticks\":\"\",\"zerolinecolor\":\"white\",\"gridwidth\":2},\"yaxis\":{\"backgroundcolor\":\"#E5ECF6\",\"gridcolor\":\"white\",\"linecolor\":\"white\",\"showbackground\":true,\"ticks\":\"\",\"zerolinecolor\":\"white\",\"gridwidth\":2},\"zaxis\":{\"backgroundcolor\":\"#E5ECF6\",\"gridcolor\":\"white\",\"linecolor\":\"white\",\"showbackground\":true,\"ticks\":\"\",\"zerolinecolor\":\"white\",\"gridwidth\":2}},\"shapedefaults\":{\"line\":{\"color\":\"#2a3f5f\"}},\"annotationdefaults\":{\"arrowcolor\":\"#2a3f5f\",\"arrowhead\":0,\"arrowwidth\":1},\"geo\":{\"bgcolor\":\"white\",\"landcolor\":\"#E5ECF6\",\"subunitcolor\":\"white\",\"showland\":true,\"showlakes\":true,\"lakecolor\":\"white\"},\"title\":{\"x\":0.05},\"mapbox\":{\"style\":\"light\"}}},\"scene\":{\"domain\":{\"x\":[0.0,1.0],\"y\":[0.0,1.0]},\"xaxis\":{\"title\":{\"text\":\"x\"}},\"yaxis\":{\"title\":{\"text\":\"y\"}},\"zaxis\":{\"title\":{\"text\":\"z\"}}},\"coloraxis\":{\"colorbar\":{\"title\":{\"text\":\"labels\"}},\"colorscale\":[[0.0,\"#0d0887\"],[0.1111111111111111,\"#46039f\"],[0.2222222222222222,\"#7201a8\"],[0.3333333333333333,\"#9c179e\"],[0.4444444444444444,\"#bd3786\"],[0.5555555555555556,\"#d8576b\"],[0.6666666666666666,\"#ed7953\"],[0.7777777777777778,\"#fb9f3a\"],[0.8888888888888888,\"#fdca26\"],[1.0,\"#f0f921\"]]},\"legend\":{\"tracegroupgap\":0},\"margin\":{\"t\":60}},                        {\"responsive\": true}                    ).then(function(){\n                            \nvar gd = document.getElementById('58e329c1-6437-4490-8c1a-429be11e4879');\nvar x = new MutationObserver(function (mutations, observer) {{\n        var display = window.getComputedStyle(gd).display;\n        if (!display || display === 'none') {{\n            console.log([gd, 'removed!']);\n            Plotly.purge(gd);\n            observer.disconnect();\n        }}\n}});\n\n// Listen for the removal of the full notebook cells\nvar notebookContainer = gd.closest('#notebook-container');\nif (notebookContainer) {{\n    x.observe(notebookContainer, {childList: true});\n}}\n\n// Listen for the clearing of the current output cell\nvar outputEl = gd.closest('.output');\nif (outputEl) {{\n    x.observe(outputEl, {childList: true});\n}}\n\n                        })                };                });            </script>        </div>"
     },
     "metadata": {},
     "output_type": "display_data"
    }
   ],
   "source": [
    "import plotly.express as px\n",
    "\n",
    "df = pd.DataFrame(\n",
    "    {\n",
    "        \"x\": centers_reshaped[:, 0],\n",
    "        \"y\": centers_reshaped[:, 1],\n",
    "        \"z\": centers_reshaped[:, 2],\n",
    "        \"labels\": labels_reshaped[:, 0],\n",
    "    }\n",
    ")\n",
    "fig = px.scatter_3d(df, x=\"x\", y=\"y\", z=\"z\", color=\"labels\")\n",
    "fig.show()\n",
    "# fig.write_html(\"locations_distribuition.html\")\n",
    "# plot_3d_density(centers, labels)"
   ],
   "metadata": {
    "collapsed": false
   }
  },
  {
   "cell_type": "code",
   "execution_count": 152,
   "outputs": [
    {
     "data": {
      "application/vnd.plotly.v1+json": {
       "data": [
        {
         "alignmentgroup": "True",
         "bingroup": "x",
         "histnorm": "probability",
         "hovertemplate": "labels=3<br>volume=%{x}<br>probability=%{y}<extra></extra>",
         "legendgroup": "3",
         "marker": {
          "color": "#636efa",
          "pattern": {
           "shape": ""
          }
         },
         "name": "3",
         "offsetgroup": "3",
         "orientation": "v",
         "showlegend": true,
         "x": [
          151470,
          508896,
          149234,
          122388,
          468520,
          2772,
          21780,
          34496,
          360000,
          180000,
          50000,
          148050,
          37050,
          33264,
          72072,
          245760,
          43200,
          11362,
          179265,
          194880,
          254448,
          371664,
          50688,
          52800,
          236544,
          124020,
          9240,
          22475,
          216315,
          69120,
          317915,
          859050
         ],
         "xaxis": "x",
         "yaxis": "y",
         "type": "histogram"
        },
        {
         "alignmentgroup": "True",
         "boxpoints": "all",
         "fillcolor": "rgba(255,255,255,0)",
         "hoveron": "points",
         "hovertemplate": "labels=3<br>volume=%{x}<extra></extra>",
         "jitter": 0,
         "legendgroup": "3",
         "line": {
          "color": "rgba(255,255,255,0)"
         },
         "marker": {
          "color": "#636efa",
          "symbol": "line-ns-open"
         },
         "name": "3",
         "offsetgroup": "3",
         "showlegend": false,
         "x": [
          151470,
          508896,
          149234,
          122388,
          468520,
          2772,
          21780,
          34496,
          360000,
          180000,
          50000,
          148050,
          37050,
          33264,
          72072,
          245760,
          43200,
          11362,
          179265,
          194880,
          254448,
          371664,
          50688,
          52800,
          236544,
          124020,
          9240,
          22475,
          216315,
          69120,
          317915,
          859050
         ],
         "xaxis": "x2",
         "yaxis": "y2",
         "type": "box"
        },
        {
         "alignmentgroup": "True",
         "bingroup": "x",
         "histnorm": "probability",
         "hovertemplate": "labels=1<br>volume=%{x}<br>probability=%{y}<extra></extra>",
         "legendgroup": "1",
         "marker": {
          "color": "#EF553B",
          "pattern": {
           "shape": ""
          }
         },
         "name": "1",
         "offsetgroup": "1",
         "orientation": "v",
         "showlegend": true,
         "x": [
          9504,
          134784,
          96600,
          5054,
          385560,
          28860,
          340032,
          13050,
          153076,
          105800,
          189222,
          70004,
          90528,
          116688,
          9450,
          175392,
          123930,
          357911,
          10200,
          800,
          192456,
          9025,
          223077,
          177815,
          148614,
          10500,
          263736,
          2688,
          89817,
          36704,
          33264,
          251940,
          24192,
          88000,
          173195,
          173600,
          31680,
          229152,
          142272,
          18810,
          1029420,
          19950,
          73408,
          221184,
          57330,
          127041,
          31416,
          29295,
          272580,
          137700,
          48640,
          82861,
          58695,
          169740,
          248200,
          74025
         ],
         "xaxis": "x",
         "yaxis": "y",
         "type": "histogram"
        },
        {
         "alignmentgroup": "True",
         "boxpoints": "all",
         "fillcolor": "rgba(255,255,255,0)",
         "hoveron": "points",
         "hovertemplate": "labels=1<br>volume=%{x}<extra></extra>",
         "jitter": 0,
         "legendgroup": "1",
         "line": {
          "color": "rgba(255,255,255,0)"
         },
         "marker": {
          "color": "#EF553B",
          "symbol": "line-ns-open"
         },
         "name": "1",
         "offsetgroup": "1",
         "showlegend": false,
         "x": [
          9504,
          134784,
          96600,
          5054,
          385560,
          28860,
          340032,
          13050,
          153076,
          105800,
          189222,
          70004,
          90528,
          116688,
          9450,
          175392,
          123930,
          357911,
          10200,
          800,
          192456,
          9025,
          223077,
          177815,
          148614,
          10500,
          263736,
          2688,
          89817,
          36704,
          33264,
          251940,
          24192,
          88000,
          173195,
          173600,
          31680,
          229152,
          142272,
          18810,
          1029420,
          19950,
          73408,
          221184,
          57330,
          127041,
          31416,
          29295,
          272580,
          137700,
          48640,
          82861,
          58695,
          169740,
          248200,
          74025
         ],
         "xaxis": "x2",
         "yaxis": "y2",
         "type": "box"
        },
        {
         "alignmentgroup": "True",
         "bingroup": "x",
         "histnorm": "probability",
         "hovertemplate": "labels=2<br>volume=%{x}<br>probability=%{y}<extra></extra>",
         "legendgroup": "2",
         "marker": {
          "color": "#00cc96",
          "pattern": {
           "shape": ""
          }
         },
         "name": "2",
         "offsetgroup": "2",
         "orientation": "v",
         "showlegend": true,
         "x": [
          82369,
          110544,
          89760,
          2192520,
          13800,
          268686,
          105300,
          125840,
          321198,
          323748,
          820155,
          16200,
          205920,
          172032,
          79560,
          31360,
          791210,
          165120,
          276556,
          56202,
          65016,
          166320,
          127368,
          38874,
          134064,
          49856,
          175560,
          50778,
          2279817,
          217800,
          150528,
          39468,
          74777,
          5586,
          132440,
          115290,
          355200,
          39270,
          31616,
          775884,
          33696,
          193256,
          120600,
          745380,
          171654,
          300000,
          6460,
          246015,
          123750,
          90552,
          313962,
          7182,
          8820,
          249480,
          142560,
          265980
         ],
         "xaxis": "x",
         "yaxis": "y",
         "type": "histogram"
        },
        {
         "alignmentgroup": "True",
         "boxpoints": "all",
         "fillcolor": "rgba(255,255,255,0)",
         "hoveron": "points",
         "hovertemplate": "labels=2<br>volume=%{x}<extra></extra>",
         "jitter": 0,
         "legendgroup": "2",
         "line": {
          "color": "rgba(255,255,255,0)"
         },
         "marker": {
          "color": "#00cc96",
          "symbol": "line-ns-open"
         },
         "name": "2",
         "offsetgroup": "2",
         "showlegend": false,
         "x": [
          82369,
          110544,
          89760,
          2192520,
          13800,
          268686,
          105300,
          125840,
          321198,
          323748,
          820155,
          16200,
          205920,
          172032,
          79560,
          31360,
          791210,
          165120,
          276556,
          56202,
          65016,
          166320,
          127368,
          38874,
          134064,
          49856,
          175560,
          50778,
          2279817,
          217800,
          150528,
          39468,
          74777,
          5586,
          132440,
          115290,
          355200,
          39270,
          31616,
          775884,
          33696,
          193256,
          120600,
          745380,
          171654,
          300000,
          6460,
          246015,
          123750,
          90552,
          313962,
          7182,
          8820,
          249480,
          142560,
          265980
         ],
         "xaxis": "x2",
         "yaxis": "y2",
         "type": "box"
        }
       ],
       "layout": {
        "template": {
         "data": {
          "histogram2dcontour": [
           {
            "type": "histogram2dcontour",
            "colorbar": {
             "outlinewidth": 0,
             "ticks": ""
            },
            "colorscale": [
             [
              0.0,
              "#0d0887"
             ],
             [
              0.1111111111111111,
              "#46039f"
             ],
             [
              0.2222222222222222,
              "#7201a8"
             ],
             [
              0.3333333333333333,
              "#9c179e"
             ],
             [
              0.4444444444444444,
              "#bd3786"
             ],
             [
              0.5555555555555556,
              "#d8576b"
             ],
             [
              0.6666666666666666,
              "#ed7953"
             ],
             [
              0.7777777777777778,
              "#fb9f3a"
             ],
             [
              0.8888888888888888,
              "#fdca26"
             ],
             [
              1.0,
              "#f0f921"
             ]
            ]
           }
          ],
          "choropleth": [
           {
            "type": "choropleth",
            "colorbar": {
             "outlinewidth": 0,
             "ticks": ""
            }
           }
          ],
          "histogram2d": [
           {
            "type": "histogram2d",
            "colorbar": {
             "outlinewidth": 0,
             "ticks": ""
            },
            "colorscale": [
             [
              0.0,
              "#0d0887"
             ],
             [
              0.1111111111111111,
              "#46039f"
             ],
             [
              0.2222222222222222,
              "#7201a8"
             ],
             [
              0.3333333333333333,
              "#9c179e"
             ],
             [
              0.4444444444444444,
              "#bd3786"
             ],
             [
              0.5555555555555556,
              "#d8576b"
             ],
             [
              0.6666666666666666,
              "#ed7953"
             ],
             [
              0.7777777777777778,
              "#fb9f3a"
             ],
             [
              0.8888888888888888,
              "#fdca26"
             ],
             [
              1.0,
              "#f0f921"
             ]
            ]
           }
          ],
          "heatmap": [
           {
            "type": "heatmap",
            "colorbar": {
             "outlinewidth": 0,
             "ticks": ""
            },
            "colorscale": [
             [
              0.0,
              "#0d0887"
             ],
             [
              0.1111111111111111,
              "#46039f"
             ],
             [
              0.2222222222222222,
              "#7201a8"
             ],
             [
              0.3333333333333333,
              "#9c179e"
             ],
             [
              0.4444444444444444,
              "#bd3786"
             ],
             [
              0.5555555555555556,
              "#d8576b"
             ],
             [
              0.6666666666666666,
              "#ed7953"
             ],
             [
              0.7777777777777778,
              "#fb9f3a"
             ],
             [
              0.8888888888888888,
              "#fdca26"
             ],
             [
              1.0,
              "#f0f921"
             ]
            ]
           }
          ],
          "heatmapgl": [
           {
            "type": "heatmapgl",
            "colorbar": {
             "outlinewidth": 0,
             "ticks": ""
            },
            "colorscale": [
             [
              0.0,
              "#0d0887"
             ],
             [
              0.1111111111111111,
              "#46039f"
             ],
             [
              0.2222222222222222,
              "#7201a8"
             ],
             [
              0.3333333333333333,
              "#9c179e"
             ],
             [
              0.4444444444444444,
              "#bd3786"
             ],
             [
              0.5555555555555556,
              "#d8576b"
             ],
             [
              0.6666666666666666,
              "#ed7953"
             ],
             [
              0.7777777777777778,
              "#fb9f3a"
             ],
             [
              0.8888888888888888,
              "#fdca26"
             ],
             [
              1.0,
              "#f0f921"
             ]
            ]
           }
          ],
          "contourcarpet": [
           {
            "type": "contourcarpet",
            "colorbar": {
             "outlinewidth": 0,
             "ticks": ""
            }
           }
          ],
          "contour": [
           {
            "type": "contour",
            "colorbar": {
             "outlinewidth": 0,
             "ticks": ""
            },
            "colorscale": [
             [
              0.0,
              "#0d0887"
             ],
             [
              0.1111111111111111,
              "#46039f"
             ],
             [
              0.2222222222222222,
              "#7201a8"
             ],
             [
              0.3333333333333333,
              "#9c179e"
             ],
             [
              0.4444444444444444,
              "#bd3786"
             ],
             [
              0.5555555555555556,
              "#d8576b"
             ],
             [
              0.6666666666666666,
              "#ed7953"
             ],
             [
              0.7777777777777778,
              "#fb9f3a"
             ],
             [
              0.8888888888888888,
              "#fdca26"
             ],
             [
              1.0,
              "#f0f921"
             ]
            ]
           }
          ],
          "surface": [
           {
            "type": "surface",
            "colorbar": {
             "outlinewidth": 0,
             "ticks": ""
            },
            "colorscale": [
             [
              0.0,
              "#0d0887"
             ],
             [
              0.1111111111111111,
              "#46039f"
             ],
             [
              0.2222222222222222,
              "#7201a8"
             ],
             [
              0.3333333333333333,
              "#9c179e"
             ],
             [
              0.4444444444444444,
              "#bd3786"
             ],
             [
              0.5555555555555556,
              "#d8576b"
             ],
             [
              0.6666666666666666,
              "#ed7953"
             ],
             [
              0.7777777777777778,
              "#fb9f3a"
             ],
             [
              0.8888888888888888,
              "#fdca26"
             ],
             [
              1.0,
              "#f0f921"
             ]
            ]
           }
          ],
          "mesh3d": [
           {
            "type": "mesh3d",
            "colorbar": {
             "outlinewidth": 0,
             "ticks": ""
            }
           }
          ],
          "scatter": [
           {
            "fillpattern": {
             "fillmode": "overlay",
             "size": 10,
             "solidity": 0.2
            },
            "type": "scatter"
           }
          ],
          "parcoords": [
           {
            "type": "parcoords",
            "line": {
             "colorbar": {
              "outlinewidth": 0,
              "ticks": ""
             }
            }
           }
          ],
          "scatterpolargl": [
           {
            "type": "scatterpolargl",
            "marker": {
             "colorbar": {
              "outlinewidth": 0,
              "ticks": ""
             }
            }
           }
          ],
          "bar": [
           {
            "error_x": {
             "color": "#2a3f5f"
            },
            "error_y": {
             "color": "#2a3f5f"
            },
            "marker": {
             "line": {
              "color": "#E5ECF6",
              "width": 0.5
             },
             "pattern": {
              "fillmode": "overlay",
              "size": 10,
              "solidity": 0.2
             }
            },
            "type": "bar"
           }
          ],
          "scattergeo": [
           {
            "type": "scattergeo",
            "marker": {
             "colorbar": {
              "outlinewidth": 0,
              "ticks": ""
             }
            }
           }
          ],
          "scatterpolar": [
           {
            "type": "scatterpolar",
            "marker": {
             "colorbar": {
              "outlinewidth": 0,
              "ticks": ""
             }
            }
           }
          ],
          "histogram": [
           {
            "marker": {
             "pattern": {
              "fillmode": "overlay",
              "size": 10,
              "solidity": 0.2
             }
            },
            "type": "histogram"
           }
          ],
          "scattergl": [
           {
            "type": "scattergl",
            "marker": {
             "colorbar": {
              "outlinewidth": 0,
              "ticks": ""
             }
            }
           }
          ],
          "scatter3d": [
           {
            "type": "scatter3d",
            "line": {
             "colorbar": {
              "outlinewidth": 0,
              "ticks": ""
             }
            },
            "marker": {
             "colorbar": {
              "outlinewidth": 0,
              "ticks": ""
             }
            }
           }
          ],
          "scattermapbox": [
           {
            "type": "scattermapbox",
            "marker": {
             "colorbar": {
              "outlinewidth": 0,
              "ticks": ""
             }
            }
           }
          ],
          "scatterternary": [
           {
            "type": "scatterternary",
            "marker": {
             "colorbar": {
              "outlinewidth": 0,
              "ticks": ""
             }
            }
           }
          ],
          "scattercarpet": [
           {
            "type": "scattercarpet",
            "marker": {
             "colorbar": {
              "outlinewidth": 0,
              "ticks": ""
             }
            }
           }
          ],
          "carpet": [
           {
            "aaxis": {
             "endlinecolor": "#2a3f5f",
             "gridcolor": "white",
             "linecolor": "white",
             "minorgridcolor": "white",
             "startlinecolor": "#2a3f5f"
            },
            "baxis": {
             "endlinecolor": "#2a3f5f",
             "gridcolor": "white",
             "linecolor": "white",
             "minorgridcolor": "white",
             "startlinecolor": "#2a3f5f"
            },
            "type": "carpet"
           }
          ],
          "table": [
           {
            "cells": {
             "fill": {
              "color": "#EBF0F8"
             },
             "line": {
              "color": "white"
             }
            },
            "header": {
             "fill": {
              "color": "#C8D4E3"
             },
             "line": {
              "color": "white"
             }
            },
            "type": "table"
           }
          ],
          "barpolar": [
           {
            "marker": {
             "line": {
              "color": "#E5ECF6",
              "width": 0.5
             },
             "pattern": {
              "fillmode": "overlay",
              "size": 10,
              "solidity": 0.2
             }
            },
            "type": "barpolar"
           }
          ],
          "pie": [
           {
            "automargin": true,
            "type": "pie"
           }
          ]
         },
         "layout": {
          "autotypenumbers": "strict",
          "colorway": [
           "#636efa",
           "#EF553B",
           "#00cc96",
           "#ab63fa",
           "#FFA15A",
           "#19d3f3",
           "#FF6692",
           "#B6E880",
           "#FF97FF",
           "#FECB52"
          ],
          "font": {
           "color": "#2a3f5f"
          },
          "hovermode": "closest",
          "hoverlabel": {
           "align": "left"
          },
          "paper_bgcolor": "white",
          "plot_bgcolor": "#E5ECF6",
          "polar": {
           "bgcolor": "#E5ECF6",
           "angularaxis": {
            "gridcolor": "white",
            "linecolor": "white",
            "ticks": ""
           },
           "radialaxis": {
            "gridcolor": "white",
            "linecolor": "white",
            "ticks": ""
           }
          },
          "ternary": {
           "bgcolor": "#E5ECF6",
           "aaxis": {
            "gridcolor": "white",
            "linecolor": "white",
            "ticks": ""
           },
           "baxis": {
            "gridcolor": "white",
            "linecolor": "white",
            "ticks": ""
           },
           "caxis": {
            "gridcolor": "white",
            "linecolor": "white",
            "ticks": ""
           }
          },
          "coloraxis": {
           "colorbar": {
            "outlinewidth": 0,
            "ticks": ""
           }
          },
          "colorscale": {
           "sequential": [
            [
             0.0,
             "#0d0887"
            ],
            [
             0.1111111111111111,
             "#46039f"
            ],
            [
             0.2222222222222222,
             "#7201a8"
            ],
            [
             0.3333333333333333,
             "#9c179e"
            ],
            [
             0.4444444444444444,
             "#bd3786"
            ],
            [
             0.5555555555555556,
             "#d8576b"
            ],
            [
             0.6666666666666666,
             "#ed7953"
            ],
            [
             0.7777777777777778,
             "#fb9f3a"
            ],
            [
             0.8888888888888888,
             "#fdca26"
            ],
            [
             1.0,
             "#f0f921"
            ]
           ],
           "sequentialminus": [
            [
             0.0,
             "#0d0887"
            ],
            [
             0.1111111111111111,
             "#46039f"
            ],
            [
             0.2222222222222222,
             "#7201a8"
            ],
            [
             0.3333333333333333,
             "#9c179e"
            ],
            [
             0.4444444444444444,
             "#bd3786"
            ],
            [
             0.5555555555555556,
             "#d8576b"
            ],
            [
             0.6666666666666666,
             "#ed7953"
            ],
            [
             0.7777777777777778,
             "#fb9f3a"
            ],
            [
             0.8888888888888888,
             "#fdca26"
            ],
            [
             1.0,
             "#f0f921"
            ]
           ],
           "diverging": [
            [
             0,
             "#8e0152"
            ],
            [
             0.1,
             "#c51b7d"
            ],
            [
             0.2,
             "#de77ae"
            ],
            [
             0.3,
             "#f1b6da"
            ],
            [
             0.4,
             "#fde0ef"
            ],
            [
             0.5,
             "#f7f7f7"
            ],
            [
             0.6,
             "#e6f5d0"
            ],
            [
             0.7,
             "#b8e186"
            ],
            [
             0.8,
             "#7fbc41"
            ],
            [
             0.9,
             "#4d9221"
            ],
            [
             1,
             "#276419"
            ]
           ]
          },
          "xaxis": {
           "gridcolor": "white",
           "linecolor": "white",
           "ticks": "",
           "title": {
            "standoff": 15
           },
           "zerolinecolor": "white",
           "automargin": true,
           "zerolinewidth": 2
          },
          "yaxis": {
           "gridcolor": "white",
           "linecolor": "white",
           "ticks": "",
           "title": {
            "standoff": 15
           },
           "zerolinecolor": "white",
           "automargin": true,
           "zerolinewidth": 2
          },
          "scene": {
           "xaxis": {
            "backgroundcolor": "#E5ECF6",
            "gridcolor": "white",
            "linecolor": "white",
            "showbackground": true,
            "ticks": "",
            "zerolinecolor": "white",
            "gridwidth": 2
           },
           "yaxis": {
            "backgroundcolor": "#E5ECF6",
            "gridcolor": "white",
            "linecolor": "white",
            "showbackground": true,
            "ticks": "",
            "zerolinecolor": "white",
            "gridwidth": 2
           },
           "zaxis": {
            "backgroundcolor": "#E5ECF6",
            "gridcolor": "white",
            "linecolor": "white",
            "showbackground": true,
            "ticks": "",
            "zerolinecolor": "white",
            "gridwidth": 2
           }
          },
          "shapedefaults": {
           "line": {
            "color": "#2a3f5f"
           }
          },
          "annotationdefaults": {
           "arrowcolor": "#2a3f5f",
           "arrowhead": 0,
           "arrowwidth": 1
          },
          "geo": {
           "bgcolor": "white",
           "landcolor": "#E5ECF6",
           "subunitcolor": "white",
           "showland": true,
           "showlakes": true,
           "lakecolor": "white"
          },
          "title": {
           "x": 0.05
          },
          "mapbox": {
           "style": "light"
          }
         }
        },
        "xaxis": {
         "anchor": "y",
         "domain": [
          0.0,
          1.0
         ],
         "title": {
          "text": "volume"
         }
        },
        "yaxis": {
         "anchor": "x",
         "domain": [
          0.0,
          0.7326
         ],
         "title": {
          "text": "probability"
         }
        },
        "xaxis2": {
         "anchor": "y2",
         "domain": [
          0.0,
          1.0
         ],
         "matches": "x",
         "showticklabels": false,
         "showgrid": true
        },
        "yaxis2": {
         "anchor": "x2",
         "domain": [
          0.7426,
          1.0
         ],
         "matches": "y2",
         "showticklabels": false,
         "showline": false,
         "ticks": "",
         "showgrid": false
        },
        "legend": {
         "title": {
          "text": "labels"
         },
         "tracegroupgap": 0
        },
        "title": {
         "text": "Distribution of volumes by class"
        },
        "barmode": "relative"
       },
       "config": {
        "plotlyServerURL": "https://plot.ly"
       }
      },
      "text/html": "<div>                            <div id=\"eb5da74e-a023-4474-85e6-f95ec098a945\" class=\"plotly-graph-div\" style=\"height:525px; width:100%;\"></div>            <script type=\"text/javascript\">                require([\"plotly\"], function(Plotly) {                    window.PLOTLYENV=window.PLOTLYENV || {};                                    if (document.getElementById(\"eb5da74e-a023-4474-85e6-f95ec098a945\")) {                    Plotly.newPlot(                        \"eb5da74e-a023-4474-85e6-f95ec098a945\",                        [{\"alignmentgroup\":\"True\",\"bingroup\":\"x\",\"histnorm\":\"probability\",\"hovertemplate\":\"labels=3\\u003cbr\\u003evolume=%{x}\\u003cbr\\u003eprobability=%{y}\\u003cextra\\u003e\\u003c\\u002fextra\\u003e\",\"legendgroup\":\"3\",\"marker\":{\"color\":\"#636efa\",\"pattern\":{\"shape\":\"\"}},\"name\":\"3\",\"offsetgroup\":\"3\",\"orientation\":\"v\",\"showlegend\":true,\"x\":[151470,508896,149234,122388,468520,2772,21780,34496,360000,180000,50000,148050,37050,33264,72072,245760,43200,11362,179265,194880,254448,371664,50688,52800,236544,124020,9240,22475,216315,69120,317915,859050],\"xaxis\":\"x\",\"yaxis\":\"y\",\"type\":\"histogram\"},{\"alignmentgroup\":\"True\",\"boxpoints\":\"all\",\"fillcolor\":\"rgba(255,255,255,0)\",\"hoveron\":\"points\",\"hovertemplate\":\"labels=3\\u003cbr\\u003evolume=%{x}\\u003cextra\\u003e\\u003c\\u002fextra\\u003e\",\"jitter\":0,\"legendgroup\":\"3\",\"line\":{\"color\":\"rgba(255,255,255,0)\"},\"marker\":{\"color\":\"#636efa\",\"symbol\":\"line-ns-open\"},\"name\":\"3\",\"offsetgroup\":\"3\",\"showlegend\":false,\"x\":[151470,508896,149234,122388,468520,2772,21780,34496,360000,180000,50000,148050,37050,33264,72072,245760,43200,11362,179265,194880,254448,371664,50688,52800,236544,124020,9240,22475,216315,69120,317915,859050],\"xaxis\":\"x2\",\"yaxis\":\"y2\",\"type\":\"box\"},{\"alignmentgroup\":\"True\",\"bingroup\":\"x\",\"histnorm\":\"probability\",\"hovertemplate\":\"labels=1\\u003cbr\\u003evolume=%{x}\\u003cbr\\u003eprobability=%{y}\\u003cextra\\u003e\\u003c\\u002fextra\\u003e\",\"legendgroup\":\"1\",\"marker\":{\"color\":\"#EF553B\",\"pattern\":{\"shape\":\"\"}},\"name\":\"1\",\"offsetgroup\":\"1\",\"orientation\":\"v\",\"showlegend\":true,\"x\":[9504,134784,96600,5054,385560,28860,340032,13050,153076,105800,189222,70004,90528,116688,9450,175392,123930,357911,10200,800,192456,9025,223077,177815,148614,10500,263736,2688,89817,36704,33264,251940,24192,88000,173195,173600,31680,229152,142272,18810,1029420,19950,73408,221184,57330,127041,31416,29295,272580,137700,48640,82861,58695,169740,248200,74025],\"xaxis\":\"x\",\"yaxis\":\"y\",\"type\":\"histogram\"},{\"alignmentgroup\":\"True\",\"boxpoints\":\"all\",\"fillcolor\":\"rgba(255,255,255,0)\",\"hoveron\":\"points\",\"hovertemplate\":\"labels=1\\u003cbr\\u003evolume=%{x}\\u003cextra\\u003e\\u003c\\u002fextra\\u003e\",\"jitter\":0,\"legendgroup\":\"1\",\"line\":{\"color\":\"rgba(255,255,255,0)\"},\"marker\":{\"color\":\"#EF553B\",\"symbol\":\"line-ns-open\"},\"name\":\"1\",\"offsetgroup\":\"1\",\"showlegend\":false,\"x\":[9504,134784,96600,5054,385560,28860,340032,13050,153076,105800,189222,70004,90528,116688,9450,175392,123930,357911,10200,800,192456,9025,223077,177815,148614,10500,263736,2688,89817,36704,33264,251940,24192,88000,173195,173600,31680,229152,142272,18810,1029420,19950,73408,221184,57330,127041,31416,29295,272580,137700,48640,82861,58695,169740,248200,74025],\"xaxis\":\"x2\",\"yaxis\":\"y2\",\"type\":\"box\"},{\"alignmentgroup\":\"True\",\"bingroup\":\"x\",\"histnorm\":\"probability\",\"hovertemplate\":\"labels=2\\u003cbr\\u003evolume=%{x}\\u003cbr\\u003eprobability=%{y}\\u003cextra\\u003e\\u003c\\u002fextra\\u003e\",\"legendgroup\":\"2\",\"marker\":{\"color\":\"#00cc96\",\"pattern\":{\"shape\":\"\"}},\"name\":\"2\",\"offsetgroup\":\"2\",\"orientation\":\"v\",\"showlegend\":true,\"x\":[82369,110544,89760,2192520,13800,268686,105300,125840,321198,323748,820155,16200,205920,172032,79560,31360,791210,165120,276556,56202,65016,166320,127368,38874,134064,49856,175560,50778,2279817,217800,150528,39468,74777,5586,132440,115290,355200,39270,31616,775884,33696,193256,120600,745380,171654,300000,6460,246015,123750,90552,313962,7182,8820,249480,142560,265980],\"xaxis\":\"x\",\"yaxis\":\"y\",\"type\":\"histogram\"},{\"alignmentgroup\":\"True\",\"boxpoints\":\"all\",\"fillcolor\":\"rgba(255,255,255,0)\",\"hoveron\":\"points\",\"hovertemplate\":\"labels=2\\u003cbr\\u003evolume=%{x}\\u003cextra\\u003e\\u003c\\u002fextra\\u003e\",\"jitter\":0,\"legendgroup\":\"2\",\"line\":{\"color\":\"rgba(255,255,255,0)\"},\"marker\":{\"color\":\"#00cc96\",\"symbol\":\"line-ns-open\"},\"name\":\"2\",\"offsetgroup\":\"2\",\"showlegend\":false,\"x\":[82369,110544,89760,2192520,13800,268686,105300,125840,321198,323748,820155,16200,205920,172032,79560,31360,791210,165120,276556,56202,65016,166320,127368,38874,134064,49856,175560,50778,2279817,217800,150528,39468,74777,5586,132440,115290,355200,39270,31616,775884,33696,193256,120600,745380,171654,300000,6460,246015,123750,90552,313962,7182,8820,249480,142560,265980],\"xaxis\":\"x2\",\"yaxis\":\"y2\",\"type\":\"box\"}],                        {\"template\":{\"data\":{\"histogram2dcontour\":[{\"type\":\"histogram2dcontour\",\"colorbar\":{\"outlinewidth\":0,\"ticks\":\"\"},\"colorscale\":[[0.0,\"#0d0887\"],[0.1111111111111111,\"#46039f\"],[0.2222222222222222,\"#7201a8\"],[0.3333333333333333,\"#9c179e\"],[0.4444444444444444,\"#bd3786\"],[0.5555555555555556,\"#d8576b\"],[0.6666666666666666,\"#ed7953\"],[0.7777777777777778,\"#fb9f3a\"],[0.8888888888888888,\"#fdca26\"],[1.0,\"#f0f921\"]]}],\"choropleth\":[{\"type\":\"choropleth\",\"colorbar\":{\"outlinewidth\":0,\"ticks\":\"\"}}],\"histogram2d\":[{\"type\":\"histogram2d\",\"colorbar\":{\"outlinewidth\":0,\"ticks\":\"\"},\"colorscale\":[[0.0,\"#0d0887\"],[0.1111111111111111,\"#46039f\"],[0.2222222222222222,\"#7201a8\"],[0.3333333333333333,\"#9c179e\"],[0.4444444444444444,\"#bd3786\"],[0.5555555555555556,\"#d8576b\"],[0.6666666666666666,\"#ed7953\"],[0.7777777777777778,\"#fb9f3a\"],[0.8888888888888888,\"#fdca26\"],[1.0,\"#f0f921\"]]}],\"heatmap\":[{\"type\":\"heatmap\",\"colorbar\":{\"outlinewidth\":0,\"ticks\":\"\"},\"colorscale\":[[0.0,\"#0d0887\"],[0.1111111111111111,\"#46039f\"],[0.2222222222222222,\"#7201a8\"],[0.3333333333333333,\"#9c179e\"],[0.4444444444444444,\"#bd3786\"],[0.5555555555555556,\"#d8576b\"],[0.6666666666666666,\"#ed7953\"],[0.7777777777777778,\"#fb9f3a\"],[0.8888888888888888,\"#fdca26\"],[1.0,\"#f0f921\"]]}],\"heatmapgl\":[{\"type\":\"heatmapgl\",\"colorbar\":{\"outlinewidth\":0,\"ticks\":\"\"},\"colorscale\":[[0.0,\"#0d0887\"],[0.1111111111111111,\"#46039f\"],[0.2222222222222222,\"#7201a8\"],[0.3333333333333333,\"#9c179e\"],[0.4444444444444444,\"#bd3786\"],[0.5555555555555556,\"#d8576b\"],[0.6666666666666666,\"#ed7953\"],[0.7777777777777778,\"#fb9f3a\"],[0.8888888888888888,\"#fdca26\"],[1.0,\"#f0f921\"]]}],\"contourcarpet\":[{\"type\":\"contourcarpet\",\"colorbar\":{\"outlinewidth\":0,\"ticks\":\"\"}}],\"contour\":[{\"type\":\"contour\",\"colorbar\":{\"outlinewidth\":0,\"ticks\":\"\"},\"colorscale\":[[0.0,\"#0d0887\"],[0.1111111111111111,\"#46039f\"],[0.2222222222222222,\"#7201a8\"],[0.3333333333333333,\"#9c179e\"],[0.4444444444444444,\"#bd3786\"],[0.5555555555555556,\"#d8576b\"],[0.6666666666666666,\"#ed7953\"],[0.7777777777777778,\"#fb9f3a\"],[0.8888888888888888,\"#fdca26\"],[1.0,\"#f0f921\"]]}],\"surface\":[{\"type\":\"surface\",\"colorbar\":{\"outlinewidth\":0,\"ticks\":\"\"},\"colorscale\":[[0.0,\"#0d0887\"],[0.1111111111111111,\"#46039f\"],[0.2222222222222222,\"#7201a8\"],[0.3333333333333333,\"#9c179e\"],[0.4444444444444444,\"#bd3786\"],[0.5555555555555556,\"#d8576b\"],[0.6666666666666666,\"#ed7953\"],[0.7777777777777778,\"#fb9f3a\"],[0.8888888888888888,\"#fdca26\"],[1.0,\"#f0f921\"]]}],\"mesh3d\":[{\"type\":\"mesh3d\",\"colorbar\":{\"outlinewidth\":0,\"ticks\":\"\"}}],\"scatter\":[{\"fillpattern\":{\"fillmode\":\"overlay\",\"size\":10,\"solidity\":0.2},\"type\":\"scatter\"}],\"parcoords\":[{\"type\":\"parcoords\",\"line\":{\"colorbar\":{\"outlinewidth\":0,\"ticks\":\"\"}}}],\"scatterpolargl\":[{\"type\":\"scatterpolargl\",\"marker\":{\"colorbar\":{\"outlinewidth\":0,\"ticks\":\"\"}}}],\"bar\":[{\"error_x\":{\"color\":\"#2a3f5f\"},\"error_y\":{\"color\":\"#2a3f5f\"},\"marker\":{\"line\":{\"color\":\"#E5ECF6\",\"width\":0.5},\"pattern\":{\"fillmode\":\"overlay\",\"size\":10,\"solidity\":0.2}},\"type\":\"bar\"}],\"scattergeo\":[{\"type\":\"scattergeo\",\"marker\":{\"colorbar\":{\"outlinewidth\":0,\"ticks\":\"\"}}}],\"scatterpolar\":[{\"type\":\"scatterpolar\",\"marker\":{\"colorbar\":{\"outlinewidth\":0,\"ticks\":\"\"}}}],\"histogram\":[{\"marker\":{\"pattern\":{\"fillmode\":\"overlay\",\"size\":10,\"solidity\":0.2}},\"type\":\"histogram\"}],\"scattergl\":[{\"type\":\"scattergl\",\"marker\":{\"colorbar\":{\"outlinewidth\":0,\"ticks\":\"\"}}}],\"scatter3d\":[{\"type\":\"scatter3d\",\"line\":{\"colorbar\":{\"outlinewidth\":0,\"ticks\":\"\"}},\"marker\":{\"colorbar\":{\"outlinewidth\":0,\"ticks\":\"\"}}}],\"scattermapbox\":[{\"type\":\"scattermapbox\",\"marker\":{\"colorbar\":{\"outlinewidth\":0,\"ticks\":\"\"}}}],\"scatterternary\":[{\"type\":\"scatterternary\",\"marker\":{\"colorbar\":{\"outlinewidth\":0,\"ticks\":\"\"}}}],\"scattercarpet\":[{\"type\":\"scattercarpet\",\"marker\":{\"colorbar\":{\"outlinewidth\":0,\"ticks\":\"\"}}}],\"carpet\":[{\"aaxis\":{\"endlinecolor\":\"#2a3f5f\",\"gridcolor\":\"white\",\"linecolor\":\"white\",\"minorgridcolor\":\"white\",\"startlinecolor\":\"#2a3f5f\"},\"baxis\":{\"endlinecolor\":\"#2a3f5f\",\"gridcolor\":\"white\",\"linecolor\":\"white\",\"minorgridcolor\":\"white\",\"startlinecolor\":\"#2a3f5f\"},\"type\":\"carpet\"}],\"table\":[{\"cells\":{\"fill\":{\"color\":\"#EBF0F8\"},\"line\":{\"color\":\"white\"}},\"header\":{\"fill\":{\"color\":\"#C8D4E3\"},\"line\":{\"color\":\"white\"}},\"type\":\"table\"}],\"barpolar\":[{\"marker\":{\"line\":{\"color\":\"#E5ECF6\",\"width\":0.5},\"pattern\":{\"fillmode\":\"overlay\",\"size\":10,\"solidity\":0.2}},\"type\":\"barpolar\"}],\"pie\":[{\"automargin\":true,\"type\":\"pie\"}]},\"layout\":{\"autotypenumbers\":\"strict\",\"colorway\":[\"#636efa\",\"#EF553B\",\"#00cc96\",\"#ab63fa\",\"#FFA15A\",\"#19d3f3\",\"#FF6692\",\"#B6E880\",\"#FF97FF\",\"#FECB52\"],\"font\":{\"color\":\"#2a3f5f\"},\"hovermode\":\"closest\",\"hoverlabel\":{\"align\":\"left\"},\"paper_bgcolor\":\"white\",\"plot_bgcolor\":\"#E5ECF6\",\"polar\":{\"bgcolor\":\"#E5ECF6\",\"angularaxis\":{\"gridcolor\":\"white\",\"linecolor\":\"white\",\"ticks\":\"\"},\"radialaxis\":{\"gridcolor\":\"white\",\"linecolor\":\"white\",\"ticks\":\"\"}},\"ternary\":{\"bgcolor\":\"#E5ECF6\",\"aaxis\":{\"gridcolor\":\"white\",\"linecolor\":\"white\",\"ticks\":\"\"},\"baxis\":{\"gridcolor\":\"white\",\"linecolor\":\"white\",\"ticks\":\"\"},\"caxis\":{\"gridcolor\":\"white\",\"linecolor\":\"white\",\"ticks\":\"\"}},\"coloraxis\":{\"colorbar\":{\"outlinewidth\":0,\"ticks\":\"\"}},\"colorscale\":{\"sequential\":[[0.0,\"#0d0887\"],[0.1111111111111111,\"#46039f\"],[0.2222222222222222,\"#7201a8\"],[0.3333333333333333,\"#9c179e\"],[0.4444444444444444,\"#bd3786\"],[0.5555555555555556,\"#d8576b\"],[0.6666666666666666,\"#ed7953\"],[0.7777777777777778,\"#fb9f3a\"],[0.8888888888888888,\"#fdca26\"],[1.0,\"#f0f921\"]],\"sequentialminus\":[[0.0,\"#0d0887\"],[0.1111111111111111,\"#46039f\"],[0.2222222222222222,\"#7201a8\"],[0.3333333333333333,\"#9c179e\"],[0.4444444444444444,\"#bd3786\"],[0.5555555555555556,\"#d8576b\"],[0.6666666666666666,\"#ed7953\"],[0.7777777777777778,\"#fb9f3a\"],[0.8888888888888888,\"#fdca26\"],[1.0,\"#f0f921\"]],\"diverging\":[[0,\"#8e0152\"],[0.1,\"#c51b7d\"],[0.2,\"#de77ae\"],[0.3,\"#f1b6da\"],[0.4,\"#fde0ef\"],[0.5,\"#f7f7f7\"],[0.6,\"#e6f5d0\"],[0.7,\"#b8e186\"],[0.8,\"#7fbc41\"],[0.9,\"#4d9221\"],[1,\"#276419\"]]},\"xaxis\":{\"gridcolor\":\"white\",\"linecolor\":\"white\",\"ticks\":\"\",\"title\":{\"standoff\":15},\"zerolinecolor\":\"white\",\"automargin\":true,\"zerolinewidth\":2},\"yaxis\":{\"gridcolor\":\"white\",\"linecolor\":\"white\",\"ticks\":\"\",\"title\":{\"standoff\":15},\"zerolinecolor\":\"white\",\"automargin\":true,\"zerolinewidth\":2},\"scene\":{\"xaxis\":{\"backgroundcolor\":\"#E5ECF6\",\"gridcolor\":\"white\",\"linecolor\":\"white\",\"showbackground\":true,\"ticks\":\"\",\"zerolinecolor\":\"white\",\"gridwidth\":2},\"yaxis\":{\"backgroundcolor\":\"#E5ECF6\",\"gridcolor\":\"white\",\"linecolor\":\"white\",\"showbackground\":true,\"ticks\":\"\",\"zerolinecolor\":\"white\",\"gridwidth\":2},\"zaxis\":{\"backgroundcolor\":\"#E5ECF6\",\"gridcolor\":\"white\",\"linecolor\":\"white\",\"showbackground\":true,\"ticks\":\"\",\"zerolinecolor\":\"white\",\"gridwidth\":2}},\"shapedefaults\":{\"line\":{\"color\":\"#2a3f5f\"}},\"annotationdefaults\":{\"arrowcolor\":\"#2a3f5f\",\"arrowhead\":0,\"arrowwidth\":1},\"geo\":{\"bgcolor\":\"white\",\"landcolor\":\"#E5ECF6\",\"subunitcolor\":\"white\",\"showland\":true,\"showlakes\":true,\"lakecolor\":\"white\"},\"title\":{\"x\":0.05},\"mapbox\":{\"style\":\"light\"}}},\"xaxis\":{\"anchor\":\"y\",\"domain\":[0.0,1.0],\"title\":{\"text\":\"volume\"}},\"yaxis\":{\"anchor\":\"x\",\"domain\":[0.0,0.7326],\"title\":{\"text\":\"probability\"}},\"xaxis2\":{\"anchor\":\"y2\",\"domain\":[0.0,1.0],\"matches\":\"x\",\"showticklabels\":false,\"showgrid\":true},\"yaxis2\":{\"anchor\":\"x2\",\"domain\":[0.7426,1.0],\"matches\":\"y2\",\"showticklabels\":false,\"showline\":false,\"ticks\":\"\",\"showgrid\":false},\"legend\":{\"title\":{\"text\":\"labels\"},\"tracegroupgap\":0},\"title\":{\"text\":\"Distribution of volumes by class\"},\"barmode\":\"relative\"},                        {\"responsive\": true}                    ).then(function(){\n                            \nvar gd = document.getElementById('eb5da74e-a023-4474-85e6-f95ec098a945');\nvar x = new MutationObserver(function (mutations, observer) {{\n        var display = window.getComputedStyle(gd).display;\n        if (!display || display === 'none') {{\n            console.log([gd, 'removed!']);\n            Plotly.purge(gd);\n            observer.disconnect();\n        }}\n}});\n\n// Listen for the removal of the full notebook cells\nvar notebookContainer = gd.closest('#notebook-container');\nif (notebookContainer) {{\n    x.observe(notebookContainer, {childList: true});\n}}\n\n// Listen for the clearing of the current output cell\nvar outputEl = gd.closest('.output');\nif (outputEl) {{\n    x.observe(outputEl, {childList: true});\n}}\n\n                        })                };                });            </script>        </div>"
     },
     "metadata": {},
     "output_type": "display_data"
    }
   ],
   "source": [
    "import plotly.express as px\n",
    "\n",
    "sizes_reshaped = reshape_list_of_tensors(sizes)\n",
    "df = pd.DataFrame(\n",
    "    {\n",
    "        \"volume\": sizes_reshaped[:, 0] * sizes_reshaped[:, 1] * sizes_reshaped[:, 2],\n",
    "        \"labels\": labels_reshaped[:, 0],\n",
    "    }\n",
    ")\n",
    "# Create the distribution plot using Plotly Express\n",
    "fig = px.histogram(\n",
    "    df,\n",
    "    x=\"volume\",\n",
    "    color=\"labels\",\n",
    "    marginal=\"rug\",\n",
    "    histnorm=\"probability\",\n",
    "    title=\"Distribution of volumes by class\",\n",
    ")\n",
    "\n",
    "# Show the plot\n",
    "fig.show()\n",
    "fig.write_html(\"sizes_distribuition.html\")\n",
    "# plot_3d_density(centers, labels)"
   ],
   "metadata": {
    "collapsed": false
   }
  },
  {
   "cell_type": "markdown",
   "source": [
    "## Crop image by mask"
   ],
   "metadata": {
    "collapsed": false
   }
  },
  {
   "cell_type": "code",
   "execution_count": 52,
   "outputs": [
    {
     "data": {
      "text/plain": "torch.Size([1, 1, 0, 0, 35])"
     },
     "execution_count": 52,
     "metadata": {},
     "output_type": "execute_result"
    }
   ],
   "source": [
    "def find_bounding_box(image_array: np.array) -> Tuple[np.array, np.array]:\n",
    "    indices = np.argwhere(image_array == 1)\n",
    "    min_indices = np.min(indices, axis=0)\n",
    "    max_indices = np.max(indices, axis=0) + 1\n",
    "    return min_indices, max_indices\n",
    "\n",
    "\n",
    "def crop_image_by_mask(\n",
    "    data_dict: Dict[str, np.array], output_size: Optional[np.array] = None\n",
    ") -> Tuple[Dict[str, np.array], Tuple[np.array]]:\n",
    "    assert data_dict[\"img\"].ndim == data_dict[\"mask\"].ndim\n",
    "    mask_image_array = data_dict[\"mask\"]\n",
    "    bounding_box = find_bounding_box(mask_image_array)\n",
    "    # print(bounding_box)\n",
    "\n",
    "    # TODO how to do it for batches?\n",
    "    roi_center = bounding_box[0] + (bounding_box[1] - bounding_box[0]) // 2\n",
    "    if output_size is None:\n",
    "        output_size = bounding_box[1] - bounding_box[0]\n",
    "\n",
    "    # TODO move if away from image\n",
    "    lower_indeces = (roi_center - np.floor(output_size / 2)).astype(int)\n",
    "    higher_indeces = (roi_center + np.ceil(output_size / 2)).astype(int)\n",
    "    # print(roi_center)\n",
    "    # print(output_size)\n",
    "    # print(lower_indeces)\n",
    "    # print(higher_indeces)\n",
    "\n",
    "    slices = tuple(\n",
    "        slice(lower_indeces[i], higher_indeces[i]) for i in range(mask_image_array.ndim)\n",
    "    )\n",
    "    # print(slices)\n",
    "\n",
    "    return data_dict[\"img\"][slices], bounding_box\n",
    "\n",
    "\n",
    "def test_crop_image():\n",
    "    data_dict = {\n",
    "        \"img\": np.array([[1, 2, 3, 4], [5, 6, 7, 8], [9, 10, 11, 12]]),\n",
    "        \"mask\": np.array([[1, 0, 0, 0], [0, 0, 0, 0], [1, 1, 0, 0]]),\n",
    "    }\n",
    "    expected_cropped_img = np.array([[1, 2], [5, 6], [9, 10]])\n",
    "    expected_bounding_box = [np.array([0, 0]), np.array([3, 2])]\n",
    "    cropped_img, bounding_box = crop_image_by_mask(data_dict, output_size=None)\n",
    "\n",
    "    print(bounding_box)\n",
    "    np.testing.assert_equal(expected_cropped_img, cropped_img)\n",
    "    np.testing.assert_equal(expected_bounding_box, bounding_box)\n",
    "\n",
    "\n",
    "# test_crop_image()\n",
    "\n",
    "# cropped_img, bounding_box = crop_image_by_mask(copy.deepcopy(data), None) # np.array([1,1,200,200,200])\n",
    "# # visualize_image(cropped_img)\n",
    "# cropped_img.shape"
   ],
   "metadata": {
    "collapsed": false
   }
  }
 ],
 "metadata": {
  "kernelspec": {
   "display_name": "Python 3 (ipykernel)",
   "language": "python",
   "name": "python3"
  },
  "language_info": {
   "codemirror_mode": {
    "name": "ipython",
    "version": 3
   },
   "file_extension": ".py",
   "mimetype": "text/x-python",
   "name": "python",
   "nbconvert_exporter": "python",
   "pygments_lexer": "ipython3",
   "version": "3.9.13"
  }
 },
 "nbformat": 4,
 "nbformat_minor": 1
}
