{
 "cells": [
  {
   "cell_type": "code",
   "execution_count": 72,
   "id": "initial_id",
   "metadata": {
    "collapsed": true,
    "ExecuteTime": {
     "end_time": "2024-07-06T20:07:57.250823100Z",
     "start_time": "2024-07-06T20:06:29.450240100Z"
    }
   },
   "outputs": [],
   "source": [
    "from pathlib import Path\n",
    "import json\n",
    "import re\n",
    "\n",
    "import pandas as pd\n",
    "import plotly\n",
    "import plotly.graph_objects as go\n",
    "\n",
    "\n",
    "def read_plot_from_html(html_file: Path):\n",
    "    with open(html_file, encoding=\"utf8\") as f:\n",
    "        html = f.read()\n",
    "    # print(html[-(2**16) :])\n",
    "    call_arg_str = re.findall(r\"Plotly\\.newPlot\\((.*)\\)\", html[-(2**17) :])[0]\n",
    "    call_args = json.loads(f\"[{call_arg_str}]\")\n",
    "    plotly_json = {\"data\": call_args[1], \"layout\": call_args[2]}\n",
    "    return plotly.io.from_json(json.dumps(plotly_json))\n",
    "\n",
    "\n",
    "file_name = \"learning_curve.html\"\n",
    "base_dir = Path(r\"Z:\\data\\meningioma\\optuna\\trials\\logs\")\n",
    "\n",
    "augment_02 = {\n",
    "    \"c1_centralized_central_200_epochs_no_resize_basic_02p_00001_lr_099_gamma_resnet_10_3_unfreezed_6354149\": \"00001 lr\",\n",
    "    \"c1_centralized_central_200_epochs_no_resize_basic_02p_00005_lr_099_gamma_resnet_10_3_unfreezed_6354150\": \"00005 lr\",\n",
    "    \"c1_centralized_central_200_epochs_no_resize_basic_02p_0001_lr_099_gamma_resnet_10_3_unfreezed_6354151\": \"0001 lr\",\n",
    "    \"c1_centralized_central_200_epochs_no_resize_basic_02p_001_lr_099_gamma_resnet_10_3_unfreezed_6354180\": \"001 lr\",\n",
    "    \"c1_centralized_central_200_epochs_no_resize_basic_02p_002_lr_099_gamma_resnet_10_3_unfreezed_6354177\": \"002 lr\",\n",
    "    \"c1_centralized_central_200_epochs_no_resize_basic_02p_01_lr_099_gamma_resnet_10_3_unfreezed_6354230\": \"01 lr\",\n",
    "    \"c1_centralized_central_200_epochs_no_resize_basic_02p_02_lr_099_gamma_resnet_10_3_unfreezed_6354231\": \"02 lr\",\n",
    "}\n",
    "augmentation_comparison = {\n",
    "    # \"c1_centralized_central_200_epochs_no_resize_basic_02p_00001_lr_099_gamma_resnet_10_3_unfreezed_6354149\": \"00001 lr 02 augment\",\n",
    "    \"c1_centralized_central_200_epochs_no_resize_basic_08p_00001_lr_099_gamma_resnet_10_3_unfreezed_6354237\": \"00001 lr 08 basic\",\n",
    "    # \"c1_centralized_central_200_epochs_no_resize_basic_02p_0001_lr_099_gamma_resnet_10_3_unfreezed_6354151\": \"0001 lr 02 augment\",\n",
    "    \"c1_centralized_central_200_epochs_no_resize_basic_08p_0001_lr_099_gamma_resnet_10_3_unfreezed_6354236\": \"0001 lr 08 basic\",\n",
    "    \"c1_centralized_central_200_epochs_no_resize_basic_1p_0001_lr_099_gamma_resnet_10_3_unfreezed_6354244\": \"0001 lr 1 basic\",\n",
    "    \"c1_centralized_central_200_epochs_no_resize_strong_less_gaussian_08p_0001_lr_099_gamma_resnet_10_3_unfreezed_6354242\": \"0001 lr 08 strong less gaussian\",\n",
    "    \"c1_centralized_central_200_epochs_no_resize_strong_less_gaussian_1p_0001_lr_099_gamma_resnet_10_3_unfreezed_6354243\": \"0001 lr 1 strong less gaussian\",\n",
    "    \"c1_centralized_central_200_epochs_no_resize_strong_05p_0001_lr_099_gamma_resnet_10_3_unfreezed_6354241\": \"0001 lr 05 strong\",\n",
    "    \"c1_centralized_central_200_epochs_no_resize_strong_08p_0001_lr_099_gamma_resnet_10_3_unfreezed_6354240\": \"0001 lr 08 strong\",\n",
    "    # \"c1_centralized_central_200_epochs_no_resize_basic_02p_001_lr_099_gamma_resnet_10_3_unfreezed_6354180\": \"001 lr 02 augment\",\n",
    "    \"c1_centralized_central_200_epochs_no_resize_basic_08p_001_lr_099_gamma_resnet_10_3_unfreezed_6354234\": \"001 lr 08 basic\",\n",
    "    \"c1_centralized_central_200_epochs_no_resize_strong_less_gaussian_08p_001_lr_099_gamma_resnet_10_3_unfreezed_6354302\": \"001 lr 08 strong less gaussian\",\n",
    "    \"c1_centralized_central_200_epochs_no_resize_strong_less_gaussian_1p_001_lr_099_gamma_resnet_10_3_unfreezed_6355058\": \"001 lr 1 strong less gaussian\",\n",
    "    # \"c1_centralized_central_200_epochs_no_resize_basic_02p_01_lr_099_gamma_resnet_10_3_unfreezed_6354230\": \"01 lr 02 augment\",\n",
    "    \"c1_centralized_central_200_epochs_no_resize_basic_08p_01_lr_099_gamma_resnet_10_3_unfreezed_6354239\": \"01 lr 08 basic\",\n",
    "    \"c2_centralized_central_300_epochs_no_resize_with_bias_correction_05p_0001_lr_099_gamma_resnet_10_3_unfreezed_6363226\": \"0001 lr 05p extended\",\n",
    "    \"c2_centralized_central_300_epochs_no_resize_with_bias_correction_08p_0001_lr_099_gamma_resnet_10_3_unfreezed_6363228\": \"0001 lr 08p extended\",\n",
    "    \"c2_centralized_central_300_epochs_no_resize_with_bias_correction_1p_0001_lr_099_gamma_resnet_10_3_unfreezed_6363230\": \"0001 lr 1p extended\",\n",
    "    \"c3_centralized_central_200_epochs_no_resize_with_bias_correction_1p_001_lr_099_gamma_resnet_10_3_unfreezed_6366464\": \"001 lr 1p extended\",\n",
    "}\n",
    "freezing_comparison = {\n",
    "    \"c1_centralized_central_300_epochs_no_resize_strong_less_gaussian_08p_0001_lr_099_gamma_resnet_10_1_unfreezed_6354561\": \"0001 lr 1 unfreezed\",\n",
    "    \"c1_centralized_central_300_epochs_no_resize_strong_less_gaussian_08p_0001_lr_099_gamma_resnet_10_2_unfreezed_6354562\": \"0001 lr 2 unfreezed\",\n",
    "    \"c1_centralized_central_200_epochs_no_resize_strong_less_gaussian_08p_0001_lr_099_gamma_resnet_10_3_unfreezed_6354242\": \"0001 lr 3 unfreezed\",\n",
    "    \"c1_centralized_central_300_epochs_no_resize_strong_less_gaussian_08p_0001_lr_099_gamma_resnet_10_4_unfreezed_6354563\": \"0001 lr 4 unfreezed\",\n",
    "    \"c3_centralized_central_200_epochs_no_resize_with_bias_correction_08p_0001_lr_099_gamma_resnet_10_4_unfreezed_6366456\": \"0001 lr 08 aug 4 unfreezed\",\n",
    "    \"c3_centralized_central_200_epochs_no_resize_with_bias_correction_1p_0001_lr_099_gamma_resnet_10_4_unfreezed_6366459\": \"0001 lr 1 aug 4 unfreezed\",\n",
    "    \"c3_centralized_central_200_epochs_70_padding_with_bias_correction_1p_0001_lr_099_gamma_resnet_10_4_unfreezed_6366453\": \"padding 0001 lr 1 aug 4 unfreezed\",\n",
    "    \n",
    "    \"c1_centralized_central_200_epochs_no_resize_basic_08p_001_lr_099_gamma_resnet_10_2_unfreezed_6354303\": \"001 lr 2 unfreezed\",\n",
    "    \"c1_centralized_central_200_epochs_no_resize_strong_less_gaussian_08p_001_lr_099_gamma_resnet_10_3_unfreezed_6354302\": \"001 lr 3 unfreezed\",\n",
    "    \"c1_centralized_central_300_epochs_no_resize_strong_less_gaussian_08p_001_lr_099_gamma_resnet_10_4_unfreezed_6354565\": \"001 lr 4 unfreezed\",\n",
    "    \n",
    "    \"c1_centralized_central_400_epochs_no_resize_strong_less_gaussian_08p_0001_lr_099_gamma_resnet_10_4_unfreezed_6354791\": \"long 0001 lr 4 unfreezed\",\n",
    "    \"c1_centralized_central_400_epochs_no_resize_strong_less_gaussian_08p_001_lr_099_gamma_resnet_10_4_unfreezed_6354792\": \"long 001 lr 4 unfreezed\",\n",
    "    \"c3_centralized_central_200_epochs_no_resize_with_bias_correction_08p_001_lr_099_gamma_resnet_10_4_unfreezed_6366458\": \"001 lr 08 aug 4 unfreezed\",\n",
    "    \"c3_centralized_central_200_epochs_no_resize_with_bias_correction_1p_001_lr_099_gamma_resnet_10_4_unfreezed_6366462\": \"001 lr 1 aug 4 unfreezed\",\n",
    "    \"c3_centralized_central_200_epochs_70_padding_with_bias_correction_1p_001_lr_099_gamma_resnet_10_4_unfreezed_6366454\": \"padding 001 lr 1 aug 4 unfreezed\",\n",
    "    \n",
    "    \"c1_centralized_central_400_epochs_no_resize_strong_less_gaussian_08p_001_lr_099_gamma_resnet_34_4_unfreezed_6354869\": \"long 001 lr resnet 34\",\n",
    "}\n",
    "\n",
    "two_classes = {\n",
    "    \"c1_centralized_central_200_epochs_no_resize_strong_less_gaussian_08p_001_lr_099_gamma_class_2_and_3_together_3_unfreezed_6354648\": \"001 lr 08 strong less gaussian\",\n",
    "    \"c1_centralized_central_200_epochs_no_resize_strong_less_gaussian_08p_0001_lr_099_gamma_class_2_and_3_together_3_unfreezed_6354647\": \"0001 lr 08 strong less gaussian\",\n",
    " \"c1_centralized_central_400_epochs_no_resize_strong_less_gaussian_08p_0001_lr_099_gamma_class_2_and_3_together_4_unfreezed_6354793\": \"0001 lr 4 unfreezed\",\n",
    "    \"c1_centralized_central_400_epochs_no_resize_strong_less_gaussian_08p_001_lr_099_gamma_class_2_and_3_together_4_unfreezed_6354794\": \"001 lr 4 unfreezed\",\n",
    "    \"c1_centralized_central_200_epochs_no_resize_strong_less_gaussian_1p_0001_lr_099_gamma_class_2_and_3_together_4_unfreezed_6355017\": \"0001 lr 4 unfreezed 1 augment\",\n",
    "    \"c1_centralized_central_200_epochs_no_resize_strong_less_gaussian_1p_001_lr_099_gamma_class_2_and_3_together_4_unfreezed_6355016\": \"001 lr 4 unfreezed 1 augment\",   \n",
    " \"c1_centralized_central_400_epochs_no_resize_strong_less_gaussian_08p_001_lr_099_gamma_class_2_and_3_together_4_unfreezed_resnet_34_6354877\": \"001 lr big model\",\n",
    "    \"c1_centralized_central_200_epochs_70_padding_strong_less_gaussian_08p_0001_lr_099_gamma_class_2_and_3_together_4_unfreezed_6355013\": \"0001 lr 70 padding\",\n",
    "    \"c1_centralized_central_200_epochs_70_padding_strong_less_gaussian_08p_001_lr_099_gamma_class_2_and_3_together_4_unfreezed_6355012\": \"001 lr 70 padding\",\n",
    "    \"c2_centralized_central_300_epochs_no_resize_with_bias_correction_05p_0001_lr_099_gamma_class_2_and_3_together_4_unfreezed_6363225\": \"0001 lr 05 extended\",\n",
    "    \"c2_centralized_central_300_epochs_no_resize_with_bias_correction_08p_0001_lr_099_gamma_class_2_and_3_together_4_unfreezed_6363227\": \"0001 lr 08 extended\",\n",
    "    \"c2_centralized_central_300_epochs_no_resize_with_bias_correction_1p_0001_lr_099_gamma_class_2_and_3_together_4_unfreezed_6363229\": \"0001 lr 1 extended\",\n",
    "    \"c3_centralized_central_200_epochs_no_resize_with_bias_correction_1p_0001_lr_099_gamma_class_2_and_3_together_3_unfreezed_6366436\": \"0001 lr 1 extended 3 unfreezed\",\n",
    "    \"c3_centralized_central_200_epochs_no_resize_with_bias_correction_05p_001_lr_099_gamma_class_2_and_3_together_4_unfreezed_6366442\": \"001 lr 05 extended\",\n",
    "    \"c3_centralized_central_200_epochs_no_resize_with_bias_correction_1p_001_lr_099_gamma_class_2_and_3_together_4_unfreezed_6366444\": \"001 lr 1 extended\",\n",
    "    \"c3_centralized_central_200_epochs_no_resize_with_bias_correction_1p_001_lr_099_gamma_class_2_and_3_together_3_unfreezed_6366438\": \"001 lr 1 extended 3 unfreezed\",\n",
    "    \"c3_centralized_central_200_epochs_70_padding_with_bias_correction_1p_0001_lr_099_gamma_class_2_and_3_together_4_unfreezed_6366446\": \"0001 padding\",\n",
    "    \"c3_centralized_central_200_epochs_70_padding_with_bias_correction_1p_001_lr_099_gamma_class_2_and_3_together_4_unfreezed_6366447\": \"001 padding\",\n",
    "}\n",
    "\n",
    "cv_3_classes = {\n",
    "    \"cv_final_model_centralized_central_300_epochs_no_resize_with_bias_correction_08p_0001_lr_099_gamma_resnet_10_4_unfreezed_fold0_6376848\": \"fold 0\",\n",
    "    \"cv_final_model_centralized_central_300_epochs_no_resize_with_bias_correction_08p_0001_lr_099_gamma_resnet_10_4_unfreezed_fold1_6376849\": \"fold 1\",\n",
    "    \"cv_final_model_centralized_central_300_epochs_no_resize_with_bias_correction_08p_0001_lr_099_gamma_resnet_10_4_unfreezed_fold2_6384955\": \"fold 2\",\n",
    "    \"cv_final_model_centralized_central_300_epochs_no_resize_with_bias_correction_08p_0001_lr_099_gamma_resnet_10_4_unfreezed_fold3_6384956\": \"fold 3\",\n",
    "    \"cv_final_model_centralized_central_300_epochs_no_resize_with_bias_correction_08p_0001_lr_099_gamma_resnet_10_4_unfreezed_fold4_6384957\": \"fold 4\",\n",
    "}\n",
    "\n",
    "cv_2_classes = {\n",
    "\"cv_final_model_centralized_central_300_epochs_no_resize_with_bias_correction_1p_001_lr_099_gamma_class_2_and_3_together_4_unfreezed_fold0_6376843\": \"fold 0\",\n",
    "\"cv_final_model_centralized_central_300_epochs_no_resize_with_bias_correction_1p_001_lr_099_gamma_class_2_and_3_together_4_unfreezed_fold1_6376844\": \"fold 1\",\n",
    "\"cv_final_model_centralized_central_300_epochs_no_resize_with_bias_correction_1p_001_lr_099_gamma_class_2_and_3_together_4_unfreezed_fold2_6376845\": \"fold 2\",\n",
    "\"cv_final_model_centralized_central_300_epochs_no_resize_with_bias_correction_1p_001_lr_099_gamma_class_2_and_3_together_4_unfreezed_fold3_6376846\": \"fold 3\",\n",
    "\"cv_final_model_centralized_central_300_epochs_no_resize_with_bias_correction_1p_001_lr_099_gamma_class_2_and_3_together_4_unfreezed_fold4_6376847\": \"fold 4\",\n",
    "}\n",
    "\n",
    "fl_fed_avg = {\n",
    "    \"fedavg1_fed_avg_all_clients_federated_20r_20e_3c_no_resize_with_bias_correction_1p_001_lr_099_gamma_class_2_and_3_together_4_unfreezed_fold4_6384899\": \"20r 20e 3c\",\n",
    "    \"fedavg1_fed_avg_05_fraction_federated_20r_20e_3c_no_resize_with_bias_correction_1p_001_lr_099_gamma_class_2_and_3_together_4_unfreezed_fold4_6388535\": \"20r 20e 3c frac\",\n",
    "    \"fedavg1_fed_avg_all_clients_federated_40r_5e_3c_no_resize_with_bias_correction_1p_001_lr_099_gamma_class_2_and_3_together_4_unfreezed_fold4_6384740\": \"40r 5e 3c\",\n",
    "    \"fedavg1_fed_avg_05_fraction_federated_40r_5e_3c_no_resize_with_bias_correction_1p_001_lr_099_gamma_class_2_and_3_together_4_unfreezed_fold4_6388532\": \"40r 5e 3c frac\",\n",
    "    \"fedavg5_fed_avg_05_fraction_federated_40r_5e_3c_no_resize_with_bias_correction_1p_001_lr_099_gamma_class_2_and_3_together_4_unfreezed_fold4_6471195\": \"40r 5e 3c frac\",\n",
    "    \"fedavg5_fed_avg_05_fraction_federated_40r_5e_5c_no_resize_with_bias_correction_1p_001_lr_099_gamma_class_2_and_3_together_4_unfreezed_fold4_6471198\": \"40r 5e 5c frac\",\n",
    "    \"fedavg1_fed_avg_all_clients_federated_100r_2e_5c_no_resize_with_bias_correction_1p_001_lr_099_gamma_class_2_and_3_together_4_unfreezed_fold4_6384739\": \"100r 2e 5c\",\n",
    "    \"fedavg1_fed_avg_all_clients_federated_100r_2e_3c_no_resize_with_bias_correction_1p_001_lr_099_gamma_class_2_and_3_together_4_unfreezed_fold4_6384901\": \"100r 2e 3c\",\n",
    "    \"fedavg1_fed_avg_05_fraction_federated_100r_2e_3c_no_resize_with_bias_correction_1p_001_lr_099_gamma_class_2_and_3_together_4_unfreezed_fold4_6384902\": \"100r 2e 3c 0.5 frac\",\n",
    "    \"fedavg1_fed_avg_all_clients_federated_200r_1e_3c_no_resize_with_bias_correction_1p_001_lr_099_gamma_class_2_and_3_together_4_unfreezed_fold4_6384738\": \"200r 1e 3c\",\n",
    "    \"fedavg1_fed_avg_05_fraction_federated_200r_1e_3c_no_resize_with_bias_correction_1p_001_lr_099_gamma_class_2_and_3_together_4_unfreezed_fold4_6388530\": \"200r 1e 3c frac\",\n",
    "    \"fedavg5_fed_avg_05_fraction_federated_200r_1e_3c_no_resize_with_bias_correction_1p_001_lr_099_gamma_class_2_and_3_together_4_unfreezed_fold4_6455348\": \"200r 1e 3c frac\",\n",
    "    \"fedavg1_fed_avg_05_fraction_federated_200r_1e_5c_no_resize_with_bias_correction_1p_001_lr_099_gamma_class_2_and_3_together_4_unfreezed_fold4_6388531\": \"200r 1e 5c frac\",\n",
    "}\n",
    "\n",
    "fl_fed_prox = {\n",
    "    \"fedavg1_fed_avg_05_fraction_federated_200r_1e_3c_no_resize_with_bias_correction_1p_001_lr_099_gamma_class_2_and_3_together_4_unfreezed_fold4_6388530\": \"fedavg 200r\",\n",
    "    \"fedavg5_fed_avg_05_fraction_federated_200r_1e_3c_no_resize_with_bias_correction_1p_001_lr_099_gamma_class_2_and_3_together_4_unfreezed_fold4_6455348\": \"200r 1e 3c frac\",\n",
    "    \"fedavg1_fed_avg_05_fraction_federated_40r_5e_3c_no_resize_with_bias_correction_1p_001_lr_099_gamma_class_2_and_3_together_4_unfreezed_fold4_6388532\": \"fedavg 40r\",\n",
    "    \"fedavg3_fed_prox_01_federated_200r_1e_3c_no_resize_with_bias_correction_1p_001_lr_099_gamma_class_2_and_3_together_4_unfreezed_fold4_6388749\": \"01\",\n",
    "    \"fedavg3_fed_prox_001_federated_200r_1e_3c_no_resize_with_bias_correction_1p_001_lr_099_gamma_class_2_and_3_together_4_unfreezed_fold4_6388747\": \"001\",\n",
    "    \"fedavg3_fed_prox_0001_federated_200r_1e_3c_no_resize_with_bias_correction_1p_001_lr_099_gamma_class_2_and_3_together_4_unfreezed_fold4_6388746\": \"0001\",\n",
    "    \"fedavg3_fed_prox_0003_federated_200r_1e_3c_no_resize_with_bias_correction_1p_001_lr_099_gamma_class_2_and_3_together_4_unfreezed_fold4_6411859\": \"0003\",\n",
    "    \"fedavg3_fed_prox_00001_federated_200r_1e_3c_no_resize_with_bias_correction_1p_001_lr_099_gamma_class_2_and_3_together_4_unfreezed_fold4_6389739\": \"00001\",\n",
    "    \"fedavg3_fed_prox_000001_federated_200r_1e_3c_no_resize_with_bias_correction_1p_001_lr_099_gamma_class_2_and_3_together_4_unfreezed_fold4_6389740\": \"000001\",\n",
    "    \"fedavg5_fed_prox_000001_federated_40r_5e_3c_no_resize_with_bias_correction_1p_001_lr_099_gamma_class_2_and_3_together_4_unfreezed_fold4_6455349\": \"000001  40r\",\n",
    "    \"fedavg3_fed_prox_00001_federated_40r_5e_3c_no_resize_with_bias_correction_1p_001_lr_099_gamma_class_2_and_3_together_4_unfreezed_fold4_6389741\": \"00001 40r_5e\",\n",
    "    \"fedavg3_fed_prox_0001_federated_40r_5e_3c_no_resize_with_bias_correction_1p_001_lr_099_gamma_class_2_and_3_together_4_unfreezed_fold4_6389743\": \"0001 40r_5e\",\n",
    "    \"fedavg3_fed_prox_0003_federated_40r_5e_3c_no_resize_with_bias_correction_1p_001_lr_099_gamma_class_2_and_3_together_4_unfreezed_fold4_6411858\": \"0003 40r_5e\",\n",
    "}\n",
    "\n",
    "fl_non_iid = {\n",
    "    \"fedavg1_fed_avg_05_fraction_federated_200r_1e_3c_no_resize_with_bias_correction_1p_001_lr_099_gamma_class_2_and_3_together_4_unfreezed_fold4_6388530\": \"fedavg 200r\",\n",
    "    \"fedavg5_fed_avg_05_fraction_federated_200r_1e_3c_no_resize_with_bias_correction_1p_001_lr_099_gamma_class_2_and_3_together_4_unfreezed_fold4_6455348\": \"fedavg 200r\",\n",
    "    \"fedavg4_fed_avg_05_fraction_ks01_200r_1e_3c_no_resize_with_bias_correction_1p_001_lr_099_gamma_class_2_and_3_together_4_unfreezed_fold4_6412007\": \"fedavg ks01\",\n",
    "    \"fedavg4_seed234_fed_avg_05_fraction_ks01_200r_1e_3c_no_resize_with_bias_correction_1p_001_lr_099_gamma_class_2_and_3_together_4_unfreezed_fold4_6412048\": \"fedavg ks01 seed 234\",\n",
    "    \"fedavg4_fed_avg_05_fraction_ks024_200r_1e_3c_no_resize_with_bias_correction_1p_001_lr_099_gamma_class_2_and_3_together_4_unfreezed_fold4_6412006\": \"fedavg ks024\",\n",
    "    \"fedavg5_fed_avg_05_fraction_ks024_200r_1e_3c_no_resize_with_bias_correction_1p_001_lr_099_gamma_class_2_and_3_together_4_unfreezed_fold4_6471145\": \"fedavg ks024\",\n",
    "    \"fedavg4_fed_avg_05_fraction_ks04_200r_1e_3c_no_resize_with_bias_correction_1p_001_lr_099_gamma_class_2_and_3_together_4_unfreezed_fold4_6412008\": \"fedavg ks04\",\n",
    "    \"fedavg5_fed_avg_05_fraction_ks04_200r_1e_3c_no_resize_with_bias_correction_1p_001_lr_099_gamma_class_2_and_3_together_4_unfreezed_fold4_6471147\": \"fedavg ks04\",\n",
    "    # FedProx:\n",
    "    \"fedavg5_fed_prox_000001_ks04_200r_1e_3c_no_resize_with_bias_correction_1p_001_lr_099_gamma_class_2_and_3_together_4_unfreezed_fold4_6455345\": \"prox000001 ks04 \",\n",
    "    \"fedavg5_fed_prox_0003_ks04_200r_1e_3c_no_resize_with_bias_correction_1p_001_lr_099_gamma_class_2_and_3_together_4_unfreezed_fold4_6455350\": \"prox0003 ks04 \",\n",
    "}\n",
    "\n",
    "runs_ids = fl_non_iid\n",
    "name = \"fl_non_iid\"\n",
    "figs = {}\n",
    "for run_id in runs_ids:\n",
    "    fig = read_plot_from_html(base_dir / run_id / file_name)\n",
    "    figs[run_id] = fig"
   ]
  },
  {
   "cell_type": "code",
   "outputs": [
    {
     "name": "stdout",
     "output_type": "stream",
     "text": [
      "fedavg1_fed_avg_05_fraction_federated_200r_1e_3c_no_resize_with_bias_correction_1p_001_lr_099_gamma_class_2_and_3_together_4_unfreezed_fold4_6388530\t0.704\n",
      "fedavg5_fed_avg_05_fraction_federated_200r_1e_3c_no_resize_with_bias_correction_1p_001_lr_099_gamma_class_2_and_3_together_4_unfreezed_fold4_6455348\t0.6761\n",
      "fedavg4_fed_avg_05_fraction_ks01_200r_1e_3c_no_resize_with_bias_correction_1p_001_lr_099_gamma_class_2_and_3_together_4_unfreezed_fold4_6412007\t0.7306\n",
      "fedavg4_seed234_fed_avg_05_fraction_ks01_200r_1e_3c_no_resize_with_bias_correction_1p_001_lr_099_gamma_class_2_and_3_together_4_unfreezed_fold4_6412048\t0.65\n",
      "fedavg4_fed_avg_05_fraction_ks024_200r_1e_3c_no_resize_with_bias_correction_1p_001_lr_099_gamma_class_2_and_3_together_4_unfreezed_fold4_6412006\t0.7707\n",
      "fedavg5_fed_avg_05_fraction_ks024_200r_1e_3c_no_resize_with_bias_correction_1p_001_lr_099_gamma_class_2_and_3_together_4_unfreezed_fold4_6471145\t0.8056\n",
      "fedavg4_fed_avg_05_fraction_ks04_200r_1e_3c_no_resize_with_bias_correction_1p_001_lr_099_gamma_class_2_and_3_together_4_unfreezed_fold4_6412008\t0.6872\n",
      "fedavg5_fed_avg_05_fraction_ks04_200r_1e_3c_no_resize_with_bias_correction_1p_001_lr_099_gamma_class_2_and_3_together_4_unfreezed_fold4_6471147\t0.6813\n",
      "fedavg5_fed_prox_000001_ks04_200r_1e_3c_no_resize_with_bias_correction_1p_001_lr_099_gamma_class_2_and_3_together_4_unfreezed_fold4_6455345\t0.6792\n",
      "fedavg5_fed_prox_0003_ks04_200r_1e_3c_no_resize_with_bias_correction_1p_001_lr_099_gamma_class_2_and_3_together_4_unfreezed_fold4_6455350\t0.6497\n"
     ]
    }
   ],
   "source": [
    "from itertools import cycle\n",
    "\n",
    "traces_to_plot = {}\n",
    "best_f_scores = {}\n",
    "\n",
    "LIGHT_COLORS = cycle([\"#e8afa0\", \"#e3d88f\", \"#bfe38f\", \"#a1e6bb\", \"#9bd0d1\", \"#9595de\", \"#deb6dc\"])\n",
    "DARK_COLORS = cycle([\"#e65430\", \"#e6cd30\", \"#8ede26\", \"#24d669\", \"#1fdbde\", \"#2222e3\", \"#e31ed9\"])\n",
    "\n",
    "if name.startswith(\"fl\"):\n",
    "    f_score_trace_name = \"F scores mean\"\n",
    "    training_loss_trace_name = \"Training loss mean\"\n",
    "    validation_loss_trace_name = \"Validation loss mean\"\n",
    "else:\n",
    "    f_score_trace_name = \"F1 score\"\n",
    "    training_loss_trace_name = \"training loss\"\n",
    "    validation_loss_trace_name = \"validation loss\"\n",
    "\n",
    "traces_names_to_plot = [training_loss_trace_name, validation_loss_trace_name]\n",
    "\n",
    "def remove_nans(trace):\n",
    "    return [x for x in trace if x is not None]\n",
    "\n",
    "new_fig = go.Figure()\n",
    "f_score_fig = go.Figure()\n",
    "for run_id, fig in figs.items():\n",
    "    for trace in fig[\"data\"]:\n",
    "        trace_name = trace[\"name\"]\n",
    "        if trace_name in traces_names_to_plot:\n",
    "            new_fig.add_trace(\n",
    "                go.Scatter(\n",
    "                    x=trace[\"x\"],\n",
    "                    y=trace[\"y\"],\n",
    "                    name=f'{runs_ids[run_id]} {trace[\"name\"]}',\n",
    "                    mode=\"lines\",\n",
    "                    line_color= (\n",
    "                        next(LIGHT_COLORS) if trace_name == training_loss_trace_name else next(DARK_COLORS)\n",
    "                    )\n",
    "                )\n",
    "            )\n",
    "        if trace_name == f_score_trace_name:\n",
    "            best_f_scores[run_id] = max(remove_nans(trace[\"y\"]))\n",
    "            f_score_fig.add_trace(\n",
    "                go.Scatter(\n",
    "                    x=trace[\"x\"],\n",
    "                    y=trace[\"y\"],\n",
    "                    name=f'{runs_ids[run_id]} F score',\n",
    "                    mode=\"lines\",\n",
    "                    line_color= next(DARK_COLORS)\n",
    "                )\n",
    "            )\n",
    "new_fig.update_traces(connectgaps=True)\n",
    "f_score_fig.update_traces(connectgaps=True)\n",
    "\n",
    "new_fig.write_html(f\"learning_curves_{name}.html\")\n",
    "f_score_fig.write_html(f\"f_scores_{name}.html\")\n",
    "for run_id, score in best_f_scores.items():\n",
    "    print(f\"{run_id}\t{round(score, 4)}\")"
   ],
   "metadata": {
    "collapsed": false,
    "ExecuteTime": {
     "end_time": "2024-07-06T20:07:57.742823600Z",
     "start_time": "2024-07-06T20:07:57.257823800Z"
    }
   },
   "id": "6cf589ef3d38da60",
   "execution_count": 73
  },
  {
   "cell_type": "markdown",
   "source": [
    "# Create ks stat datasets"
   ],
   "metadata": {
    "collapsed": false
   },
   "id": "519be095b1bb1292"
  },
  {
   "cell_type": "code",
   "outputs": [
    {
     "data": {
      "text/plain": "array([1.])"
     },
     "execution_count": 4,
     "metadata": {},
     "output_type": "execute_result"
    }
   ],
   "source": [
    "from sklearn.metrics import precision_recall_fscore_support\n",
    "import numpy as np\n",
    "\n",
    "true = np.array([0, 0])\n",
    "predictions = np.array([0,0])\n",
    "label = 1\n",
    "_, recall, _, _ = precision_recall_fscore_support(\n",
    "    true == label,\n",
    "    predictions == label,\n",
    "    pos_label=True,\n",
    "    average=None,\n",
    ")\n",
    "recall"
   ],
   "metadata": {
    "collapsed": false,
    "ExecuteTime": {
     "end_time": "2024-06-12T22:02:49.157401900Z",
     "start_time": "2024-06-12T22:02:48.202366700Z"
    }
   },
   "id": "261e8e29aedd68dc",
   "execution_count": 4
  },
  {
   "cell_type": "code",
   "outputs": [],
   "source": [
    "from meningioma_dl.data_loading.labels_loading import get_samples_df\n",
    "\n",
    "file_name = \"train_labels_4\"\n",
    "labels_file_path = Path(rf\"Z:\\data\\meningioma\\labels_deleted_bad_images\\{file_name}.tsv\")\n",
    "samples_df = get_samples_df(labels_file_path)\n",
    "class_mapping = {1: 1, 2: 2, 3: 2}\n",
    "samples_df[\"who_grading\"] = samples_df[\"who_grading\"].map(class_mapping)"
   ],
   "metadata": {
    "collapsed": false,
    "ExecuteTime": {
     "end_time": "2024-07-06T19:21:44.251834700Z",
     "start_time": "2024-07-06T19:21:44.013832600Z"
    }
   },
   "id": "abee974746485ae5",
   "execution_count": 67
  },
  {
   "cell_type": "code",
   "outputs": [],
   "source": [
    "from meningioma_dl.federated_learning.create_federated_data_splits import get_best_split_with_given_ks_stat\n",
    "\n",
    "desired_k_stat = 0.6\n",
    "n_partitions = 5\n",
    "partitions = get_best_split_with_given_ks_stat(samples_df[\"who_grading\"], desired_k_stat, n_partitions, manual_seed=666)"
   ],
   "metadata": {
    "collapsed": false,
    "ExecuteTime": {
     "end_time": "2024-07-06T19:35:40.631084300Z",
     "start_time": "2024-07-06T19:21:44.257835800Z"
    }
   },
   "id": "9e16881563aff258",
   "execution_count": 68
  },
  {
   "cell_type": "code",
   "outputs": [
    {
     "data": {
      "text/plain": "0.2666666666666667"
     },
     "execution_count": 69,
     "metadata": {},
     "output_type": "execute_result"
    }
   ],
   "source": [
    "from meningioma_dl.federated_learning.create_federated_data_splits import calculate_ks_stat_between_all_clients\n",
    "\n",
    "partitions_labels = {}\n",
    "for partition, partition_indices in partitions.items():\n",
    "    labels:pd.Series = samples_df.iloc[partition_indices][\"who_grading\"]\n",
    "    partitions_labels[partition] = labels\n",
    "calculate_ks_stat_between_all_clients(partitions_labels)"
   ],
   "metadata": {
    "collapsed": false,
    "ExecuteTime": {
     "end_time": "2024-07-06T19:35:40.689235200Z",
     "start_time": "2024-07-06T19:35:40.636101900Z"
    }
   },
   "id": "3d6935a90bd0fbb4",
   "execution_count": 69
  },
  {
   "cell_type": "code",
   "outputs": [
    {
     "data": {
      "application/vnd.plotly.v1+json": {
       "data": [
        {
         "alignmentgroup": "True",
         "hovertemplate": "class=1<br>partition=%{x}<br>who_grading=%{y}<extra></extra>",
         "legendgroup": "1",
         "marker": {
          "color": "#636efa",
          "pattern": {
           "shape": ""
          }
         },
         "name": "1",
         "offsetgroup": "1",
         "orientation": "v",
         "showlegend": true,
         "textposition": "auto",
         "x": [
          "Client 1",
          "Client 2",
          "Client 3",
          "Client 4",
          "Client 5"
         ],
         "xaxis": "x",
         "y": [
          2,
          8,
          12,
          8,
          16
         ],
         "yaxis": "y",
         "type": "bar"
        },
        {
         "alignmentgroup": "True",
         "hovertemplate": "class=2<br>partition=%{x}<br>who_grading=%{y}<extra></extra>",
         "legendgroup": "2",
         "marker": {
          "color": "#EF553B",
          "pattern": {
           "shape": ""
          }
         },
         "name": "2",
         "offsetgroup": "2",
         "orientation": "v",
         "showlegend": true,
         "textposition": "auto",
         "x": [
          "Client 1",
          "Client 2",
          "Client 3",
          "Client 4",
          "Client 5"
         ],
         "xaxis": "x",
         "y": [
          21,
          15,
          11,
          15,
          8
         ],
         "yaxis": "y",
         "type": "bar"
        }
       ],
       "layout": {
        "template": {
         "data": {
          "histogram2dcontour": [
           {
            "type": "histogram2dcontour",
            "colorbar": {
             "outlinewidth": 0,
             "ticks": ""
            },
            "colorscale": [
             [
              0.0,
              "#0d0887"
             ],
             [
              0.1111111111111111,
              "#46039f"
             ],
             [
              0.2222222222222222,
              "#7201a8"
             ],
             [
              0.3333333333333333,
              "#9c179e"
             ],
             [
              0.4444444444444444,
              "#bd3786"
             ],
             [
              0.5555555555555556,
              "#d8576b"
             ],
             [
              0.6666666666666666,
              "#ed7953"
             ],
             [
              0.7777777777777778,
              "#fb9f3a"
             ],
             [
              0.8888888888888888,
              "#fdca26"
             ],
             [
              1.0,
              "#f0f921"
             ]
            ]
           }
          ],
          "choropleth": [
           {
            "type": "choropleth",
            "colorbar": {
             "outlinewidth": 0,
             "ticks": ""
            }
           }
          ],
          "histogram2d": [
           {
            "type": "histogram2d",
            "colorbar": {
             "outlinewidth": 0,
             "ticks": ""
            },
            "colorscale": [
             [
              0.0,
              "#0d0887"
             ],
             [
              0.1111111111111111,
              "#46039f"
             ],
             [
              0.2222222222222222,
              "#7201a8"
             ],
             [
              0.3333333333333333,
              "#9c179e"
             ],
             [
              0.4444444444444444,
              "#bd3786"
             ],
             [
              0.5555555555555556,
              "#d8576b"
             ],
             [
              0.6666666666666666,
              "#ed7953"
             ],
             [
              0.7777777777777778,
              "#fb9f3a"
             ],
             [
              0.8888888888888888,
              "#fdca26"
             ],
             [
              1.0,
              "#f0f921"
             ]
            ]
           }
          ],
          "heatmap": [
           {
            "type": "heatmap",
            "colorbar": {
             "outlinewidth": 0,
             "ticks": ""
            },
            "colorscale": [
             [
              0.0,
              "#0d0887"
             ],
             [
              0.1111111111111111,
              "#46039f"
             ],
             [
              0.2222222222222222,
              "#7201a8"
             ],
             [
              0.3333333333333333,
              "#9c179e"
             ],
             [
              0.4444444444444444,
              "#bd3786"
             ],
             [
              0.5555555555555556,
              "#d8576b"
             ],
             [
              0.6666666666666666,
              "#ed7953"
             ],
             [
              0.7777777777777778,
              "#fb9f3a"
             ],
             [
              0.8888888888888888,
              "#fdca26"
             ],
             [
              1.0,
              "#f0f921"
             ]
            ]
           }
          ],
          "heatmapgl": [
           {
            "type": "heatmapgl",
            "colorbar": {
             "outlinewidth": 0,
             "ticks": ""
            },
            "colorscale": [
             [
              0.0,
              "#0d0887"
             ],
             [
              0.1111111111111111,
              "#46039f"
             ],
             [
              0.2222222222222222,
              "#7201a8"
             ],
             [
              0.3333333333333333,
              "#9c179e"
             ],
             [
              0.4444444444444444,
              "#bd3786"
             ],
             [
              0.5555555555555556,
              "#d8576b"
             ],
             [
              0.6666666666666666,
              "#ed7953"
             ],
             [
              0.7777777777777778,
              "#fb9f3a"
             ],
             [
              0.8888888888888888,
              "#fdca26"
             ],
             [
              1.0,
              "#f0f921"
             ]
            ]
           }
          ],
          "contourcarpet": [
           {
            "type": "contourcarpet",
            "colorbar": {
             "outlinewidth": 0,
             "ticks": ""
            }
           }
          ],
          "contour": [
           {
            "type": "contour",
            "colorbar": {
             "outlinewidth": 0,
             "ticks": ""
            },
            "colorscale": [
             [
              0.0,
              "#0d0887"
             ],
             [
              0.1111111111111111,
              "#46039f"
             ],
             [
              0.2222222222222222,
              "#7201a8"
             ],
             [
              0.3333333333333333,
              "#9c179e"
             ],
             [
              0.4444444444444444,
              "#bd3786"
             ],
             [
              0.5555555555555556,
              "#d8576b"
             ],
             [
              0.6666666666666666,
              "#ed7953"
             ],
             [
              0.7777777777777778,
              "#fb9f3a"
             ],
             [
              0.8888888888888888,
              "#fdca26"
             ],
             [
              1.0,
              "#f0f921"
             ]
            ]
           }
          ],
          "surface": [
           {
            "type": "surface",
            "colorbar": {
             "outlinewidth": 0,
             "ticks": ""
            },
            "colorscale": [
             [
              0.0,
              "#0d0887"
             ],
             [
              0.1111111111111111,
              "#46039f"
             ],
             [
              0.2222222222222222,
              "#7201a8"
             ],
             [
              0.3333333333333333,
              "#9c179e"
             ],
             [
              0.4444444444444444,
              "#bd3786"
             ],
             [
              0.5555555555555556,
              "#d8576b"
             ],
             [
              0.6666666666666666,
              "#ed7953"
             ],
             [
              0.7777777777777778,
              "#fb9f3a"
             ],
             [
              0.8888888888888888,
              "#fdca26"
             ],
             [
              1.0,
              "#f0f921"
             ]
            ]
           }
          ],
          "mesh3d": [
           {
            "type": "mesh3d",
            "colorbar": {
             "outlinewidth": 0,
             "ticks": ""
            }
           }
          ],
          "scatter": [
           {
            "marker": {
             "line": {
              "color": "#283442"
             }
            },
            "type": "scatter"
           }
          ],
          "parcoords": [
           {
            "type": "parcoords",
            "line": {
             "colorbar": {
              "outlinewidth": 0,
              "ticks": ""
             }
            }
           }
          ],
          "scatterpolargl": [
           {
            "type": "scatterpolargl",
            "marker": {
             "colorbar": {
              "outlinewidth": 0,
              "ticks": ""
             }
            }
           }
          ],
          "bar": [
           {
            "error_x": {
             "color": "#f2f5fa"
            },
            "error_y": {
             "color": "#f2f5fa"
            },
            "marker": {
             "line": {
              "color": "rgb(17,17,17)",
              "width": 0.5
             },
             "pattern": {
              "fillmode": "overlay",
              "size": 10,
              "solidity": 0.2
             }
            },
            "type": "bar"
           }
          ],
          "scattergeo": [
           {
            "type": "scattergeo",
            "marker": {
             "colorbar": {
              "outlinewidth": 0,
              "ticks": ""
             }
            }
           }
          ],
          "scatterpolar": [
           {
            "type": "scatterpolar",
            "marker": {
             "colorbar": {
              "outlinewidth": 0,
              "ticks": ""
             }
            }
           }
          ],
          "histogram": [
           {
            "marker": {
             "pattern": {
              "fillmode": "overlay",
              "size": 10,
              "solidity": 0.2
             }
            },
            "type": "histogram"
           }
          ],
          "scattergl": [
           {
            "marker": {
             "line": {
              "color": "#283442"
             }
            },
            "type": "scattergl"
           }
          ],
          "scatter3d": [
           {
            "type": "scatter3d",
            "line": {
             "colorbar": {
              "outlinewidth": 0,
              "ticks": ""
             }
            },
            "marker": {
             "colorbar": {
              "outlinewidth": 0,
              "ticks": ""
             }
            }
           }
          ],
          "scattermapbox": [
           {
            "type": "scattermapbox",
            "marker": {
             "colorbar": {
              "outlinewidth": 0,
              "ticks": ""
             }
            }
           }
          ],
          "scatterternary": [
           {
            "type": "scatterternary",
            "marker": {
             "colorbar": {
              "outlinewidth": 0,
              "ticks": ""
             }
            }
           }
          ],
          "scattercarpet": [
           {
            "type": "scattercarpet",
            "marker": {
             "colorbar": {
              "outlinewidth": 0,
              "ticks": ""
             }
            }
           }
          ],
          "carpet": [
           {
            "aaxis": {
             "endlinecolor": "#A2B1C6",
             "gridcolor": "#506784",
             "linecolor": "#506784",
             "minorgridcolor": "#506784",
             "startlinecolor": "#A2B1C6"
            },
            "baxis": {
             "endlinecolor": "#A2B1C6",
             "gridcolor": "#506784",
             "linecolor": "#506784",
             "minorgridcolor": "#506784",
             "startlinecolor": "#A2B1C6"
            },
            "type": "carpet"
           }
          ],
          "table": [
           {
            "cells": {
             "fill": {
              "color": "#506784"
             },
             "line": {
              "color": "rgb(17,17,17)"
             }
            },
            "header": {
             "fill": {
              "color": "#2a3f5f"
             },
             "line": {
              "color": "rgb(17,17,17)"
             }
            },
            "type": "table"
           }
          ],
          "barpolar": [
           {
            "marker": {
             "line": {
              "color": "rgb(17,17,17)",
              "width": 0.5
             },
             "pattern": {
              "fillmode": "overlay",
              "size": 10,
              "solidity": 0.2
             }
            },
            "type": "barpolar"
           }
          ],
          "pie": [
           {
            "automargin": true,
            "type": "pie"
           }
          ]
         },
         "layout": {
          "autotypenumbers": "strict",
          "colorway": [
           "#636efa",
           "#EF553B",
           "#00cc96",
           "#ab63fa",
           "#FFA15A",
           "#19d3f3",
           "#FF6692",
           "#B6E880",
           "#FF97FF",
           "#FECB52"
          ],
          "font": {
           "color": "#f2f5fa"
          },
          "hovermode": "closest",
          "hoverlabel": {
           "align": "left"
          },
          "paper_bgcolor": "rgb(17,17,17)",
          "plot_bgcolor": "rgb(17,17,17)",
          "polar": {
           "bgcolor": "rgb(17,17,17)",
           "angularaxis": {
            "gridcolor": "#506784",
            "linecolor": "#506784",
            "ticks": ""
           },
           "radialaxis": {
            "gridcolor": "#506784",
            "linecolor": "#506784",
            "ticks": ""
           }
          },
          "ternary": {
           "bgcolor": "rgb(17,17,17)",
           "aaxis": {
            "gridcolor": "#506784",
            "linecolor": "#506784",
            "ticks": ""
           },
           "baxis": {
            "gridcolor": "#506784",
            "linecolor": "#506784",
            "ticks": ""
           },
           "caxis": {
            "gridcolor": "#506784",
            "linecolor": "#506784",
            "ticks": ""
           }
          },
          "coloraxis": {
           "colorbar": {
            "outlinewidth": 0,
            "ticks": ""
           }
          },
          "colorscale": {
           "sequential": [
            [
             0.0,
             "#0d0887"
            ],
            [
             0.1111111111111111,
             "#46039f"
            ],
            [
             0.2222222222222222,
             "#7201a8"
            ],
            [
             0.3333333333333333,
             "#9c179e"
            ],
            [
             0.4444444444444444,
             "#bd3786"
            ],
            [
             0.5555555555555556,
             "#d8576b"
            ],
            [
             0.6666666666666666,
             "#ed7953"
            ],
            [
             0.7777777777777778,
             "#fb9f3a"
            ],
            [
             0.8888888888888888,
             "#fdca26"
            ],
            [
             1.0,
             "#f0f921"
            ]
           ],
           "sequentialminus": [
            [
             0.0,
             "#0d0887"
            ],
            [
             0.1111111111111111,
             "#46039f"
            ],
            [
             0.2222222222222222,
             "#7201a8"
            ],
            [
             0.3333333333333333,
             "#9c179e"
            ],
            [
             0.4444444444444444,
             "#bd3786"
            ],
            [
             0.5555555555555556,
             "#d8576b"
            ],
            [
             0.6666666666666666,
             "#ed7953"
            ],
            [
             0.7777777777777778,
             "#fb9f3a"
            ],
            [
             0.8888888888888888,
             "#fdca26"
            ],
            [
             1.0,
             "#f0f921"
            ]
           ],
           "diverging": [
            [
             0,
             "#8e0152"
            ],
            [
             0.1,
             "#c51b7d"
            ],
            [
             0.2,
             "#de77ae"
            ],
            [
             0.3,
             "#f1b6da"
            ],
            [
             0.4,
             "#fde0ef"
            ],
            [
             0.5,
             "#f7f7f7"
            ],
            [
             0.6,
             "#e6f5d0"
            ],
            [
             0.7,
             "#b8e186"
            ],
            [
             0.8,
             "#7fbc41"
            ],
            [
             0.9,
             "#4d9221"
            ],
            [
             1,
             "#276419"
            ]
           ]
          },
          "xaxis": {
           "gridcolor": "#283442",
           "linecolor": "#506784",
           "ticks": "",
           "title": {
            "standoff": 15
           },
           "zerolinecolor": "#283442",
           "automargin": true,
           "zerolinewidth": 2
          },
          "yaxis": {
           "gridcolor": "#283442",
           "linecolor": "#506784",
           "ticks": "",
           "title": {
            "standoff": 15
           },
           "zerolinecolor": "#283442",
           "automargin": true,
           "zerolinewidth": 2
          },
          "scene": {
           "xaxis": {
            "backgroundcolor": "rgb(17,17,17)",
            "gridcolor": "#506784",
            "linecolor": "#506784",
            "showbackground": true,
            "ticks": "",
            "zerolinecolor": "#C8D4E3",
            "gridwidth": 2
           },
           "yaxis": {
            "backgroundcolor": "rgb(17,17,17)",
            "gridcolor": "#506784",
            "linecolor": "#506784",
            "showbackground": true,
            "ticks": "",
            "zerolinecolor": "#C8D4E3",
            "gridwidth": 2
           },
           "zaxis": {
            "backgroundcolor": "rgb(17,17,17)",
            "gridcolor": "#506784",
            "linecolor": "#506784",
            "showbackground": true,
            "ticks": "",
            "zerolinecolor": "#C8D4E3",
            "gridwidth": 2
           }
          },
          "shapedefaults": {
           "line": {
            "color": "#f2f5fa"
           }
          },
          "annotationdefaults": {
           "arrowcolor": "#f2f5fa",
           "arrowhead": 0,
           "arrowwidth": 1
          },
          "geo": {
           "bgcolor": "rgb(17,17,17)",
           "landcolor": "rgb(17,17,17)",
           "subunitcolor": "#506784",
           "showland": true,
           "showlakes": true,
           "lakecolor": "rgb(17,17,17)"
          },
          "title": {
           "x": 0.05
          },
          "updatemenudefaults": {
           "bgcolor": "#506784",
           "borderwidth": 0
          },
          "sliderdefaults": {
           "bgcolor": "#C8D4E3",
           "borderwidth": 1,
           "bordercolor": "rgb(17,17,17)",
           "tickwidth": 0
          },
          "mapbox": {
           "style": "dark"
          }
         }
        },
        "xaxis": {
         "anchor": "y",
         "domain": [
          0.0,
          1.0
         ],
         "title": {
          "text": "partition"
         }
        },
        "yaxis": {
         "anchor": "x",
         "domain": [
          0.0,
          1.0
         ],
         "title": {
          "text": "who_grading"
         }
        },
        "legend": {
         "title": {
          "text": "class"
         },
         "tracegroupgap": 0
        },
        "margin": {
         "t": 60
        },
        "barmode": "group"
       },
       "config": {
        "plotlyServerURL": "https://plot.ly"
       }
      },
      "text/html": "<div>                            <div id=\"7e5381f7-d6b5-4e4d-891c-02e2943243f7\" class=\"plotly-graph-div\" style=\"height:525px; width:100%;\"></div>            <script type=\"text/javascript\">                require([\"plotly\"], function(Plotly) {                    window.PLOTLYENV=window.PLOTLYENV || {};                                    if (document.getElementById(\"7e5381f7-d6b5-4e4d-891c-02e2943243f7\")) {                    Plotly.newPlot(                        \"7e5381f7-d6b5-4e4d-891c-02e2943243f7\",                        [{\"alignmentgroup\":\"True\",\"hovertemplate\":\"class=1\\u003cbr\\u003epartition=%{x}\\u003cbr\\u003ewho_grading=%{y}\\u003cextra\\u003e\\u003c\\u002fextra\\u003e\",\"legendgroup\":\"1\",\"marker\":{\"color\":\"#636efa\",\"pattern\":{\"shape\":\"\"}},\"name\":\"1\",\"offsetgroup\":\"1\",\"orientation\":\"v\",\"showlegend\":true,\"textposition\":\"auto\",\"x\":[\"Client 1\",\"Client 2\",\"Client 3\",\"Client 4\",\"Client 5\"],\"xaxis\":\"x\",\"y\":[2,8,12,8,16],\"yaxis\":\"y\",\"type\":\"bar\"},{\"alignmentgroup\":\"True\",\"hovertemplate\":\"class=2\\u003cbr\\u003epartition=%{x}\\u003cbr\\u003ewho_grading=%{y}\\u003cextra\\u003e\\u003c\\u002fextra\\u003e\",\"legendgroup\":\"2\",\"marker\":{\"color\":\"#EF553B\",\"pattern\":{\"shape\":\"\"}},\"name\":\"2\",\"offsetgroup\":\"2\",\"orientation\":\"v\",\"showlegend\":true,\"textposition\":\"auto\",\"x\":[\"Client 1\",\"Client 2\",\"Client 3\",\"Client 4\",\"Client 5\"],\"xaxis\":\"x\",\"y\":[21,15,11,15,8],\"yaxis\":\"y\",\"type\":\"bar\"}],                        {\"template\":{\"data\":{\"histogram2dcontour\":[{\"type\":\"histogram2dcontour\",\"colorbar\":{\"outlinewidth\":0,\"ticks\":\"\"},\"colorscale\":[[0.0,\"#0d0887\"],[0.1111111111111111,\"#46039f\"],[0.2222222222222222,\"#7201a8\"],[0.3333333333333333,\"#9c179e\"],[0.4444444444444444,\"#bd3786\"],[0.5555555555555556,\"#d8576b\"],[0.6666666666666666,\"#ed7953\"],[0.7777777777777778,\"#fb9f3a\"],[0.8888888888888888,\"#fdca26\"],[1.0,\"#f0f921\"]]}],\"choropleth\":[{\"type\":\"choropleth\",\"colorbar\":{\"outlinewidth\":0,\"ticks\":\"\"}}],\"histogram2d\":[{\"type\":\"histogram2d\",\"colorbar\":{\"outlinewidth\":0,\"ticks\":\"\"},\"colorscale\":[[0.0,\"#0d0887\"],[0.1111111111111111,\"#46039f\"],[0.2222222222222222,\"#7201a8\"],[0.3333333333333333,\"#9c179e\"],[0.4444444444444444,\"#bd3786\"],[0.5555555555555556,\"#d8576b\"],[0.6666666666666666,\"#ed7953\"],[0.7777777777777778,\"#fb9f3a\"],[0.8888888888888888,\"#fdca26\"],[1.0,\"#f0f921\"]]}],\"heatmap\":[{\"type\":\"heatmap\",\"colorbar\":{\"outlinewidth\":0,\"ticks\":\"\"},\"colorscale\":[[0.0,\"#0d0887\"],[0.1111111111111111,\"#46039f\"],[0.2222222222222222,\"#7201a8\"],[0.3333333333333333,\"#9c179e\"],[0.4444444444444444,\"#bd3786\"],[0.5555555555555556,\"#d8576b\"],[0.6666666666666666,\"#ed7953\"],[0.7777777777777778,\"#fb9f3a\"],[0.8888888888888888,\"#fdca26\"],[1.0,\"#f0f921\"]]}],\"heatmapgl\":[{\"type\":\"heatmapgl\",\"colorbar\":{\"outlinewidth\":0,\"ticks\":\"\"},\"colorscale\":[[0.0,\"#0d0887\"],[0.1111111111111111,\"#46039f\"],[0.2222222222222222,\"#7201a8\"],[0.3333333333333333,\"#9c179e\"],[0.4444444444444444,\"#bd3786\"],[0.5555555555555556,\"#d8576b\"],[0.6666666666666666,\"#ed7953\"],[0.7777777777777778,\"#fb9f3a\"],[0.8888888888888888,\"#fdca26\"],[1.0,\"#f0f921\"]]}],\"contourcarpet\":[{\"type\":\"contourcarpet\",\"colorbar\":{\"outlinewidth\":0,\"ticks\":\"\"}}],\"contour\":[{\"type\":\"contour\",\"colorbar\":{\"outlinewidth\":0,\"ticks\":\"\"},\"colorscale\":[[0.0,\"#0d0887\"],[0.1111111111111111,\"#46039f\"],[0.2222222222222222,\"#7201a8\"],[0.3333333333333333,\"#9c179e\"],[0.4444444444444444,\"#bd3786\"],[0.5555555555555556,\"#d8576b\"],[0.6666666666666666,\"#ed7953\"],[0.7777777777777778,\"#fb9f3a\"],[0.8888888888888888,\"#fdca26\"],[1.0,\"#f0f921\"]]}],\"surface\":[{\"type\":\"surface\",\"colorbar\":{\"outlinewidth\":0,\"ticks\":\"\"},\"colorscale\":[[0.0,\"#0d0887\"],[0.1111111111111111,\"#46039f\"],[0.2222222222222222,\"#7201a8\"],[0.3333333333333333,\"#9c179e\"],[0.4444444444444444,\"#bd3786\"],[0.5555555555555556,\"#d8576b\"],[0.6666666666666666,\"#ed7953\"],[0.7777777777777778,\"#fb9f3a\"],[0.8888888888888888,\"#fdca26\"],[1.0,\"#f0f921\"]]}],\"mesh3d\":[{\"type\":\"mesh3d\",\"colorbar\":{\"outlinewidth\":0,\"ticks\":\"\"}}],\"scatter\":[{\"marker\":{\"line\":{\"color\":\"#283442\"}},\"type\":\"scatter\"}],\"parcoords\":[{\"type\":\"parcoords\",\"line\":{\"colorbar\":{\"outlinewidth\":0,\"ticks\":\"\"}}}],\"scatterpolargl\":[{\"type\":\"scatterpolargl\",\"marker\":{\"colorbar\":{\"outlinewidth\":0,\"ticks\":\"\"}}}],\"bar\":[{\"error_x\":{\"color\":\"#f2f5fa\"},\"error_y\":{\"color\":\"#f2f5fa\"},\"marker\":{\"line\":{\"color\":\"rgb(17,17,17)\",\"width\":0.5},\"pattern\":{\"fillmode\":\"overlay\",\"size\":10,\"solidity\":0.2}},\"type\":\"bar\"}],\"scattergeo\":[{\"type\":\"scattergeo\",\"marker\":{\"colorbar\":{\"outlinewidth\":0,\"ticks\":\"\"}}}],\"scatterpolar\":[{\"type\":\"scatterpolar\",\"marker\":{\"colorbar\":{\"outlinewidth\":0,\"ticks\":\"\"}}}],\"histogram\":[{\"marker\":{\"pattern\":{\"fillmode\":\"overlay\",\"size\":10,\"solidity\":0.2}},\"type\":\"histogram\"}],\"scattergl\":[{\"marker\":{\"line\":{\"color\":\"#283442\"}},\"type\":\"scattergl\"}],\"scatter3d\":[{\"type\":\"scatter3d\",\"line\":{\"colorbar\":{\"outlinewidth\":0,\"ticks\":\"\"}},\"marker\":{\"colorbar\":{\"outlinewidth\":0,\"ticks\":\"\"}}}],\"scattermapbox\":[{\"type\":\"scattermapbox\",\"marker\":{\"colorbar\":{\"outlinewidth\":0,\"ticks\":\"\"}}}],\"scatterternary\":[{\"type\":\"scatterternary\",\"marker\":{\"colorbar\":{\"outlinewidth\":0,\"ticks\":\"\"}}}],\"scattercarpet\":[{\"type\":\"scattercarpet\",\"marker\":{\"colorbar\":{\"outlinewidth\":0,\"ticks\":\"\"}}}],\"carpet\":[{\"aaxis\":{\"endlinecolor\":\"#A2B1C6\",\"gridcolor\":\"#506784\",\"linecolor\":\"#506784\",\"minorgridcolor\":\"#506784\",\"startlinecolor\":\"#A2B1C6\"},\"baxis\":{\"endlinecolor\":\"#A2B1C6\",\"gridcolor\":\"#506784\",\"linecolor\":\"#506784\",\"minorgridcolor\":\"#506784\",\"startlinecolor\":\"#A2B1C6\"},\"type\":\"carpet\"}],\"table\":[{\"cells\":{\"fill\":{\"color\":\"#506784\"},\"line\":{\"color\":\"rgb(17,17,17)\"}},\"header\":{\"fill\":{\"color\":\"#2a3f5f\"},\"line\":{\"color\":\"rgb(17,17,17)\"}},\"type\":\"table\"}],\"barpolar\":[{\"marker\":{\"line\":{\"color\":\"rgb(17,17,17)\",\"width\":0.5},\"pattern\":{\"fillmode\":\"overlay\",\"size\":10,\"solidity\":0.2}},\"type\":\"barpolar\"}],\"pie\":[{\"automargin\":true,\"type\":\"pie\"}]},\"layout\":{\"autotypenumbers\":\"strict\",\"colorway\":[\"#636efa\",\"#EF553B\",\"#00cc96\",\"#ab63fa\",\"#FFA15A\",\"#19d3f3\",\"#FF6692\",\"#B6E880\",\"#FF97FF\",\"#FECB52\"],\"font\":{\"color\":\"#f2f5fa\"},\"hovermode\":\"closest\",\"hoverlabel\":{\"align\":\"left\"},\"paper_bgcolor\":\"rgb(17,17,17)\",\"plot_bgcolor\":\"rgb(17,17,17)\",\"polar\":{\"bgcolor\":\"rgb(17,17,17)\",\"angularaxis\":{\"gridcolor\":\"#506784\",\"linecolor\":\"#506784\",\"ticks\":\"\"},\"radialaxis\":{\"gridcolor\":\"#506784\",\"linecolor\":\"#506784\",\"ticks\":\"\"}},\"ternary\":{\"bgcolor\":\"rgb(17,17,17)\",\"aaxis\":{\"gridcolor\":\"#506784\",\"linecolor\":\"#506784\",\"ticks\":\"\"},\"baxis\":{\"gridcolor\":\"#506784\",\"linecolor\":\"#506784\",\"ticks\":\"\"},\"caxis\":{\"gridcolor\":\"#506784\",\"linecolor\":\"#506784\",\"ticks\":\"\"}},\"coloraxis\":{\"colorbar\":{\"outlinewidth\":0,\"ticks\":\"\"}},\"colorscale\":{\"sequential\":[[0.0,\"#0d0887\"],[0.1111111111111111,\"#46039f\"],[0.2222222222222222,\"#7201a8\"],[0.3333333333333333,\"#9c179e\"],[0.4444444444444444,\"#bd3786\"],[0.5555555555555556,\"#d8576b\"],[0.6666666666666666,\"#ed7953\"],[0.7777777777777778,\"#fb9f3a\"],[0.8888888888888888,\"#fdca26\"],[1.0,\"#f0f921\"]],\"sequentialminus\":[[0.0,\"#0d0887\"],[0.1111111111111111,\"#46039f\"],[0.2222222222222222,\"#7201a8\"],[0.3333333333333333,\"#9c179e\"],[0.4444444444444444,\"#bd3786\"],[0.5555555555555556,\"#d8576b\"],[0.6666666666666666,\"#ed7953\"],[0.7777777777777778,\"#fb9f3a\"],[0.8888888888888888,\"#fdca26\"],[1.0,\"#f0f921\"]],\"diverging\":[[0,\"#8e0152\"],[0.1,\"#c51b7d\"],[0.2,\"#de77ae\"],[0.3,\"#f1b6da\"],[0.4,\"#fde0ef\"],[0.5,\"#f7f7f7\"],[0.6,\"#e6f5d0\"],[0.7,\"#b8e186\"],[0.8,\"#7fbc41\"],[0.9,\"#4d9221\"],[1,\"#276419\"]]},\"xaxis\":{\"gridcolor\":\"#283442\",\"linecolor\":\"#506784\",\"ticks\":\"\",\"title\":{\"standoff\":15},\"zerolinecolor\":\"#283442\",\"automargin\":true,\"zerolinewidth\":2},\"yaxis\":{\"gridcolor\":\"#283442\",\"linecolor\":\"#506784\",\"ticks\":\"\",\"title\":{\"standoff\":15},\"zerolinecolor\":\"#283442\",\"automargin\":true,\"zerolinewidth\":2},\"scene\":{\"xaxis\":{\"backgroundcolor\":\"rgb(17,17,17)\",\"gridcolor\":\"#506784\",\"linecolor\":\"#506784\",\"showbackground\":true,\"ticks\":\"\",\"zerolinecolor\":\"#C8D4E3\",\"gridwidth\":2},\"yaxis\":{\"backgroundcolor\":\"rgb(17,17,17)\",\"gridcolor\":\"#506784\",\"linecolor\":\"#506784\",\"showbackground\":true,\"ticks\":\"\",\"zerolinecolor\":\"#C8D4E3\",\"gridwidth\":2},\"zaxis\":{\"backgroundcolor\":\"rgb(17,17,17)\",\"gridcolor\":\"#506784\",\"linecolor\":\"#506784\",\"showbackground\":true,\"ticks\":\"\",\"zerolinecolor\":\"#C8D4E3\",\"gridwidth\":2}},\"shapedefaults\":{\"line\":{\"color\":\"#f2f5fa\"}},\"annotationdefaults\":{\"arrowcolor\":\"#f2f5fa\",\"arrowhead\":0,\"arrowwidth\":1},\"geo\":{\"bgcolor\":\"rgb(17,17,17)\",\"landcolor\":\"rgb(17,17,17)\",\"subunitcolor\":\"#506784\",\"showland\":true,\"showlakes\":true,\"lakecolor\":\"rgb(17,17,17)\"},\"title\":{\"x\":0.05},\"updatemenudefaults\":{\"bgcolor\":\"#506784\",\"borderwidth\":0},\"sliderdefaults\":{\"bgcolor\":\"#C8D4E3\",\"borderwidth\":1,\"bordercolor\":\"rgb(17,17,17)\",\"tickwidth\":0},\"mapbox\":{\"style\":\"dark\"}}},\"xaxis\":{\"anchor\":\"y\",\"domain\":[0.0,1.0],\"title\":{\"text\":\"partition\"}},\"yaxis\":{\"anchor\":\"x\",\"domain\":[0.0,1.0],\"title\":{\"text\":\"who_grading\"}},\"legend\":{\"title\":{\"text\":\"class\"},\"tracegroupgap\":0},\"margin\":{\"t\":60},\"barmode\":\"group\"},                        {\"responsive\": true}                    ).then(function(){\n                            \nvar gd = document.getElementById('7e5381f7-d6b5-4e4d-891c-02e2943243f7');\nvar x = new MutationObserver(function (mutations, observer) {{\n        var display = window.getComputedStyle(gd).display;\n        if (!display || display === 'none') {{\n            console.log([gd, 'removed!']);\n            Plotly.purge(gd);\n            observer.disconnect();\n        }}\n}});\n\n// Listen for the removal of the full notebook cells\nvar notebookContainer = gd.closest('#notebook-container');\nif (notebookContainer) {{\n    x.observe(notebookContainer, {childList: true});\n}}\n\n// Listen for the clearing of the current output cell\nvar outputEl = gd.closest('.output');\nif (outputEl) {{\n    x.observe(outputEl, {childList: true});\n}}\n\n                        })                };                });            </script>        </div>"
     },
     "metadata": {},
     "output_type": "display_data"
    }
   ],
   "source": [
    "import plotly.graph_objects as go\n",
    "import numpy as np\n",
    "import pandas as pd\n",
    "import plotly.express as px\n",
    "# a = 2\n",
    "# b = 4\n",
    "# swap = partitions[a]\n",
    "# partitions[a] = partitions[b]\n",
    "# partitions[b] = swap\n",
    "\n",
    "df: pd.DataFrame = pd.DataFrame()\n",
    "for partition, partition_indices in partitions.items():\n",
    "    labels:pd.Series = samples_df.iloc[partition_indices][\"who_grading\"]\n",
    "    counts = labels.value_counts().reset_index().sort_values(\"index\")\n",
    "    counts[\"partition\"] = f\"Client {partition+1}\"\n",
    "    df = pd.concat([df, counts])\n",
    "df = df.rename(columns={\"index\": \"class\"})\n",
    "df = df.astype({\"class\": str, \"partition\": str, \"who_grading\":int})\n",
    "fig = px.bar(df, x=\"partition\", y=\"who_grading\",\n",
    "             color='class', barmode='group')\n",
    "\n",
    "# Display the figure\n",
    "fig.show()"
   ],
   "metadata": {
    "collapsed": false,
    "ExecuteTime": {
     "end_time": "2024-07-06T19:35:40.804249500Z",
     "start_time": "2024-07-06T19:35:40.669242Z"
    }
   },
   "id": "516995d34ae6286a",
   "execution_count": 70
  },
  {
   "cell_type": "code",
   "outputs": [
    {
     "name": "stderr",
     "output_type": "stream",
     "text": [
      "C:\\Users\\Lenovo\\Desktop\\meningioma_project\\meningioma_dl\\venv37\\lib\\site-packages\\ipykernel_launcher.py:7: SettingWithCopyWarning:\n",
      "\n",
      "\n",
      "A value is trying to be set on a copy of a slice from a DataFrame.\n",
      "Try using .loc[row_indexer,col_indexer] = value instead\n",
      "\n",
      "See the caveats in the documentation: https://pandas.pydata.org/pandas-docs/stable/user_guide/indexing.html#returning-a-view-versus-a-copy\n",
      "\n"
     ]
    }
   ],
   "source": [
    "base_labels_path = labels_file_path.parent\n",
    "name = f\"ks_stat_04_{n_partitions}c\"\n",
    "labels_file_name = f\"{file_name}_{name}\"\n",
    "labels_df = pd.DataFrame()\n",
    "for partition, partition_indices in partitions.items():\n",
    "    labels_partition:pd.Series = samples_df.iloc[partition_indices]\n",
    "    labels_partition[\"partition\"] = partition\n",
    "    labels_df = pd.concat([labels_df, labels_partition])\n",
    "labels_df = labels_df.sort_index()\n",
    "labels_df.to_csv(base_labels_path.joinpath(f\"{labels_file_name}.tsv\"), sep=\"\\t\", index=False)\n",
    "fig.write_html(f\"{labels_file_name}.html\")"
   ],
   "metadata": {
    "collapsed": false,
    "ExecuteTime": {
     "end_time": "2024-07-06T19:36:19.066611500Z",
     "start_time": "2024-07-06T19:36:18.621607200Z"
    }
   },
   "id": "18355d46d9f1d8a5",
   "execution_count": 71
  },
  {
   "cell_type": "code",
   "outputs": [
    {
     "data": {
      "text/plain": "                                   file_path  \\\n0    M1-sub-007/anat/M1_07_01_t1km_image.nii   \n1    M1-sub-014/anat/M1_14_01_t1km_image.nii   \n2    M1-sub-026/anat/M1_26_01_t1km_image.nii   \n3    M1-sub-029/anat/M1_29_01_t1km_image.nii   \n4    M1-sub-031/anat/M1_31_01_t1km_image.nii   \n5    M1-sub-040/anat/M1_40_01_t1km_image.nii   \n6    M1-sub-048/anat/M1_48_01_t1km_image.nii   \n7    M1-sub-049/anat/M1_49_01_t1km_image.nii   \n8    M1-sub-052/anat/M1_52_01_t1km_image.nii   \n9    M1-sub-066/anat/M1_66_01_t1km_image.nii   \n10   M1-sub-070/anat/M1_70_01_t1km_image.nii   \n11  M2-sub-006/anat/M2_006_01_T1km_image.nii   \n12  M2-sub-035/anat/M2_035_01_T1km_image.nii   \n13  M2-sub-037/anat/M2_037_01_T1km_image.nii   \n14  M2-sub-044/anat/M2_044_01_T1km_image.nii   \n15  M2-sub-047/anat/M2_047_01_T1km_image.nii   \n16  M2-sub-050/anat/M2_050_01_T1km_image.nii   \n17  M2-sub-060/anat/M2_060_01_T1km_image.nii   \n18  M2-sub-065/anat/M2_065_01_T1km_image.nii   \n19  M2-sub-072/anat/M2_072_01_T1km_image.nii   \n20  M2-sub-094/anat/M2_094_01_T1km_image.nii   \n21  M2-sub-095/anat/M2_095_01_T1km_image.nii   \n22  M2-sub-105/anat/M2_105_01_T1km_image.nii   \n23  M2-sub-111/anat/M2_111_01_T1km_image.nii   \n24   M3-sub-011/anat/M3_11_01_t1km_image.nii   \n25   M3-sub-013/anat/M3_13_01_t1km_image.nii   \n26   M3-sub-016/anat/M3_16_01_t1km_image.nii   \n27   M3-sub-019/anat/M3_19_01_t1km_image.nii   \n28   M3-sub-030/anat/M3_30_01_t1km_image.nii   \n\n                                  label_path  who_grading  partition  \n0    M1-sub-007/anat/M1_07_01_t1km_label.nii            1          2  \n1    M1-sub-014/anat/M1_14_01_t1km_label.nii            1          0  \n2    M1-sub-026/anat/M1_26_01_t1km_label.nii            1          3  \n3    M1-sub-029/anat/M1_29_01_t1km_label.nii            1          2  \n4    M1-sub-031/anat/M1_31_01_t1km_label.nii            1          4  \n5    M1-sub-040/anat/M1_40_01_t1km_label.nii            1          3  \n6    M1-sub-048/anat/M1_48_01_t1km_label.nii            1          0  \n7    M1-sub-049/anat/M1_49_01_t1km_label.nii            1          2  \n8    M1-sub-052/anat/M1_52_01_t1km_label.nii            1          2  \n9    M1-sub-066/anat/M1_66_01_t1km_label.nii            1          0  \n10   M1-sub-070/anat/M1_70_01_t1km_label.nii            1          2  \n11  M2-sub-006/anat/M2_006_01_T1km_label.nii            2          3  \n12  M2-sub-035/anat/M2_035_01_T1km_label.nii            2          4  \n13  M2-sub-037/anat/M2_037_01_T1km_label.nii            2          1  \n14  M2-sub-044/anat/M2_044_01_T1km_label.nii            2          1  \n15  M2-sub-047/anat/M2_047_01_T1km_label.nii            2          4  \n16  M2-sub-050/anat/M2_050_01_T1km_label.nii            2          2  \n17  M2-sub-060/anat/M2_060_01_T1km_label.nii            2          3  \n18  M2-sub-065/anat/M2_065_01_T1km_label.nii            2          1  \n19  M2-sub-072/anat/M2_072_01_T1km_label.nii            2          4  \n20  M2-sub-094/anat/M2_094_01_T1km_label.nii            2          1  \n21  M2-sub-095/anat/M2_095_01_T1km_label.nii            2          4  \n22  M2-sub-105/anat/M2_105_01_T1km_label.nii            2          0  \n23  M2-sub-111/anat/M2_111_01_T1km_label.nii            2          1  \n24   M3-sub-011/anat/M3_11_01_t1km_label.nii            2          0  \n25   M3-sub-013/anat/M3_13_01_t1km_label.nii            2          0  \n26   M3-sub-016/anat/M3_16_01_t1km_label.nii            2          3  \n27   M3-sub-019/anat/M3_19_01_t1km_label.nii            2          3  \n28   M3-sub-030/anat/M3_30_01_t1km_label.nii            2          4  ",
      "text/html": "<div>\n<style scoped>\n    .dataframe tbody tr th:only-of-type {\n        vertical-align: middle;\n    }\n\n    .dataframe tbody tr th {\n        vertical-align: top;\n    }\n\n    .dataframe thead th {\n        text-align: right;\n    }\n</style>\n<table border=\"1\" class=\"dataframe\">\n  <thead>\n    <tr style=\"text-align: right;\">\n      <th></th>\n      <th>file_path</th>\n      <th>label_path</th>\n      <th>who_grading</th>\n      <th>partition</th>\n    </tr>\n  </thead>\n  <tbody>\n    <tr>\n      <th>0</th>\n      <td>M1-sub-007/anat/M1_07_01_t1km_image.nii</td>\n      <td>M1-sub-007/anat/M1_07_01_t1km_label.nii</td>\n      <td>1</td>\n      <td>2</td>\n    </tr>\n    <tr>\n      <th>1</th>\n      <td>M1-sub-014/anat/M1_14_01_t1km_image.nii</td>\n      <td>M1-sub-014/anat/M1_14_01_t1km_label.nii</td>\n      <td>1</td>\n      <td>0</td>\n    </tr>\n    <tr>\n      <th>2</th>\n      <td>M1-sub-026/anat/M1_26_01_t1km_image.nii</td>\n      <td>M1-sub-026/anat/M1_26_01_t1km_label.nii</td>\n      <td>1</td>\n      <td>3</td>\n    </tr>\n    <tr>\n      <th>3</th>\n      <td>M1-sub-029/anat/M1_29_01_t1km_image.nii</td>\n      <td>M1-sub-029/anat/M1_29_01_t1km_label.nii</td>\n      <td>1</td>\n      <td>2</td>\n    </tr>\n    <tr>\n      <th>4</th>\n      <td>M1-sub-031/anat/M1_31_01_t1km_image.nii</td>\n      <td>M1-sub-031/anat/M1_31_01_t1km_label.nii</td>\n      <td>1</td>\n      <td>4</td>\n    </tr>\n    <tr>\n      <th>5</th>\n      <td>M1-sub-040/anat/M1_40_01_t1km_image.nii</td>\n      <td>M1-sub-040/anat/M1_40_01_t1km_label.nii</td>\n      <td>1</td>\n      <td>3</td>\n    </tr>\n    <tr>\n      <th>6</th>\n      <td>M1-sub-048/anat/M1_48_01_t1km_image.nii</td>\n      <td>M1-sub-048/anat/M1_48_01_t1km_label.nii</td>\n      <td>1</td>\n      <td>0</td>\n    </tr>\n    <tr>\n      <th>7</th>\n      <td>M1-sub-049/anat/M1_49_01_t1km_image.nii</td>\n      <td>M1-sub-049/anat/M1_49_01_t1km_label.nii</td>\n      <td>1</td>\n      <td>2</td>\n    </tr>\n    <tr>\n      <th>8</th>\n      <td>M1-sub-052/anat/M1_52_01_t1km_image.nii</td>\n      <td>M1-sub-052/anat/M1_52_01_t1km_label.nii</td>\n      <td>1</td>\n      <td>2</td>\n    </tr>\n    <tr>\n      <th>9</th>\n      <td>M1-sub-066/anat/M1_66_01_t1km_image.nii</td>\n      <td>M1-sub-066/anat/M1_66_01_t1km_label.nii</td>\n      <td>1</td>\n      <td>0</td>\n    </tr>\n    <tr>\n      <th>10</th>\n      <td>M1-sub-070/anat/M1_70_01_t1km_image.nii</td>\n      <td>M1-sub-070/anat/M1_70_01_t1km_label.nii</td>\n      <td>1</td>\n      <td>2</td>\n    </tr>\n    <tr>\n      <th>11</th>\n      <td>M2-sub-006/anat/M2_006_01_T1km_image.nii</td>\n      <td>M2-sub-006/anat/M2_006_01_T1km_label.nii</td>\n      <td>2</td>\n      <td>3</td>\n    </tr>\n    <tr>\n      <th>12</th>\n      <td>M2-sub-035/anat/M2_035_01_T1km_image.nii</td>\n      <td>M2-sub-035/anat/M2_035_01_T1km_label.nii</td>\n      <td>2</td>\n      <td>4</td>\n    </tr>\n    <tr>\n      <th>13</th>\n      <td>M2-sub-037/anat/M2_037_01_T1km_image.nii</td>\n      <td>M2-sub-037/anat/M2_037_01_T1km_label.nii</td>\n      <td>2</td>\n      <td>1</td>\n    </tr>\n    <tr>\n      <th>14</th>\n      <td>M2-sub-044/anat/M2_044_01_T1km_image.nii</td>\n      <td>M2-sub-044/anat/M2_044_01_T1km_label.nii</td>\n      <td>2</td>\n      <td>1</td>\n    </tr>\n    <tr>\n      <th>15</th>\n      <td>M2-sub-047/anat/M2_047_01_T1km_image.nii</td>\n      <td>M2-sub-047/anat/M2_047_01_T1km_label.nii</td>\n      <td>2</td>\n      <td>4</td>\n    </tr>\n    <tr>\n      <th>16</th>\n      <td>M2-sub-050/anat/M2_050_01_T1km_image.nii</td>\n      <td>M2-sub-050/anat/M2_050_01_T1km_label.nii</td>\n      <td>2</td>\n      <td>2</td>\n    </tr>\n    <tr>\n      <th>17</th>\n      <td>M2-sub-060/anat/M2_060_01_T1km_image.nii</td>\n      <td>M2-sub-060/anat/M2_060_01_T1km_label.nii</td>\n      <td>2</td>\n      <td>3</td>\n    </tr>\n    <tr>\n      <th>18</th>\n      <td>M2-sub-065/anat/M2_065_01_T1km_image.nii</td>\n      <td>M2-sub-065/anat/M2_065_01_T1km_label.nii</td>\n      <td>2</td>\n      <td>1</td>\n    </tr>\n    <tr>\n      <th>19</th>\n      <td>M2-sub-072/anat/M2_072_01_T1km_image.nii</td>\n      <td>M2-sub-072/anat/M2_072_01_T1km_label.nii</td>\n      <td>2</td>\n      <td>4</td>\n    </tr>\n    <tr>\n      <th>20</th>\n      <td>M2-sub-094/anat/M2_094_01_T1km_image.nii</td>\n      <td>M2-sub-094/anat/M2_094_01_T1km_label.nii</td>\n      <td>2</td>\n      <td>1</td>\n    </tr>\n    <tr>\n      <th>21</th>\n      <td>M2-sub-095/anat/M2_095_01_T1km_image.nii</td>\n      <td>M2-sub-095/anat/M2_095_01_T1km_label.nii</td>\n      <td>2</td>\n      <td>4</td>\n    </tr>\n    <tr>\n      <th>22</th>\n      <td>M2-sub-105/anat/M2_105_01_T1km_image.nii</td>\n      <td>M2-sub-105/anat/M2_105_01_T1km_label.nii</td>\n      <td>2</td>\n      <td>0</td>\n    </tr>\n    <tr>\n      <th>23</th>\n      <td>M2-sub-111/anat/M2_111_01_T1km_image.nii</td>\n      <td>M2-sub-111/anat/M2_111_01_T1km_label.nii</td>\n      <td>2</td>\n      <td>1</td>\n    </tr>\n    <tr>\n      <th>24</th>\n      <td>M3-sub-011/anat/M3_11_01_t1km_image.nii</td>\n      <td>M3-sub-011/anat/M3_11_01_t1km_label.nii</td>\n      <td>2</td>\n      <td>0</td>\n    </tr>\n    <tr>\n      <th>25</th>\n      <td>M3-sub-013/anat/M3_13_01_t1km_image.nii</td>\n      <td>M3-sub-013/anat/M3_13_01_t1km_label.nii</td>\n      <td>2</td>\n      <td>0</td>\n    </tr>\n    <tr>\n      <th>26</th>\n      <td>M3-sub-016/anat/M3_16_01_t1km_image.nii</td>\n      <td>M3-sub-016/anat/M3_16_01_t1km_label.nii</td>\n      <td>2</td>\n      <td>3</td>\n    </tr>\n    <tr>\n      <th>27</th>\n      <td>M3-sub-019/anat/M3_19_01_t1km_image.nii</td>\n      <td>M3-sub-019/anat/M3_19_01_t1km_label.nii</td>\n      <td>2</td>\n      <td>3</td>\n    </tr>\n    <tr>\n      <th>28</th>\n      <td>M3-sub-030/anat/M3_30_01_t1km_image.nii</td>\n      <td>M3-sub-030/anat/M3_30_01_t1km_label.nii</td>\n      <td>2</td>\n      <td>4</td>\n    </tr>\n  </tbody>\n</table>\n</div>"
     },
     "execution_count": 50,
     "metadata": {},
     "output_type": "execute_result"
    }
   ],
   "source": [
    "labels_df"
   ],
   "metadata": {
    "collapsed": false,
    "ExecuteTime": {
     "end_time": "2024-07-06T18:17:13.873754300Z",
     "start_time": "2024-07-06T18:17:13.822617200Z"
    }
   },
   "id": "cd67de3522a3a1f7",
   "execution_count": 50
  },
  {
   "cell_type": "code",
   "outputs": [],
   "source": [],
   "metadata": {
    "collapsed": false
   },
   "id": "18a2aaec756c0cf9"
  }
 ],
 "metadata": {
  "kernelspec": {
   "display_name": "Python 3",
   "language": "python",
   "name": "python3"
  },
  "language_info": {
   "codemirror_mode": {
    "name": "ipython",
    "version": 2
   },
   "file_extension": ".py",
   "mimetype": "text/x-python",
   "name": "python",
   "nbconvert_exporter": "python",
   "pygments_lexer": "ipython2",
   "version": "2.7.6"
  }
 },
 "nbformat": 4,
 "nbformat_minor": 5
}
