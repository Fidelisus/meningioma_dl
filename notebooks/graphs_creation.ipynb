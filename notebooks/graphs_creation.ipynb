{
 "cells": [
  {
   "cell_type": "code",
   "execution_count": 17,
   "id": "initial_id",
   "metadata": {
    "collapsed": true,
    "ExecuteTime": {
     "end_time": "2024-05-26T20:20:02.844812300Z",
     "start_time": "2024-05-26T20:19:45.099147600Z"
    }
   },
   "outputs": [],
   "source": [
    "from pathlib import Path\n",
    "import json\n",
    "import re\n",
    "\n",
    "import plotly\n",
    "import plotly.graph_objects as go\n",
    "\n",
    "\n",
    "def read_plot_from_html(html_file: Path):\n",
    "    with open(html_file, encoding=\"utf8\") as f:\n",
    "        html = f.read()\n",
    "    call_arg_str = re.findall(r\"Plotly\\.newPlot\\((.*)\\)\", html[-(2**16) :])[0]\n",
    "    call_args = json.loads(f\"[{call_arg_str}]\")\n",
    "    plotly_json = {\"data\": call_args[1], \"layout\": call_args[2]}\n",
    "    return plotly.io.from_json(json.dumps(plotly_json))\n",
    "\n",
    "\n",
    "file_name = \"learning_curve.html\"\n",
    "base_dir = Path(r\"Z:\\data\\meningioma\\optuna\\trials\\logs\")\n",
    "\n",
    "augment_02 = {\n",
    "    \"c1_centralized_central_200_epochs_no_resize_basic_02p_00001_lr_099_gamma_resnet_10_3_unfreezed_6354149\": \"00001 lr\",\n",
    "    \"c1_centralized_central_200_epochs_no_resize_basic_02p_00005_lr_099_gamma_resnet_10_3_unfreezed_6354150\": \"00005 lr\",\n",
    "    \"c1_centralized_central_200_epochs_no_resize_basic_02p_0001_lr_099_gamma_resnet_10_3_unfreezed_6354151\": \"0001 lr\",\n",
    "    \"c1_centralized_central_200_epochs_no_resize_basic_02p_001_lr_099_gamma_resnet_10_3_unfreezed_6354180\": \"001 lr\",\n",
    "    \"c1_centralized_central_200_epochs_no_resize_basic_02p_002_lr_099_gamma_resnet_10_3_unfreezed_6354177\": \"002 lr\",\n",
    "    \"c1_centralized_central_200_epochs_no_resize_basic_02p_01_lr_099_gamma_resnet_10_3_unfreezed_6354230\": \"01 lr\",\n",
    "    \"c1_centralized_central_200_epochs_no_resize_basic_02p_02_lr_099_gamma_resnet_10_3_unfreezed_6354231\": \"02 lr\",\n",
    "}\n",
    "augmentation_comparison = {\n",
    "    # \"c1_centralized_central_200_epochs_no_resize_basic_02p_00001_lr_099_gamma_resnet_10_3_unfreezed_6354149\": \"00001 lr 02 augment\",\n",
    "    \"c1_centralized_central_200_epochs_no_resize_basic_08p_00001_lr_099_gamma_resnet_10_3_unfreezed_6354237\": \"00001 lr 08 basic\",\n",
    "    # \"c1_centralized_central_200_epochs_no_resize_basic_02p_0001_lr_099_gamma_resnet_10_3_unfreezed_6354151\": \"0001 lr 02 augment\",\n",
    "    \"c1_centralized_central_200_epochs_no_resize_basic_08p_0001_lr_099_gamma_resnet_10_3_unfreezed_6354236\": \"0001 lr 08 basic\",\n",
    "    \"c1_centralized_central_200_epochs_no_resize_basic_1p_0001_lr_099_gamma_resnet_10_3_unfreezed_6354244\": \"0001 lr 1 basic\",\n",
    "    \"c1_centralized_central_200_epochs_no_resize_strong_less_gaussian_08p_0001_lr_099_gamma_resnet_10_3_unfreezed_6354242\": \"0001 lr 08 strong less gaussian\",\n",
    "    \"c1_centralized_central_200_epochs_no_resize_strong_less_gaussian_1p_0001_lr_099_gamma_resnet_10_3_unfreezed_6354243\": \"0001 lr 1 strong less gaussian\",\n",
    "    \"c1_centralized_central_200_epochs_no_resize_strong_05p_0001_lr_099_gamma_resnet_10_3_unfreezed_6354241\": \"0001 lr 05 strong\",\n",
    "    \"c1_centralized_central_200_epochs_no_resize_strong_08p_0001_lr_099_gamma_resnet_10_3_unfreezed_6354240\": \"0001 lr 08 strong\",\n",
    "    # \"c1_centralized_central_200_epochs_no_resize_basic_02p_001_lr_099_gamma_resnet_10_3_unfreezed_6354180\": \"001 lr 02 augment\",\n",
    "    \"c1_centralized_central_200_epochs_no_resize_basic_08p_001_lr_099_gamma_resnet_10_3_unfreezed_6354234\": \"001 lr 08 basic\",\n",
    "    \"c1_centralized_central_200_epochs_no_resize_strong_less_gaussian_08p_001_lr_099_gamma_resnet_10_3_unfreezed_6354302\": \"001 lr 08 strong less gaussian\",\n",
    "    \"c1_centralized_central_200_epochs_no_resize_strong_less_gaussian_1p_001_lr_099_gamma_resnet_10_3_unfreezed_6355058\": \"001 lr 1 strong less gaussian\",\n",
    "    # \"c1_centralized_central_200_epochs_no_resize_basic_02p_01_lr_099_gamma_resnet_10_3_unfreezed_6354230\": \"01 lr 02 augment\",\n",
    "    \"c1_centralized_central_200_epochs_no_resize_basic_08p_01_lr_099_gamma_resnet_10_3_unfreezed_6354239\": \"01 lr 08 basic\",\n",
    "    \"c2_centralized_central_300_epochs_no_resize_with_bias_correction_05p_0001_lr_099_gamma_resnet_10_3_unfreezed_6363226\": \"0001 lr 05p extended\",\n",
    "    \"c2_centralized_central_300_epochs_no_resize_with_bias_correction_08p_0001_lr_099_gamma_resnet_10_3_unfreezed_6363228\": \"0001 lr 08p extended\",\n",
    "    \"c2_centralized_central_300_epochs_no_resize_with_bias_correction_1p_0001_lr_099_gamma_resnet_10_3_unfreezed_6363230\": \"0001 lr 1p extended\",\n",
    "    \"c3_centralized_central_200_epochs_no_resize_with_bias_correction_1p_001_lr_099_gamma_resnet_10_3_unfreezed_6366464\": \"001 lr 1p extended\",\n",
    "}\n",
    "freezing_comparison = {\n",
    "    \"c1_centralized_central_300_epochs_no_resize_strong_less_gaussian_08p_0001_lr_099_gamma_resnet_10_1_unfreezed_6354561\": \"0001 lr 1 unfreezed\",\n",
    "    \"c1_centralized_central_300_epochs_no_resize_strong_less_gaussian_08p_0001_lr_099_gamma_resnet_10_2_unfreezed_6354562\": \"0001 lr 2 unfreezed\",\n",
    "    \"c1_centralized_central_200_epochs_no_resize_strong_less_gaussian_08p_0001_lr_099_gamma_resnet_10_3_unfreezed_6354242\": \"0001 lr 3 unfreezed\",\n",
    "    \"c1_centralized_central_300_epochs_no_resize_strong_less_gaussian_08p_0001_lr_099_gamma_resnet_10_4_unfreezed_6354563\": \"0001 lr 4 unfreezed\",\n",
    "    \"c3_centralized_central_200_epochs_no_resize_with_bias_correction_08p_0001_lr_099_gamma_resnet_10_4_unfreezed_6366456\": \"0001 lr 08 aug 4 unfreezed\",\n",
    "    \"c3_centralized_central_200_epochs_no_resize_with_bias_correction_1p_0001_lr_099_gamma_resnet_10_4_unfreezed_6366459\": \"0001 lr 1 aug 4 unfreezed\",\n",
    "    \"c3_centralized_central_200_epochs_70_padding_with_bias_correction_1p_0001_lr_099_gamma_resnet_10_4_unfreezed_6366453\": \"padding 0001 lr 1 aug 4 unfreezed\",\n",
    "    \n",
    "    \"c1_centralized_central_200_epochs_no_resize_basic_08p_001_lr_099_gamma_resnet_10_2_unfreezed_6354303\": \"001 lr 2 unfreezed\",\n",
    "    \"c1_centralized_central_200_epochs_no_resize_strong_less_gaussian_08p_001_lr_099_gamma_resnet_10_3_unfreezed_6354302\": \"001 lr 3 unfreezed\",\n",
    "    \"c1_centralized_central_300_epochs_no_resize_strong_less_gaussian_08p_001_lr_099_gamma_resnet_10_4_unfreezed_6354565\": \"001 lr 4 unfreezed\",\n",
    "    \n",
    "    \"c1_centralized_central_400_epochs_no_resize_strong_less_gaussian_08p_0001_lr_099_gamma_resnet_10_4_unfreezed_6354791\": \"long 0001 lr 4 unfreezed\",\n",
    "    \"c1_centralized_central_400_epochs_no_resize_strong_less_gaussian_08p_001_lr_099_gamma_resnet_10_4_unfreezed_6354792\": \"long 001 lr 4 unfreezed\",\n",
    "    \"c3_centralized_central_200_epochs_no_resize_with_bias_correction_08p_001_lr_099_gamma_resnet_10_4_unfreezed_6366458\": \"001 lr 08 aug 4 unfreezed\",\n",
    "    \"c3_centralized_central_200_epochs_no_resize_with_bias_correction_1p_001_lr_099_gamma_resnet_10_4_unfreezed_6366462\": \"001 lr 1 aug 4 unfreezed\",\n",
    "    \"c3_centralized_central_200_epochs_70_padding_with_bias_correction_1p_001_lr_099_gamma_resnet_10_4_unfreezed_6366454\": \"padding 001 lr 1 aug 4 unfreezed\",\n",
    "    \n",
    "    \"c1_centralized_central_400_epochs_no_resize_strong_less_gaussian_08p_001_lr_099_gamma_resnet_34_4_unfreezed_6354869\": \"long 001 lr resnet 34\",\n",
    "}\n",
    "\n",
    "two_classes = {\n",
    "    \"c1_centralized_central_200_epochs_no_resize_strong_less_gaussian_08p_001_lr_099_gamma_class_2_and_3_together_3_unfreezed_6354648\": \"001 lr 08 strong less gaussian\",\n",
    "    \"c1_centralized_central_200_epochs_no_resize_strong_less_gaussian_08p_0001_lr_099_gamma_class_2_and_3_together_3_unfreezed_6354647\": \"0001 lr 08 strong less gaussian\",\n",
    " \"c1_centralized_central_400_epochs_no_resize_strong_less_gaussian_08p_0001_lr_099_gamma_class_2_and_3_together_4_unfreezed_6354793\": \"0001 lr 4 unfreezed\",\n",
    "    \"c1_centralized_central_400_epochs_no_resize_strong_less_gaussian_08p_001_lr_099_gamma_class_2_and_3_together_4_unfreezed_6354794\": \"001 lr 4 unfreezed\",\n",
    "    \"c1_centralized_central_200_epochs_no_resize_strong_less_gaussian_1p_0001_lr_099_gamma_class_2_and_3_together_4_unfreezed_6355017\": \"0001 lr 4 unfreezed 1 augment\",\n",
    "    \"c1_centralized_central_200_epochs_no_resize_strong_less_gaussian_1p_001_lr_099_gamma_class_2_and_3_together_4_unfreezed_6355016\": \"001 lr 4 unfreezed 1 augment\",   \n",
    " \"c1_centralized_central_400_epochs_no_resize_strong_less_gaussian_08p_001_lr_099_gamma_class_2_and_3_together_4_unfreezed_resnet_34_6354877\": \"001 lr big model\",\n",
    "    \"c1_centralized_central_200_epochs_70_padding_strong_less_gaussian_08p_0001_lr_099_gamma_class_2_and_3_together_4_unfreezed_6355013\": \"0001 lr 70 padding\",\n",
    "    \"c1_centralized_central_200_epochs_70_padding_strong_less_gaussian_08p_001_lr_099_gamma_class_2_and_3_together_4_unfreezed_6355012\": \"001 lr 70 padding\",\n",
    "    \"c2_centralized_central_300_epochs_no_resize_with_bias_correction_05p_0001_lr_099_gamma_class_2_and_3_together_4_unfreezed_6363225\": \"0001 lr 05 extended\",\n",
    "    \"c2_centralized_central_300_epochs_no_resize_with_bias_correction_08p_0001_lr_099_gamma_class_2_and_3_together_4_unfreezed_6363227\": \"0001 lr 08 extended\",\n",
    "    \"c2_centralized_central_300_epochs_no_resize_with_bias_correction_1p_0001_lr_099_gamma_class_2_and_3_together_4_unfreezed_6363229\": \"0001 lr 1 extended\",\n",
    "    \"c3_centralized_central_200_epochs_no_resize_with_bias_correction_1p_0001_lr_099_gamma_class_2_and_3_together_3_unfreezed_6366436\": \"0001 lr 1 extended 3 unfreezed\",\n",
    "    \"c3_centralized_central_200_epochs_no_resize_with_bias_correction_05p_001_lr_099_gamma_class_2_and_3_together_4_unfreezed_6366442\": \"001 lr 05 extended\",\n",
    "    \"c3_centralized_central_200_epochs_no_resize_with_bias_correction_1p_001_lr_099_gamma_class_2_and_3_together_4_unfreezed_6366444\": \"001 lr 1 extended\",\n",
    "    \"c3_centralized_central_200_epochs_no_resize_with_bias_correction_1p_001_lr_099_gamma_class_2_and_3_together_3_unfreezed_6366438\": \"001 lr 1 extended 3 unfreezed\",\n",
    "    \"c3_centralized_central_200_epochs_70_padding_with_bias_correction_1p_0001_lr_099_gamma_class_2_and_3_together_4_unfreezed_6366446\": \"0001 padding\",\n",
    "    \"c3_centralized_central_200_epochs_70_padding_with_bias_correction_1p_001_lr_099_gamma_class_2_and_3_together_4_unfreezed_6366447\": \"001 padding\",\n",
    "}\n",
    "\n",
    "cv_2_classes = {\n",
    "    \"c1_cross_validation_centralized_central_300_epochs_no_resize_strong_less_gaussian_08p_0001_lr_099_gamma_class_2_and_3_together_4_unfreezed_6355087\": \"0\",\n",
    "    \"c1_cross_validation_centralized_central_300_epochs_no_resize_strong_less_gaussian_08p_0001_lr_099_gamma_class_2_and_3_together_4_unfreezed_6355088\": \"1\",\n",
    "    \"c1_cross_validation_centralized_central_300_epochs_no_resize_strong_less_gaussian_08p_0001_lr_099_gamma_class_2_and_3_together_4_unfreezed_6355089\": \"2\",\n",
    "    \"c1_cross_validation_centralized_central_300_epochs_no_resize_strong_less_gaussian_08p_0001_lr_099_gamma_class_2_and_3_together_4_unfreezed_6355090\": \"3\",\n",
    "    \"c1_cross_validation_centralized_central_300_epochs_no_resize_strong_less_gaussian_08p_0001_lr_099_gamma_class_2_and_3_together_4_unfreezed_6355091\": \"4\",\n",
    "}\n",
    "runs_ids = freezing_comparison\n",
    "figs = {}\n",
    "for run_id in runs_ids:\n",
    "    fig = read_plot_from_html(base_dir / run_id / file_name)\n",
    "    figs[run_id] = fig"
   ]
  },
  {
   "cell_type": "code",
   "outputs": [],
   "source": [
    "from itertools import cycle\n",
    "\n",
    "traces_to_plot = {}\n",
    "best_f_scores = {}\n",
    "\n",
    "LIGHT_COLORS = cycle([\"#e8afa0\", \"#e3d88f\", \"#bfe38f\", \"#a1e6bb\", \"#9bd0d1\", \"#9595de\", \"#deb6dc\"])\n",
    "DARK_COLORS = cycle([\"#e65430\", \"#e6cd30\", \"#8ede26\", \"#24d669\", \"#1fdbde\", \"#2222e3\", \"#e31ed9\"])\n",
    "traces_names_to_plot = [\"training loss\", \"validation loss\"]\n",
    "\n",
    "new_fig = go.Figure()\n",
    "f_score_fig = go.Figure()\n",
    "for run_id, fig in figs.items():\n",
    "    for trace in fig[\"data\"]:\n",
    "        trace_name = trace[\"name\"]\n",
    "        if trace_name == \"F1 score\":\n",
    "            best_f_scores[run_id] = max(trace[\"y\"])\n",
    "        if trace_name in traces_names_to_plot:\n",
    "            new_fig.add_trace(\n",
    "                go.Scatter(\n",
    "                    x=trace[\"x\"],\n",
    "                    y=trace[\"y\"],\n",
    "                    name=f'{runs_ids[run_id]} {trace[\"name\"]}',\n",
    "                    mode=\"lines\",\n",
    "                    line_color= (\n",
    "                        next(LIGHT_COLORS) if trace_name == \"training loss\" else next(DARK_COLORS)\n",
    "                    )\n",
    "                )\n",
    "            )\n",
    "        if trace_name == \"F1 score\":\n",
    "            f_score_fig.add_trace(\n",
    "                go.Scatter(\n",
    "                    x=trace[\"x\"],\n",
    "                    y=trace[\"y\"],\n",
    "                    name=f'{runs_ids[run_id]} F score',\n",
    "                    mode=\"lines\",\n",
    "                    line_color= next(DARK_COLORS)\n",
    "                )\n",
    "            )"
   ],
   "metadata": {
    "collapsed": false,
    "ExecuteTime": {
     "end_time": "2024-05-26T20:20:03.077610100Z",
     "start_time": "2024-05-26T20:20:02.851811200Z"
    }
   },
   "id": "6cf589ef3d38da60",
   "execution_count": 18
  },
  {
   "cell_type": "code",
   "outputs": [],
   "source": [
    "name = \"freezing_comparison\"\n",
    "new_fig.write_html(f\"learning_curves_{name}.html\")\n",
    "f_score_fig.write_html(f\"f_scores_{name}.html\")"
   ],
   "metadata": {
    "collapsed": false,
    "ExecuteTime": {
     "end_time": "2024-05-26T20:20:03.230609Z",
     "start_time": "2024-05-26T20:20:03.080609800Z"
    }
   },
   "id": "7a0691c37b7e37a7",
   "execution_count": 19
  },
  {
   "cell_type": "code",
   "outputs": [
    {
     "name": "stdout",
     "output_type": "stream",
     "text": [
      "c1_centralized_central_300_epochs_no_resize_strong_less_gaussian_08p_0001_lr_099_gamma_resnet_10_1_unfreezed_6354561\t0.419\n",
      "c1_centralized_central_300_epochs_no_resize_strong_less_gaussian_08p_0001_lr_099_gamma_resnet_10_2_unfreezed_6354562\t0.5054\n",
      "c1_centralized_central_200_epochs_no_resize_strong_less_gaussian_08p_0001_lr_099_gamma_resnet_10_3_unfreezed_6354242\t0.5549\n",
      "c1_centralized_central_300_epochs_no_resize_strong_less_gaussian_08p_0001_lr_099_gamma_resnet_10_4_unfreezed_6354563\t0.413\n",
      "c3_centralized_central_200_epochs_no_resize_with_bias_correction_08p_0001_lr_099_gamma_resnet_10_4_unfreezed_6366456\t0.5809\n",
      "c3_centralized_central_200_epochs_no_resize_with_bias_correction_1p_0001_lr_099_gamma_resnet_10_4_unfreezed_6366459\t0.5054\n",
      "c3_centralized_central_200_epochs_70_padding_with_bias_correction_1p_0001_lr_099_gamma_resnet_10_4_unfreezed_6366453\t0.4636\n",
      "c1_centralized_central_200_epochs_no_resize_basic_08p_001_lr_099_gamma_resnet_10_2_unfreezed_6354303\t0.5231\n",
      "c1_centralized_central_200_epochs_no_resize_strong_less_gaussian_08p_001_lr_099_gamma_resnet_10_3_unfreezed_6354302\t0.5348\n",
      "c1_centralized_central_300_epochs_no_resize_strong_less_gaussian_08p_001_lr_099_gamma_resnet_10_4_unfreezed_6354565\t0.6859\n",
      "c1_centralized_central_400_epochs_no_resize_strong_less_gaussian_08p_0001_lr_099_gamma_resnet_10_4_unfreezed_6354791\t0.6197\n",
      "c1_centralized_central_400_epochs_no_resize_strong_less_gaussian_08p_001_lr_099_gamma_resnet_10_4_unfreezed_6354792\t0.503\n",
      "c3_centralized_central_200_epochs_no_resize_with_bias_correction_08p_001_lr_099_gamma_resnet_10_4_unfreezed_6366458\t0.5867\n",
      "c3_centralized_central_200_epochs_no_resize_with_bias_correction_1p_001_lr_099_gamma_resnet_10_4_unfreezed_6366462\t0.5387\n",
      "c3_centralized_central_200_epochs_70_padding_with_bias_correction_1p_001_lr_099_gamma_resnet_10_4_unfreezed_6366454\t0.4768\n",
      "c1_centralized_central_400_epochs_no_resize_strong_less_gaussian_08p_001_lr_099_gamma_resnet_34_4_unfreezed_6354869\t0.446\n"
     ]
    }
   ],
   "source": [
    "for run_id, score in best_f_scores.items():\n",
    "    print(f\"{run_id}\t{round(score, 4)}\")"
   ],
   "metadata": {
    "collapsed": false,
    "ExecuteTime": {
     "end_time": "2024-05-26T20:20:03.255609100Z",
     "start_time": "2024-05-26T20:20:03.239614900Z"
    }
   },
   "id": "3a296e5329284555",
   "execution_count": 20
  },
  {
   "cell_type": "code",
   "outputs": [],
   "source": [],
   "metadata": {
    "collapsed": false
   },
   "id": "5161bdadcfaf037a"
  }
 ],
 "metadata": {
  "kernelspec": {
   "display_name": "Python 3",
   "language": "python",
   "name": "python3"
  },
  "language_info": {
   "codemirror_mode": {
    "name": "ipython",
    "version": 2
   },
   "file_extension": ".py",
   "mimetype": "text/x-python",
   "name": "python",
   "nbconvert_exporter": "python",
   "pygments_lexer": "ipython2",
   "version": "2.7.6"
  }
 },
 "nbformat": 4,
 "nbformat_minor": 5
}
